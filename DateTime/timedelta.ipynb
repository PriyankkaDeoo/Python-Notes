{
 "cells": [
  {
   "cell_type": "code",
   "execution_count": 2,
   "id": "01134583",
   "metadata": {},
   "outputs": [
    {
     "name": "stdout",
     "output_type": "stream",
     "text": [
      "Minimum value of timedelta object -999999999 days, 0:00:00\n",
      "Maximum value of timedelta object 999999999 days, 23:59:59.999999\n"
     ]
    }
   ],
   "source": [
    "#attributes provided by timedelta\n",
    "from datetime import timedelta\n",
    " \n",
    "# Getting minimum value\n",
    "Min = timedelta.min\n",
    "print(\"Minimum value of timedelta object\", Min)\n",
    " \n",
    "# Getting minimum value\n",
    "Max = timedelta.max\n",
    "print(\"Maximum value of timedelta object\", Max)"
   ]
  },
  {
   "cell_type": "code",
   "execution_count": 1,
   "id": "4228358d",
   "metadata": {},
   "outputs": [
    {
     "name": "stdout",
     "output_type": "stream",
     "text": [
      "3600.0\n",
      "60.0\n",
      "86400.0\n"
     ]
    }
   ],
   "source": [
    "#total_seconds()\n",
    "from datetime import timedelta\n",
    " \n",
    "# Getting minimum value\n",
    "obj = timedelta(hours=1)\n",
    "print(obj.total_seconds())\n",
    " \n",
    "obj = timedelta(minutes=1)\n",
    "print(obj.total_seconds())\n",
    " \n",
    "obj = timedelta(days=1)\n",
    "print(obj.total_seconds())"
   ]
  },
  {
   "cell_type": "code",
   "execution_count": 3,
   "id": "ffafdb23",
   "metadata": {},
   "outputs": [
    {
     "name": "stdout",
     "output_type": "stream",
     "text": [
      "Original timedelta: 1 day, 0:00:00\n",
      "After Multiplication: 5 days, 12:00:00\n",
      "After Subtraction: 4 days, 12:00:00\n",
      "After Addition: 10 days, 0:00:00\n",
      "After division: 2 days, 4:48:00\n",
      "After floor division: 2 days, 18:00:00\n",
      "After Modulo: 2 days, 12:00:00\n"
     ]
    }
   ],
   "source": [
    "#Opertaions supported by timedelta\n",
    "from datetime import timedelta\n",
    " \n",
    "# creating the timedelta object\n",
    "t1 = timedelta(days=1)\n",
    "print(\"Original timedelta:\", t1)\n",
    " \n",
    "# multiplication\n",
    "t2 = t1*5.5\n",
    "print(\"After Multiplication:\", t2)\n",
    " \n",
    "# Subtraction\n",
    "res = t2 - t1\n",
    "print(\"After Subtraction:\", res)\n",
    " \n",
    "# addition\n",
    "res += t2\n",
    "print(\"After Addition:\", res)\n",
    " \n",
    "# division\n",
    "res = t2/2.5\n",
    "print(\"After division:\", res)\n",
    " \n",
    "# floor division\n",
    "res = t2 //2\n",
    "print(\"After floor division:\", res)\n",
    " \n",
    "# Modulo\n",
    "res = t2%timedelta(days=3)\n",
    "print(\"After Modulo:\", res)"
   ]
  },
  {
   "cell_type": "code",
   "execution_count": null,
   "id": "a9f3d093",
   "metadata": {},
   "outputs": [],
   "source": []
  }
 ],
 "metadata": {
  "kernelspec": {
   "display_name": "Python 3 (ipykernel)",
   "language": "python",
   "name": "python3"
  },
  "language_info": {
   "codemirror_mode": {
    "name": "ipython",
    "version": 3
   },
   "file_extension": ".py",
   "mimetype": "text/x-python",
   "name": "python",
   "nbconvert_exporter": "python",
   "pygments_lexer": "ipython3",
   "version": "3.10.4"
  }
 },
 "nbformat": 4,
 "nbformat_minor": 5
}
