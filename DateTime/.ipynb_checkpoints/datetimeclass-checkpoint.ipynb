{
 "cells": [
  {
   "cell_type": "code",
   "execution_count": 1,
   "id": "084fc67d",
   "metadata": {},
   "outputs": [
    {
     "name": "stdout",
     "output_type": "stream",
     "text": [
      "Now    : 2022-09-21 10:18:01.647254\n",
      "Today  : 2022-09-21 10:18:01.648252\n",
      "UTC Now: 2022-09-21 04:48:01.648252\n",
      "\n"
     ]
    }
   ],
   "source": [
    "#now #today #utcnow\n",
    "import datetime\n",
    "\n",
    "print('Now    :', datetime.datetime.now())\n",
    "print('Today  :', datetime.datetime.today())\n",
    "print('UTC Now:', datetime.datetime.utcnow())\n",
    "print()"
   ]
  },
  {
   "cell_type": "code",
   "execution_count": null,
   "id": "dae00a7e",
   "metadata": {},
   "outputs": [],
   "source": []
  }
 ],
 "metadata": {
  "kernelspec": {
   "display_name": "Python 3 (ipykernel)",
   "language": "python",
   "name": "python3"
  },
  "language_info": {
   "codemirror_mode": {
    "name": "ipython",
    "version": 3
   },
   "file_extension": ".py",
   "mimetype": "text/x-python",
   "name": "python",
   "nbconvert_exporter": "python",
   "pygments_lexer": "ipython3",
   "version": "3.10.4"
  }
 },
 "nbformat": 4,
 "nbformat_minor": 5
}
