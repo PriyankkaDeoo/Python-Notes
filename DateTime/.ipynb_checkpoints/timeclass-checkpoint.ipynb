{
 "cells": [
  {
   "cell_type": "code",
   "execution_count": 2,
   "id": "a19bb627",
   "metadata": {},
   "outputs": [
    {
     "name": "stdout",
     "output_type": "stream",
     "text": [
      "Min Time supported 00:00:00\n",
      "Max Time supported 23:59:59.999999\n",
      "fold has occured <attribute 'fold' of 'datetime.time' objects>\n",
      "Hour: 12\n",
      "Minutes: 24\n",
      "Seconds: 36\n",
      "Microseconds: 1212\n",
      "timezone: None\n"
     ]
    }
   ],
   "source": [
    "#attributes of the class time\n",
    "\n",
    "from datetime import time\n",
    "mintime = time.min\n",
    "print(\"Min Time supported\", mintime)\n",
    "maxtime = time.max\n",
    "print(\"Max Time supported\", maxtime)\n",
    "fold = time.fold\n",
    "print(\"fold has occured\", fold)\n",
    "# Creating Time object\n",
    "Time = time(12,24,36,1212)\n",
    "print(\"Hour:\", Time.hour)\n",
    "print(\"Minutes:\", Time.minute)\n",
    "print(\"Seconds:\", Time.second)\n",
    "print(\"Microseconds:\", Time.microsecond)\n",
    "print(\"timezone:\", Time.tzinfo)"
   ]
  },
  {
   "cell_type": "code",
   "execution_count": 3,
   "id": "a05b2b31",
   "metadata": {},
   "outputs": [
    {
     "name": "stdout",
     "output_type": "stream",
     "text": [
      "String Representation: 12:24:36.001212\n",
      "<class 'str'>\n",
      "\n",
      "Time from String 12:24:36.001212\n",
      "<class 'datetime.time'>\n",
      "New Time: 13:24:12.001212\n",
      "Formatted time 01:24 PM\n"
     ]
    }
   ],
   "source": [
    "from datetime import time\n",
    " \n",
    "# Creating Time object\n",
    "Time = time(12,24,36,1212)\n",
    " \n",
    "# Converting Time object to string\n",
    "Str = Time.isoformat()\n",
    "print(\"String Representation:\", Str)\n",
    "print(type(Str))\n",
    "Time = \"12:24:36.001212\"\n",
    "# Converting string to Time object\n",
    "Time = time.fromisoformat(Str)\n",
    "print(\"\\nTime from String\", Time)\n",
    "print(type(Time))\n",
    "# Replacing hour\n",
    "Time = Time.replace(hour = 13, second = 12)\n",
    "print(\"New Time:\", Time)\n",
    "# Formatting Time\n",
    "Ftime = Time.strftime(\"%I:%M %p\")\n",
    "print(\"Formatted time\", Ftime)"
   ]
  },
  {
   "cell_type": "code",
   "execution_count": 5,
   "id": "34b0018b",
   "metadata": {},
   "outputs": [
    {
     "ename": "ModuleNotFoundError",
     "evalue": "No module named 'pandas'",
     "output_type": "error",
     "traceback": [
      "\u001b[1;31m---------------------------------------------------------------------------\u001b[0m",
      "\u001b[1;31mModuleNotFoundError\u001b[0m                       Traceback (most recent call last)",
      "Input \u001b[1;32mIn [5]\u001b[0m, in \u001b[0;36m<cell line: 2>\u001b[1;34m()\u001b[0m\n\u001b[0;32m      1\u001b[0m \u001b[38;5;66;03m# importing pandas as pd\u001b[39;00m\n\u001b[1;32m----> 2\u001b[0m \u001b[38;5;28;01mimport\u001b[39;00m \u001b[38;5;21;01mpandas\u001b[39;00m \u001b[38;5;28;01mas\u001b[39;00m \u001b[38;5;21;01mpd\u001b[39;00m\n\u001b[0;32m      3\u001b[0m \u001b[38;5;66;03m# Create the Timestamp object\u001b[39;00m\n\u001b[0;32m      4\u001b[0m ts \u001b[38;5;241m=\u001b[39m pd\u001b[38;5;241m.\u001b[39mTimestamp(\u001b[38;5;124m'\u001b[39m\u001b[38;5;124m2015-03-31 15:47:25.901597\u001b[39m\u001b[38;5;124m'\u001b[39m, tz \u001b[38;5;241m=\u001b[39m \u001b[38;5;124m'\u001b[39m\u001b[38;5;124mUS/Eastern\u001b[39m\u001b[38;5;124m'\u001b[39m)\n",
      "\u001b[1;31mModuleNotFoundError\u001b[0m: No module named 'pandas'"
     ]
    }
   ],
   "source": [
    "# importing pandas as pd\n",
    "import pandas as pd\n",
    "# Create the Timestamp object\n",
    "ts = pd.Timestamp('2015-03-31 15:47:25.901597', tz = 'US/Eastern')\n",
    "# Print the Timestamp object\n",
    "print(ts)\n",
    "# return the dst\n",
    "ts.dst()"
   ]
  },
  {
   "cell_type": "code",
   "execution_count": null,
   "id": "ebc93b08",
   "metadata": {},
   "outputs": [],
   "source": []
  }
 ],
 "metadata": {
  "kernelspec": {
   "display_name": "Python 3 (ipykernel)",
   "language": "python",
   "name": "python3"
  },
  "language_info": {
   "codemirror_mode": {
    "name": "ipython",
    "version": 3
   },
   "file_extension": ".py",
   "mimetype": "text/x-python",
   "name": "python",
   "nbconvert_exporter": "python",
   "pygments_lexer": "ipython3",
   "version": "3.10.4"
  }
 },
 "nbformat": 4,
 "nbformat_minor": 5
}
