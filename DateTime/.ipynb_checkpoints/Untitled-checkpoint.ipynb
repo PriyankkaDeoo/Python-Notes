{
 "cells": [
  {
   "cell_type": "code",
   "execution_count": 9,
   "id": "6adae55b",
   "metadata": {},
   "outputs": [
    {
     "name": "stdout",
     "output_type": "stream",
     "text": [
      "passed date is:  2022-03-30\n",
      "passed date is:  2022-03-30\n"
     ]
    }
   ],
   "source": [
    "#date class example\n",
    "\n",
    "import datetime\n",
    "my_date=datetime.date(2022,3,30)\n",
    "print(\"passed date is: \" , my_date)\n",
    "\n",
    "#OR\n",
    "\n",
    "from datetime import date\n",
    "my_date=date(2022,3,30)\n",
    "print(\"passed date is: \" , my_date)"
   ]
  },
  {
   "cell_type": "code",
   "execution_count": 10,
   "id": "d2d3c0bb",
   "metadata": {},
   "outputs": [
    {
     "name": "stdout",
     "output_type": "stream",
     "text": [
      "Min Date supported 0001-01-01\n",
      "Max Date supported 9999-12-31\n"
     ]
    }
   ],
   "source": [
    "#min max attribute of class date\n",
    "from datetime import date\n",
    "# Getting min date\n",
    "mindate = date.min\n",
    "print(\"Min Date supported\", mindate)\n",
    "# Getting max date\n",
    "maxdate = date.max\n",
    "print(\"Max Date supported\", maxdate)"
   ]
  },
  {
   "cell_type": "code",
   "execution_count": 11,
   "id": "d9814371",
   "metadata": {},
   "outputs": [
    {
     "name": "stdout",
     "output_type": "stream",
     "text": [
      "Year: 2020\n",
      "Month: 12\n",
      "Day: 11\n"
     ]
    }
   ],
   "source": [
    "#year,month, day attribute of class date\n",
    "from datetime import date\n",
    "# creating the date object\n",
    "Date = date(2020, 12, 11)\n",
    "# Accessing the attributes\n",
    "print(\"Year:\", Date.year)\n",
    "print(\"Month:\", Date.month)\n",
    "print(\"Day:\", Date.day)"
   ]
  },
  {
   "cell_type": "code",
   "execution_count": 16,
   "id": "b3485014",
   "metadata": {},
   "outputs": [
    {
     "name": "stdout",
     "output_type": "stream",
     "text": [
      "2022-08-09\n",
      "Weekday using weekday(): 1\n",
      "Weekday using isoweekday(): 2\n",
      "proleptic Gregorian ordinal: 738376\n",
      "Date from ordinal 2018-11-02\n",
      "String reprensetation 2022-08-09\n"
     ]
    }
   ],
   "source": [
    "#functions of class date\n",
    "\n",
    "from datetime import date\n",
    "\n",
    "today=date.today()\n",
    "print(today)\n",
    "print(\"Weekday using weekday():\", today.weekday())\n",
    "print(\"Weekday using isoweekday():\", today.isoweekday())\n",
    "print(\"proleptic Gregorian ordinal:\", today.toordinal())\n",
    "print(\"Date from ordinal\", date.fromordinal(737000))\n",
    "print(\"String reprensetation\", date.isoformat(today))"
   ]
  },
  {
   "cell_type": "code",
   "execution_count": 19,
   "id": "0604aa57",
   "metadata": {},
   "outputs": [
    {
     "name": "stdout",
     "output_type": "stream",
     "text": [
      "Min Time supported 00:00:00\n",
      "Max Time supported 23:59:59.999999\n",
      "Hour: 12\n",
      "Minutes: 24\n",
      "Seconds: 36\n",
      "Microseconds: 1212\n"
     ]
    }
   ],
   "source": [
    "#attributes of the class time\n",
    "\n",
    "\n",
    "from datetime import time\n",
    "mintime = time.min\n",
    "print(\"Min Time supported\", mintime)\n",
    "maxtime = time.max\n",
    "print(\"Max Time supported\", maxtime)\n",
    "fold = time.fold\n",
    "print(\"fold has occured\", fold)\n",
    "# Creating Time object\n",
    "Time = time(12,24,36,1212)\n",
    "print(\"Hour:\", Time.hour)\n",
    "print(\"Minutes:\", Time.minute)\n",
    "print(\"Seconds:\", Time.second)\n",
    "print(\"Microseconds:\", Time.microsecond)\n"
   ]
  },
  {
   "cell_type": "code",
   "execution_count": 21,
   "id": "6806f698",
   "metadata": {},
   "outputs": [
    {
     "name": "stdout",
     "output_type": "stream",
     "text": [
      "String Representation: 12:24:36.001212\n",
      "<class 'str'>\n",
      "\n",
      "Time from String 12:24:36.001212\n",
      "<class 'datetime.time'>\n",
      "Original time: 12:24:36.001212\n",
      "New Time: 13:24:12.001212\n",
      "Formatted time 01:24 PM\n"
     ]
    }
   ],
   "source": [
    "#functions of Time class\n",
    "\n",
    "from datetime import time\n",
    "# Creating Time object\n",
    "Time = time(12,24,36,1212)\n",
    "# Converting Time object to string\n",
    "Str = Time.isoformat()\n",
    "print(\"String Representation:\", Str)\n",
    "print(type(Str))\n",
    " \n",
    "Time = \"12:24:36.001212\"\n",
    " \n",
    "# Converting string to Time object\n",
    "Time = time.fromisoformat(Str)\n",
    "print(\"\\nTime from String\", Time)\n",
    "print(type(Time))\n",
    "\n",
    "Time = time(12,24,36,1212)\n",
    "print(\"Original time:\", Time)\n",
    " \n",
    "# Replacing hour\n",
    "Time = Time.replace(hour = 13, second = 12)\n",
    "print(\"New Time:\", Time)\n",
    " \n",
    "# Formatting Time\n",
    "Ftime = Time.strftime(\"%I:%M %p\")\n",
    "print(\"Formatted time\", Ftime)"
   ]
  },
  {
   "cell_type": "code",
   "execution_count": 22,
   "id": "eb268f7d",
   "metadata": {},
   "outputs": [
    {
     "name": "stdout",
     "output_type": "stream",
     "text": [
      "Today's date using now() method: 2022-08-09 17:26:06.618411\n",
      "Today's date using today() method: 2022-08-09 17:26:06.618412\n",
      "Datetime from timestamp: 2029-10-25 21:47:48\n",
      "Datetime from ordinal: 2021-07-23 00:00:00\n"
     ]
    }
   ],
   "source": [
    "#DateTime class\n",
    "\n",
    "\n",
    "from datetime import datetime\n",
    "  \n",
    "# Getting Today's Datetime\n",
    "today = datetime.now()\n",
    "print(\"Today's date using now() method:\", today)\n",
    "  \n",
    "today = datetime.today()\n",
    "print(\"Today's date using today() method:\", today)\n",
    "\n",
    "date_time = datetime.fromtimestamp(1887639468)\n",
    "print(\"Datetime from timestamp:\", date_time)\n",
    "  \n",
    "# Getting Datetime from ordinal\n",
    "date_time = datetime.fromordinal(737994)\n",
    "print(\"Datetime from ordinal:\", date_time)"
   ]
  },
  {
   "cell_type": "code",
   "execution_count": 23,
   "id": "68724eb5",
   "metadata": {},
   "outputs": [
    {
     "name": "stdout",
     "output_type": "stream",
     "text": [
      "Difference in dates: 31 days, 0:00:00\n",
      "Date1 after 4 days: 2020-01-07 00:00:00\n",
      "Date1 before 15 days: 2019-12-23 00:00:00\n"
     ]
    }
   ],
   "source": [
    "#timedelta class\n",
    "\n",
    "# Timedelta function demonstration\n",
    "\n",
    "from datetime import datetime, timedelta\n",
    "\n",
    "# creating datetime objects\n",
    "date1 = datetime(2020, 1, 3)\n",
    "date2 = datetime(2020, 2, 3)\n",
    "\n",
    "# difference between dates\n",
    "diff = date2 - date1\n",
    "print(\"Difference in dates:\", diff)\n",
    "\n",
    "# Adding days to date1\n",
    "date1 += timedelta(days = 4)\n",
    "print(\"Date1 after 4 days:\", date1)\n",
    "\n",
    "# Subtracting days from date1\n",
    "date1 -= timedelta(15)\n",
    "print(\"Date1 before 15 days:\", date1)\n"
   ]
  },
  {
   "cell_type": "code",
   "execution_count": 24,
   "id": "fffb5333",
   "metadata": {},
   "outputs": [
    {
     "name": "stdout",
     "output_type": "stream",
     "text": [
      "3600.0\n",
      "60.0\n",
      "86400.0\n"
     ]
    }
   ],
   "source": [
    "#functions by timedelta class\n",
    "from datetime import timedelta\n",
    " \n",
    "# Getting minimum value\n",
    "obj = timedelta(hours=1)\n",
    "print(obj.total_seconds())\n",
    " \n",
    "obj = timedelta(minutes=1)\n",
    "print(obj.total_seconds())\n",
    " \n",
    "obj = timedelta(days=1)\n",
    "print(obj.total_seconds())"
   ]
  },
  {
   "cell_type": "code",
   "execution_count": 25,
   "id": "a4b162d6",
   "metadata": {},
   "outputs": [
    {
     "name": "stdout",
     "output_type": "stream",
     "text": [
      "Original timedelta: 1 day, 0:00:00\n",
      "After Multiplication: 5 days, 12:00:00\n",
      "After Subtraction: 4 days, 12:00:00\n",
      "After Addition: 10 days, 0:00:00\n",
      "After division: 2 days, 4:48:00\n",
      "After floor division: 2 days, 18:00:00\n",
      "After Modulo: 2 days, 12:00:00\n"
     ]
    }
   ],
   "source": [
    "#operators supported by timedelta class\n",
    "\n",
    "\n",
    "from datetime import timedelta\n",
    " \n",
    "# creating the timedelta object\n",
    "t1 = timedelta(days=1)\n",
    "print(\"Original timedelta:\", t1)\n",
    " \n",
    "# multiplication\n",
    "t2 = t1*5.5\n",
    "print(\"After Multiplication:\", t2)\n",
    " \n",
    "# Subtraction\n",
    "res = t2 - t1\n",
    "print(\"After Subtraction:\", res)\n",
    " \n",
    "# addition\n",
    "res += t2\n",
    "print(\"After Addition:\", res)\n",
    " \n",
    "# division\n",
    "res = t2/2.5\n",
    "print(\"After division:\", res)\n",
    " \n",
    "# floor division\n",
    "res = t2 //2\n",
    "print(\"After floor division:\", res)\n",
    " \n",
    "# Modulo\n",
    "res = t2%timedelta(days=3)\n",
    "print(\"After Modulo:\", res)"
   ]
  },
  {
   "cell_type": "code",
   "execution_count": 1,
   "id": "ddbfbe71",
   "metadata": {},
   "outputs": [
    {
     "name": "stdout",
     "output_type": "stream",
     "text": [
      "2022-08-09 13:58:21.860970\n"
     ]
    }
   ],
   "source": [
    "#get current date and time\n",
    "\n",
    "import datetime\n",
    "\n",
    "res=datetime.datetime.now()\n",
    "print(res)"
   ]
  },
  {
   "cell_type": "code",
   "execution_count": 2,
   "id": "b5530a52",
   "metadata": {},
   "outputs": [
    {
     "name": "stdout",
     "output_type": "stream",
     "text": [
      "2022-08-09\n"
     ]
    }
   ],
   "source": [
    "#get current date\n",
    "import datetime\n",
    "\n",
    "date_object = datetime.date.today()\n",
    "print(date_object)"
   ]
  },
  {
   "cell_type": "code",
   "execution_count": 3,
   "id": "854b8c53",
   "metadata": {},
   "outputs": [
    {
     "name": "stdout",
     "output_type": "stream",
     "text": [
      "['MAXYEAR', 'MINYEAR', '__all__', '__builtins__', '__cached__', '__doc__', '__file__', '__loader__', '__name__', '__package__', '__spec__', 'date', 'datetime', 'datetime_CAPI', 'sys', 'time', 'timedelta', 'timezone', 'tzinfo']\n"
     ]
    }
   ],
   "source": [
    "#use of dir()\n",
    "import datetime\n",
    "print(dir(datetime))"
   ]
  },
  {
   "cell_type": "code",
   "execution_count": null,
   "id": "8b21636e",
   "metadata": {},
   "outputs": [],
   "source": []
  }
 ],
 "metadata": {
  "kernelspec": {
   "display_name": "Python 3 (ipykernel)",
   "language": "python",
   "name": "python3"
  },
  "language_info": {
   "codemirror_mode": {
    "name": "ipython",
    "version": 3
   },
   "file_extension": ".py",
   "mimetype": "text/x-python",
   "name": "python",
   "nbconvert_exporter": "python",
   "pygments_lexer": "ipython3",
   "version": "3.10.4"
  }
 },
 "nbformat": 4,
 "nbformat_minor": 5
}
