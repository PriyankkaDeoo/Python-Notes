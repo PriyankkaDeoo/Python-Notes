{
 "cells": [
  {
   "cell_type": "code",
   "execution_count": 2,
   "id": "a19bb627",
   "metadata": {},
   "outputs": [
    {
     "name": "stdout",
     "output_type": "stream",
     "text": [
      "Min Time supported 00:00:00\n",
      "Max Time supported 23:59:59.999999\n",
      "fold has occured <attribute 'fold' of 'datetime.time' objects>\n",
      "Hour: 12\n",
      "Minutes: 24\n",
      "Seconds: 36\n",
      "Microseconds: 1212\n",
      "timezone: None\n"
     ]
    }
   ],
   "source": [
    "#attributes of the class time\n",
    "\n",
    "from datetime import time\n",
    "mintime = time.min\n",
    "print(\"Min Time supported\", mintime)\n",
    "maxtime = time.max\n",
    "print(\"Max Time supported\", maxtime)\n",
    "fold = time.fold\n",
    "print(\"fold has occured\", fold)\n",
    "# Creating Time object\n",
    "Time = time(12,24,36,1212)\n",
    "print(\"Hour:\", Time.hour)\n",
    "print(\"Minutes:\", Time.minute)\n",
    "print(\"Seconds:\", Time.second)\n",
    "print(\"Microseconds:\", Time.microsecond)\n",
    "print(\"timezone:\", Time.tzinfo)"
   ]
  },
  {
   "cell_type": "code",
   "execution_count": 1,
   "id": "a05b2b31",
   "metadata": {},
   "outputs": [
    {
     "name": "stdout",
     "output_type": "stream",
     "text": [
      "String Representation: 12:24:36.001212\n",
      "<class 'str'>\n",
      "\n",
      "Time from String 12:24:36.001212\n",
      "<class 'datetime.time'>\n",
      "New Time: 13:24:12.001212\n",
      "Formatted time 01:24 PM\n"
     ]
    }
   ],
   "source": [
    "from datetime import time\n",
    " \n",
    "# Creating Time object\n",
    "Time = time(12,24,36,1212)\n",
    " \n",
    "# Converting Time object to string\n",
    "Str = Time.isoformat()\n",
    "print(\"String Representation:\", Str)\n",
    "print(type(Str))\n",
    "Time = \"12:24:36.001212\"\n",
    "# Converting string to Time object\n",
    "Time = time.fromisoformat(Str)\n",
    "print(\"\\nTime from String\", Time)\n",
    "print(type(Time))\n",
    "# Replacing hour\n",
    "Time = Time.replace(hour = 13, second = 12)\n",
    "print(\"New Time:\", Time)\n",
    "# Formatting Time\n",
    "Ftime = Time.strftime(\"%I:%M %p\")\n",
    "print(\"Formatted time\", Ftime)"
   ]
  },
  {
   "cell_type": "code",
   "execution_count": 2,
   "id": "34b0018b",
   "metadata": {},
   "outputs": [
    {
     "name": "stdout",
     "output_type": "stream",
     "text": [
      "An NYC morning:\n",
      "07:00:00-04:00\n",
      "Information on Daylight Saving Time:\n",
      "None\n"
     ]
    }
   ],
   "source": [
    "from datetime import timedelta, timezone, time\n",
    "\n",
    "# Create time \n",
    "threeHrsbehind = timedelta(hours = -4)\n",
    "edt = timezone(threeHrsbehind, \"Eastern Daylight Time\")\n",
    "nycMorning = time(hour=7, tzinfo = edt)\n",
    "\n",
    "# Print the time\n",
    "print(\"An NYC morning:\")\n",
    "print(nycMorning)\n",
    "\n",
    "# Will return None as long as DST is not supported\n",
    "print(\"Information on Daylight Saving Time:\")\n",
    "print(nycMorning.dst())"
   ]
  },
  {
   "cell_type": "code",
   "execution_count": null,
   "id": "ebc93b08",
   "metadata": {},
   "outputs": [],
   "source": []
  },
  {
   "cell_type": "code",
   "execution_count": null,
   "id": "fd3b54cd",
   "metadata": {},
   "outputs": [],
   "source": []
  }
 ],
 "metadata": {
  "kernelspec": {
   "display_name": "Python 3 (ipykernel)",
   "language": "python",
   "name": "python3"
  },
  "language_info": {
   "codemirror_mode": {
    "name": "ipython",
    "version": 3
   },
   "file_extension": ".py",
   "mimetype": "text/x-python",
   "name": "python",
   "nbconvert_exporter": "python",
   "pygments_lexer": "ipython3",
   "version": "3.10.4"
  }
 },
 "nbformat": 4,
 "nbformat_minor": 5
}
