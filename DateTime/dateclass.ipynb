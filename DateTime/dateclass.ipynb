{
 "cells": [
  {
   "cell_type": "code",
   "execution_count": 1,
   "id": "4e6f643f",
   "metadata": {},
   "outputs": [
    {
     "name": "stdout",
     "output_type": "stream",
     "text": [
      "Min Date supported 0001-01-01\n",
      "Max Date supported 9999-12-31\n",
      "resolution 1 day, 0:00:00\n",
      "Year: 2020\n",
      "Month: 12\n",
      "Day: 11\n"
     ]
    }
   ],
   "source": [
    "#attrivutes of class date\n",
    "from datetime import date\n",
    "# Getting min date\n",
    "mindate = date.min\n",
    "print(\"Min Date supported\", mindate)\n",
    "# Getting max date\n",
    "maxdate = date.max\n",
    "print(\"Max Date supported\", maxdate)\n",
    "#getting resolution\n",
    "res = date.resolution\n",
    "print(\"resolution\", res)\n",
    "Date = date(2020, 12, 11)\n",
    "# Accessing the attributes\n",
    "print(\"Year:\", Date.year)\n",
    "print(\"Month:\", Date.month)\n",
    "print(\"Day:\", Date.day)"
   ]
  },
  {
   "cell_type": "code",
   "execution_count": 2,
   "id": "50264c50",
   "metadata": {},
   "outputs": [
    {
     "name": "stdout",
     "output_type": "stream",
     "text": [
      "0034-10-19\n",
      "12345\n"
     ]
    }
   ],
   "source": [
    "#fromordinal\n",
    "import datetime\n",
    "ordinal=12345\n",
    "print(date.fromordinal(ordinal))\n",
    "\n",
    "#toordinal\n",
    "my_date=date(34,10,19)\n",
    "print(my_date.toordinal())"
   ]
  },
  {
   "cell_type": "code",
   "execution_count": 3,
   "id": "02244dcc",
   "metadata": {},
   "outputs": [
    {
     "name": "stdout",
     "output_type": "stream",
     "text": [
      "2023-01-01\n",
      "datetime.IsoCalendarDate(year=2022, week=38, weekday=4)\n"
     ]
    }
   ],
   "source": [
    "#fromisocalender\n",
    "import datetime\n",
    "print(date.fromisocalendar(2022,52,7))\n",
    "\n",
    "#isocalender\n",
    "my_date=date.today()\n",
    "print(my_date.isocalendar())"
   ]
  },
  {
   "cell_type": "code",
   "execution_count": 4,
   "id": "b724d1d7",
   "metadata": {},
   "outputs": [
    {
     "name": "stdout",
     "output_type": "stream",
     "text": [
      "2022-09-20\n",
      "2022-10-24\n"
     ]
    }
   ],
   "source": [
    "#isoformat\n",
    "from datetime import date\n",
    "my_date=date(2022, 9, 20)\n",
    "print(my_date.isoformat())\n",
    "\n",
    "#fromisoformat\n",
    "my_date=\"2022-10-24\"\n",
    "print(date.fromisoformat(my_date))"
   ]
  },
  {
   "cell_type": "code",
   "execution_count": 5,
   "id": "7791a56a",
   "metadata": {},
   "outputs": [
    {
     "name": "stdout",
     "output_type": "stream",
     "text": [
      "4\n",
      "3\n"
     ]
    }
   ],
   "source": [
    "#isoweekday => monday=1,tuesday=2...\n",
    "#weekday => monday=0,tuesday=1\n",
    "\n",
    "todays_date = datetime.date.today()\n",
    "print(todays_date.isoweekday())\n",
    "\n",
    "todays_date = datetime.date.today()\n",
    "print(todays_date.weekday())"
   ]
  },
  {
   "cell_type": "code",
   "execution_count": 6,
   "id": "68ca0c75",
   "metadata": {},
   "outputs": [
    {
     "name": "stdout",
     "output_type": "stream",
     "text": [
      "2011-12-10\n"
     ]
    }
   ],
   "source": [
    "#fromtimestamp\n",
    "import datetime\n",
    "Timestamp = 1323456464\n",
    "print(datetime.date.fromtimestamp(Timestamp))"
   ]
  },
  {
   "cell_type": "code",
   "execution_count": 7,
   "id": "e9210720",
   "metadata": {},
   "outputs": [
    {
     "name": "stdout",
     "output_type": "stream",
     "text": [
      "Original Date: 2022-09-22\n",
      "Modified Date: 2000-09-22\n"
     ]
    }
   ],
   "source": [
    "#replace\n",
    "import datetime\n",
    "todays_date = datetime.date.today()\n",
    "print(\"Original Date:\", todays_date)\n",
    "  \n",
    "# Replacing the todays_date year with\n",
    "# 2000 using replace() function\n",
    "modified_date = todays_date.replace(year=2000)\n",
    "print(\"Modified Date:\", modified_date)"
   ]
  },
  {
   "cell_type": "code",
   "execution_count": 13,
   "id": "b955917b",
   "metadata": {},
   "outputs": [
    {
     "name": "stdout",
     "output_type": "stream",
     "text": [
      "time.struct_time(tm_year=2022, tm_mon=9, tm_mday=22, tm_hour=0, tm_min=0, tm_sec=0, tm_wday=3, tm_yday=265, tm_isdst=-1)\n"
     ]
    }
   ],
   "source": [
    "#timetuple\n",
    "import datetime\n",
    "obj = date.today()\n",
    "print(obj.timetuple())\n"
   ]
  },
  {
   "cell_type": "code",
   "execution_count": 18,
   "id": "bca6f705",
   "metadata": {},
   "outputs": [
    {
     "name": "stdout",
     "output_type": "stream",
     "text": [
      "2022-09-22 21:59:06.572429\n",
      "Thursday 09 22\n"
     ]
    }
   ],
   "source": [
    "#strftime\n",
    "from datetime import datetime as dt\n",
    "print(dt.now())\n",
    "s=dt.now()\n",
    "print(s.strftime(\"%A %m %y\"))"
   ]
  },
  {
   "cell_type": "code",
   "execution_count": 21,
   "id": "2eadca52",
   "metadata": {},
   "outputs": [
    {
     "name": "stdout",
     "output_type": "stream",
     "text": [
      "Thu Sep 22 00:00:00 2022\n"
     ]
    }
   ],
   "source": [
    "#ctime \n",
    "from datetime import date\n",
    "my_date=date.today()\n",
    "print(my_date.ctime())"
   ]
  },
  {
   "cell_type": "code",
   "execution_count": null,
   "id": "40bee295",
   "metadata": {},
   "outputs": [],
   "source": []
  }
 ],
 "metadata": {
  "kernelspec": {
   "display_name": "Python 3 (ipykernel)",
   "language": "python",
   "name": "python3"
  },
  "language_info": {
   "codemirror_mode": {
    "name": "ipython",
    "version": 3
   },
   "file_extension": ".py",
   "mimetype": "text/x-python",
   "name": "python",
   "nbconvert_exporter": "python",
   "pygments_lexer": "ipython3",
   "version": "3.10.4"
  }
 },
 "nbformat": 4,
 "nbformat_minor": 5
}
