{
 "cells": [
  {
   "cell_type": "code",
   "execution_count": 13,
   "id": "bf5a9f78",
   "metadata": {},
   "outputs": [
    {
     "name": "stdout",
     "output_type": "stream",
     "text": [
      "17:44:33\n"
     ]
    }
   ],
   "source": [
    "#DATE TIME PROGRAMS\n",
    "#1. Python program to get Current Time\n",
    "from datetime import datetime\n",
    "\n",
    "res=datetime.now()\n",
    "current_time=res.strftime(\"%H:%M:%S\")\n",
    "print(current_time)"
   ]
  },
  {
   "cell_type": "code",
   "execution_count": 17,
   "id": "48287372",
   "metadata": {},
   "outputs": [
    {
     "name": "stdout",
     "output_type": "stream",
     "text": [
      "2022-08-09 17:46:43.681716\n",
      "2022-08-09 17:46:43.681716\n"
     ]
    }
   ],
   "source": [
    "#2.Get Current Date and Time using Python\n",
    "from datetime import datetime\n",
    "res=datetime.now()\n",
    "print(res)\n",
    "#Or\n",
    "res1=datetime.today()\n",
    "print(res1)"
   ]
  },
  {
   "cell_type": "code",
   "execution_count": 14,
   "id": "886988bc",
   "metadata": {},
   "outputs": [
    {
     "name": "stdout",
     "output_type": "stream",
     "text": [
      "yesterdays : 09/08/2022\n",
      "todays : 10/08/2022\n",
      "tommorows : 11/08/2022\n"
     ]
    }
   ],
   "source": [
    "#3. Python | Find yesterday’s, today’s and tomorrow’s date\n",
    "from datetime import datetime,timedelta\n",
    "\n",
    "today=datetime.today()\n",
    "yest=today-timedelta(1)\n",
    "tomm=today+timedelta(1)\n",
    "print(\"yesterdays :\",yest.strftime(\"%d/%m/%Y\"))\n",
    "print(\"todays :\",today.strftime(\"%d/%m/%Y\"))\n",
    "print(\"tommorows :\",tomm.strftime(\"%d/%m/%Y\"))\n",
    "\n"
   ]
  },
  {
   "cell_type": "code",
   "execution_count": 31,
   "id": "0c458c18",
   "metadata": {},
   "outputs": [
    {
     "name": "stdout",
     "output_type": "stream",
     "text": [
      "Enter time in string format:11:15:30 PM\n"
     ]
    },
    {
     "ename": "TypeError",
     "evalue": "'str' object is not callable",
     "output_type": "error",
     "traceback": [
      "\u001b[1;31m---------------------------------------------------------------------------\u001b[0m",
      "\u001b[1;31mTypeError\u001b[0m                                 Traceback (most recent call last)",
      "Input \u001b[1;32mIn [31]\u001b[0m, in \u001b[0;36m<cell line: 16>\u001b[1;34m()\u001b[0m\n\u001b[0;32m     14\u001b[0m \u001b[38;5;66;03m#12:20:20 PM\u001b[39;00m\n\u001b[0;32m     15\u001b[0m str1\u001b[38;5;241m=\u001b[39m\u001b[38;5;28minput\u001b[39m(\u001b[38;5;124m\"\u001b[39m\u001b[38;5;124mEnter time in string format:\u001b[39m\u001b[38;5;124m\"\u001b[39m) \n\u001b[1;32m---> 16\u001b[0m res\u001b[38;5;241m=\u001b[39m\u001b[43mconvert24\u001b[49m\u001b[43m(\u001b[49m\u001b[43mstr1\u001b[49m\u001b[43m)\u001b[49m\n\u001b[0;32m     17\u001b[0m \u001b[38;5;28mprint\u001b[39m(res)\n",
      "Input \u001b[1;32mIn [31]\u001b[0m, in \u001b[0;36mconvert24\u001b[1;34m(str1)\u001b[0m\n\u001b[0;32m     10\u001b[0m     \u001b[38;5;28;01mreturn\u001b[39;00m str1[:\u001b[38;5;241m-\u001b[39m\u001b[38;5;241m2\u001b[39m]\n\u001b[0;32m     11\u001b[0m \u001b[38;5;28;01melse\u001b[39;00m:\n\u001b[1;32m---> 12\u001b[0m     \u001b[38;5;28;01mreturn\u001b[39;00m \u001b[38;5;28;43mstr\u001b[39;49m\u001b[43m(\u001b[49m\u001b[38;5;28;43mint\u001b[39;49m\u001b[43m(\u001b[49m\u001b[43mstr1\u001b[49m\u001b[43m[\u001b[49m\u001b[43m:\u001b[49m\u001b[38;5;241;43m2\u001b[39;49m\u001b[43m]\u001b[49m\u001b[43m)\u001b[49m\u001b[43m \u001b[49m\u001b[38;5;241;43m+\u001b[39;49m\u001b[43m \u001b[49m\u001b[38;5;241;43m12\u001b[39;49m\u001b[43m)\u001b[49m \u001b[38;5;241m+\u001b[39m str1[\u001b[38;5;241m2\u001b[39m:\u001b[38;5;241m8\u001b[39m]\n",
      "\u001b[1;31mTypeError\u001b[0m: 'str' object is not callable"
     ]
    }
   ],
   "source": [
    "#4. Python program to convert time from 12 hour to 24 hour format\n",
    "import datetime \n",
    "\n",
    "def convert24(str1):\n",
    "    if str1[-2:]==\"AM\" and str1[:2]==\"12\":\n",
    "        return \"00\"+str1[2:-2]\n",
    "    elif str1[-2:]==\"AM\":\n",
    "        return str1[:-2]\n",
    "    elif str1[-2:]==\"PM\"and str1[:2]==\"12\":\n",
    "        return str1[:-2]\n",
    "    else:\n",
    "         return str(int(str1[:2]) + 12) + str1[2:8]\n",
    "    \n",
    "#12:20:20 PM\n",
    "str1=input(\"Enter time in string format:\") \n",
    "res=convert24(str1)\n",
    "print(res)"
   ]
  },
  {
   "cell_type": "code",
   "execution_count": 34,
   "id": "c338aedc",
   "metadata": {},
   "outputs": [
    {
     "name": "stdout",
     "output_type": "stream",
     "text": [
      "14 : 0\n"
     ]
    }
   ],
   "source": [
    "#5.Python program to find difference between current time and given time\n",
    "\n",
    "def difference(h1,m1,h2,m2):\n",
    "    #convert h1 and m1 in minuts\n",
    "    t1=h1*60+m1\n",
    "    t2=h2*60+m2\n",
    "    \n",
    "    if (t1==t2):\n",
    "        print(\"both are same\")\n",
    "    else:\n",
    "        diff=t2-t1\n",
    "        h=(int(diff/60))%24\n",
    "        m=(int(diff%60))\n",
    "        print(h,\":\",m)\n",
    "    \n",
    "difference(12,30,2,30)"
   ]
  },
  {
   "cell_type": "code",
   "execution_count": 37,
   "id": "43c50e12",
   "metadata": {},
   "outputs": [],
   "source": [
    "#6.Python Program to Create a Lap Timer"
   ]
  },
  {
   "cell_type": "code",
   "execution_count": 44,
   "id": "9b3418bb",
   "metadata": {},
   "outputs": [
    {
     "name": "stdout",
     "output_type": "stream",
     "text": [
      "2022-08-10 00:00:00\n",
      "1660069800.0\n"
     ]
    }
   ],
   "source": [
    "#7.Convert date string to timestamp in Python\n",
    "import datetime\n",
    "import time\n",
    "\n",
    "string1=\"10/08/2022\"\n",
    "\n",
    "res=datetime.datetime.strptime(string1,\"%d/%m/%Y\")\n",
    "print(res)\n",
    "timestamp=datetime.datetime.timestamp(res)\n",
    "print(timestamp)"
   ]
  },
  {
   "cell_type": "code",
   "execution_count": 45,
   "id": "3ea88908",
   "metadata": {},
   "outputs": [
    {
     "name": "stdout",
     "output_type": "stream",
     "text": [
      "date_time: 2006-02-25 05:30:00\n",
      "type of dt: <class 'datetime.datetime'>\n"
     ]
    }
   ],
   "source": [
    "#8.How to convert timestamp string to datetime object in Python?\n",
    "from datetime import datetime\n",
    "timestamp = 1545730073\n",
    "dt_obj = datetime.fromtimestamp(1140825600)\n",
    "  \n",
    "print(\"date_time:\",dt_obj)\n",
    "print(\"type of dt:\",type(dt_obj))"
   ]
  },
  {
   "cell_type": "code",
   "execution_count": null,
   "id": "5ba9305b",
   "metadata": {},
   "outputs": [],
   "source": [
    "#9.Find number of times every day occurs in a Year\n"
   ]
  }
 ],
 "metadata": {
  "kernelspec": {
   "display_name": "Python 3 (ipykernel)",
   "language": "python",
   "name": "python3"
  },
  "language_info": {
   "codemirror_mode": {
    "name": "ipython",
    "version": 3
   },
   "file_extension": ".py",
   "mimetype": "text/x-python",
   "name": "python",
   "nbconvert_exporter": "python",
   "pygments_lexer": "ipython3",
   "version": "3.10.4"
  }
 },
 "nbformat": 4,
 "nbformat_minor": 5
}
