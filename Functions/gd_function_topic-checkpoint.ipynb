{
 "cells": [
  {
   "cell_type": "code",
   "execution_count": 2,
   "id": "4489f000",
   "metadata": {},
   "outputs": [
    {
     "name": "stdout",
     "output_type": "stream",
     "text": [
      "Hello from a function\n"
     ]
    }
   ],
   "source": [
    "## create function\n",
    "def my_function():\n",
    "  print(\"Hello from a function\")\n",
    "\n",
    "my_function()\n",
    "\n"
   ]
  },
  {
   "cell_type": "code",
   "execution_count": 1,
   "id": "ba488156",
   "metadata": {},
   "outputs": [
    {
     "name": "stdout",
     "output_type": "stream",
     "text": [
      "Welcome to Python class.\n"
     ]
    }
   ],
   "source": [
    "#Creating a function without any parameters\n",
    "def message():\n",
    "    print(\"Welcome to Python class.\")\n",
    "\n",
    "# call function using its name\n",
    "message()"
   ]
  },
  {
   "cell_type": "code",
   "execution_count": 3,
   "id": "2feafe8d",
   "metadata": {},
   "outputs": [
    {
     "name": "stdout",
     "output_type": "stream",
     "text": [
      "Hello John Welcome to PYnative\n",
      "Your course name is Python\n"
     ]
    }
   ],
   "source": [
    "#Creating a function with parameters\n",
    "def course_func(name, course_name):\n",
    "    print(\"Hello\", name, \"Welcome to PYnative\")\n",
    "    print(\"Your course name is\", course_name)\n",
    "\n",
    "# call function\n",
    "course_func('John', 'Python')"
   ]
  },
  {
   "cell_type": "code",
   "execution_count": 4,
   "id": "d1498405",
   "metadata": {},
   "outputs": [
    {
     "name": "stdout",
     "output_type": "stream",
     "text": [
      "This function returns the factorial of a given number.\n"
     ]
    }
   ],
   "source": [
    "#Single-Line Docstring\n",
    "def factorial(x):\n",
    "    \"\"\"This function returns the factorial of a given number.\"\"\"\n",
    "    return x\n",
    "\n",
    "# access doc string\n",
    "print(factorial.__doc__)\n"
   ]
  },
  {
   "cell_type": "code",
   "execution_count": 17,
   "id": "cabdf1f4",
   "metadata": {},
   "outputs": [
    {
     "name": "stdout",
     "output_type": "stream",
     "text": [
      "40\n"
     ]
    }
   ],
   "source": [
    "## return value\n",
    "def add_fun():\n",
    "    a=10\n",
    "    b=30\n",
    "    add=a+b\n",
    "    return add\n",
    "print(add_fun())"
   ]
  },
  {
   "cell_type": "code",
   "execution_count": 18,
   "id": "6c639792",
   "metadata": {},
   "outputs": [
    {
     "name": "stdout",
     "output_type": "stream",
     "text": [
      "Addition:  12\n",
      "Subtraction:  8\n",
      "Multiplication:  20\n",
      "Division:  5.0\n"
     ]
    }
   ],
   "source": [
    "#Return Multiple Values\n",
    "def arithmetic(num1, num2):\n",
    "    add = num1 + num2\n",
    "    sub = num1 - num2\n",
    "    multiply = num1 * num2\n",
    "    division = num1 / num2\n",
    "    # return four values\n",
    "    return add, sub, multiply, division\n",
    "\n",
    "# read four return values in four variables\n",
    "a, b, c, d = arithmetic(10, 2)\n",
    "\n",
    "print(\"Addition: \", a)\n",
    "print(\"Subtraction: \", b)\n",
    "print(\"Multiplication: \", c)\n",
    "print(\"Division: \", d)"
   ]
  },
  {
   "cell_type": "code",
   "execution_count": 19,
   "id": "af8fd147",
   "metadata": {},
   "outputs": [
    {
     "name": "stdout",
     "output_type": "stream",
     "text": [
      "Passing one argument\n",
      "num1 is:  10\n",
      "num2 is:  40\n",
      "Passing two arguments\n",
      "num1 is:  10\n",
      "num2 is:  30\n"
     ]
    }
   ],
   "source": [
    "# Python code to demonstrate the use of default arguments  \n",
    "# defining a function  \n",
    "def function( num1, num2 = 40 ):  \n",
    "    print(\"num1 is: \", num1)  \n",
    "    print(\"num2 is: \", num2)  \n",
    "   \n",
    "   \n",
    "# Calling the function and passing only one argument  \n",
    "print( \"Passing one argument\" )  \n",
    "function(10)  \n",
    "  \n",
    "# Now giving two arguments to the function  \n",
    "print( \"Passing two arguments\" )  \n",
    "function(10,30)  "
   ]
  },
  {
   "cell_type": "code",
   "execution_count": 21,
   "id": "ccf134f2",
   "metadata": {},
   "outputs": [
    {
     "name": "stdout",
     "output_type": "stream",
     "text": [
      "Hello Madhuri Burande\n",
      "Hello Adat Swara\n"
     ]
    }
   ],
   "source": [
    "## keyword argument\n",
    "def message(name, surname):\n",
    "    print(\"Hello\", name, surname)\n",
    "\n",
    "message(name=\"Madhuri\", surname=\"Burande\")\n",
    "message(surname=\"Swara\", name=\"Adat\")"
   ]
  },
  {
   "cell_type": "code",
   "execution_count": 23,
   "id": "d2b385cb",
   "metadata": {},
   "outputs": [
    {
     "name": "stdout",
     "output_type": "stream",
     "text": [
      "Passing out of order arguments\n",
      "num1 is:  30\n",
      "num2 is:  20\n"
     ]
    },
    {
     "ename": "TypeError",
     "evalue": "function() missing 1 required positional argument: 'num2'",
     "output_type": "error",
     "traceback": [
      "\u001b[1;31m---------------------------------------------------------------------------\u001b[0m",
      "\u001b[1;31mTypeError\u001b[0m                                 Traceback (most recent call last)",
      "Input \u001b[1;32mIn [23]\u001b[0m, in \u001b[0;36m<cell line: 8>\u001b[1;34m()\u001b[0m\n\u001b[0;32m      6\u001b[0m function( \u001b[38;5;241m30\u001b[39m, \u001b[38;5;241m20\u001b[39m )\n\u001b[0;32m      7\u001b[0m \u001b[38;5;66;03m#order change\u001b[39;00m\n\u001b[1;32m----> 8\u001b[0m \u001b[43mfunction\u001b[49m\u001b[43m(\u001b[49m\u001b[38;5;241;43m22\u001b[39;49m\u001b[43m)\u001b[49m\n",
      "\u001b[1;31mTypeError\u001b[0m: function() missing 1 required positional argument: 'num2'"
     ]
    }
   ],
   "source": [
    "#Required/ Positional Arguments\n",
    "def function( num1, num2 ):  \n",
    "    print(\"num1 is: \", num1)  \n",
    "    print(\"num2 is: \", num2)  \n",
    "print( \"Passing out of order arguments\" )  \n",
    "function( 30, 20 )\n",
    "#order change\n",
    "function(22)"
   ]
  },
  {
   "cell_type": "code",
   "execution_count": 24,
   "id": "5978fbde",
   "metadata": {},
   "outputs": [
    {
     "name": "stdout",
     "output_type": "stream",
     "text": [
      "Sum is: 0\n",
      "Sum is: 26\n",
      "Sum is: 87.5\n"
     ]
    }
   ],
   "source": [
    "#variable length args\n",
    "def addition(*numbers):\n",
    "    total = 0\n",
    "    for no in numbers:\n",
    "        total = total + no\n",
    "    print(\"Sum is:\", total)\n",
    "# 0 arguments\n",
    "addition()\n",
    "# 5 arguments\n",
    "addition(10, 5, 2, 5, 4)\n",
    "\n",
    "# 3 arguments\n",
    "addition(78, 7, 2.5)"
   ]
  },
  {
   "cell_type": "code",
   "execution_count": 25,
   "id": "f515575d",
   "metadata": {},
   "outputs": [
    {
     "name": "stdout",
     "output_type": "stream",
     "text": [
      "['PYTHON', 'FUNCTIONS', 'TUTORIAL']\n",
      "[['First', 'Python'], ['Second', 'Functions'], ['Third', 'Tutorial']]\n"
     ]
    }
   ],
   "source": [
    "# Defining a function  \n",
    "def function( *args_list ):  \n",
    "    ans = []  \n",
    "    for l in args_list:  \n",
    "        ans.append( l.upper() )  \n",
    "    return ans  \n",
    "# Passing args arguments  \n",
    "object = function('Python', 'Functions', 'tutorial')  \n",
    "print( object )  \n",
    "  \n",
    "# defining a function  \n",
    "def function( **kargs_list ):  \n",
    "    ans = []  \n",
    "    for key, value in kargs_list.items():  \n",
    "        ans.append([key, value])  \n",
    "    return ans  \n",
    "# Paasing kwargs arguments  \n",
    "object = function(First = \"Python\", Second = \"Functions\", Third = \"Tutorial\")  \n",
    "print(object)  \n"
   ]
  },
  {
   "cell_type": "code",
   "execution_count": 27,
   "id": "e9acd414",
   "metadata": {},
   "outputs": [
    {
     "name": "stdout",
     "output_type": "stream",
     "text": [
      "Factorial is: 120\n"
     ]
    }
   ],
   "source": [
    "#Recursive Function\n",
    "def factorial(num):\n",
    "    if num==0:\n",
    "        return 1\n",
    "    elif num==1:\n",
    "        return 1\n",
    "    else:\n",
    "        return num*factorial(num-1)\n",
    "print(\"Factorial is:\",factorial(5))"
   ]
  },
  {
   "cell_type": "code",
   "execution_count": 49,
   "id": "08fdc6ca",
   "metadata": {},
   "outputs": [
    {
     "name": "stdout",
     "output_type": "stream",
     "text": [
      "125\n",
      "125\n",
      "Even numbers are:  [10, 12, 78, 6]\n"
     ]
    }
   ],
   "source": [
    "#Python Anonymous/Lambda Function\n",
    "# 1.by using def\n",
    "def cube(y):\n",
    "    return y*y*y\n",
    " \n",
    "lambda_cube = lambda y: y*y*y\n",
    " \n",
    "# using the normally\n",
    "# defined function\n",
    "print(cube(5))\n",
    " \n",
    "# using the lambda function\n",
    "print(lambda_cube(5))\n",
    "    \n",
    "\n",
    "\n",
    "l = [10, 5, 12, 78, 6, 1, 7, 9]\n",
    "even_nos = list(filter(lambda x: x % 2 == 0, l))\n",
    "print(\"Even numbers are: \", even_nos)"
   ]
  },
  {
   "cell_type": "code",
   "execution_count": 35,
   "id": "88f81e26",
   "metadata": {},
   "outputs": [
    {
     "name": "stdout",
     "output_type": "stream",
     "text": [
      "local scop: 300\n",
      "300\n"
     ]
    }
   ],
   "source": [
    "## scope\n",
    "#1.local scop\n",
    "def myfunc():\n",
    "  x = 300\n",
    "  print(\"local scop:\",x)\n",
    "\n",
    "myfunc()\n",
    "\n",
    "# fun inside fun\n",
    "def myfunc():\n",
    "    x = 300\n",
    "    def myinnerfunc():\n",
    "        print(x)\n",
    "    myinnerfunc()\n",
    "\n",
    "myfunc()\n"
   ]
  },
  {
   "cell_type": "code",
   "execution_count": 38,
   "id": "dd868b59",
   "metadata": {},
   "outputs": [
    {
     "name": "stdout",
     "output_type": "stream",
     "text": [
      "500\n",
      "500\n",
      "200\n",
      "300\n"
     ]
    }
   ],
   "source": [
    "# global scope\n",
    "x = 500\n",
    "\n",
    "def myfunc():\n",
    "  print(x)\n",
    "\n",
    "myfunc()\n",
    "\n",
    "print(x)\n",
    "\n",
    "## global and local variable.\n",
    "x = 300\n",
    "\n",
    "def myfunc():\n",
    "  x = 200\n",
    "  print(x)\n",
    "\n",
    "myfunc()\n",
    "\n",
    "print(x)"
   ]
  },
  {
   "cell_type": "code",
   "execution_count": 40,
   "id": "fbd9645a",
   "metadata": {},
   "outputs": [
    {
     "name": "stdout",
     "output_type": "stream",
     "text": [
      "Value in 1st function : 5\n",
      "Value in 2nd function : 555\n",
      "Value in 3rd function : 5\n"
     ]
    }
   ],
   "source": [
    "## global keyword\n",
    "global_var = 5\n",
    "\n",
    "def function1():\n",
    "    print(\"Value in 1st function :\", global_var)\n",
    "\n",
    "def function2():\n",
    "    # Modify global variable\n",
    "    # function will treat it as a local variable\n",
    "    global_var = 555\n",
    "    print(\"Value in 2nd function :\", global_var)\n",
    "\n",
    "def function3():\n",
    "    print(\"Value in 3rd function :\", global_var)\n",
    "\n",
    "function1()\n",
    "function2()\n",
    "function3()"
   ]
  },
  {
   "cell_type": "code",
   "execution_count": 46,
   "id": "77a254fb",
   "metadata": {},
   "outputs": [
    {
     "name": "stdout",
     "output_type": "stream",
     "text": [
      "The sum of the list elements is : 17\n"
     ]
    }
   ],
   "source": [
    "## reduce function\n",
    "# initializing list\n",
    "\n",
    "from functools import reduce\n",
    "lis = [1, 3, 5, 6, 2, ]\n",
    " \n",
    "# using reduce to compute sum of list\n",
    "print(\"The sum of the list elements is : \", end=\"\")\n",
    "print(reduce(lambda a, b: a+b, lis))"
   ]
  },
  {
   "cell_type": "code",
   "execution_count": 48,
   "id": "41c33e09",
   "metadata": {},
   "outputs": [
    {
     "name": "stdout",
     "output_type": "stream",
     "text": [
      "[2, 4, 6, 8]\n"
     ]
    }
   ],
   "source": [
    "## map()\n",
    "\n",
    "def addition(n):\n",
    "    return n + n\n",
    "  \n",
    "# We double all numbers using map()\n",
    "numbers = (1, 2, 3, 4)\n",
    "result = map(addition, numbers)\n",
    "print(list(result))\n",
    "\n"
   ]
  },
  {
   "cell_type": "code",
   "execution_count": 50,
   "id": "840398f6",
   "metadata": {},
   "outputs": [
    {
     "name": "stdout",
     "output_type": "stream",
     "text": [
      "Positive numbers are:  [5, 12, 6, 9]\n"
     ]
    }
   ],
   "source": [
    "# filter function\n",
    "l = [-10, 5, 12, -78, 6, -1, -7, 9]\n",
    "positive_nos = list(filter(lambda x: x > 0, l))\n",
    "print(\"Positive numbers are: \", positive_nos)"
   ]
  },
  {
   "cell_type": "code",
   "execution_count": null,
   "id": "a4cbc81d",
   "metadata": {},
   "outputs": [],
   "source": []
  }
 ],
 "metadata": {
  "kernelspec": {
   "display_name": "Python 3 (ipykernel)",
   "language": "python",
   "name": "python3"
  },
  "language_info": {
   "codemirror_mode": {
    "name": "ipython",
    "version": 3
   },
   "file_extension": ".py",
   "mimetype": "text/x-python",
   "name": "python",
   "nbconvert_exporter": "python",
   "pygments_lexer": "ipython3",
   "version": "3.10.4"
  }
 },
 "nbformat": 4,
 "nbformat_minor": 5
}
