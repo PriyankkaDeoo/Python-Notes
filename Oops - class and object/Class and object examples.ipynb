{
 "cells": [
  {
   "cell_type": "code",
   "execution_count": null,
   "id": "a3169204",
   "metadata": {},
   "outputs": [],
   "source": [
    "class class_name:\n",
    "    statemnts /varibales -\n",
    "    functionality\n",
    "    constructor\n",
    "    methods -\n",
    "\n",
    "object=class_name()\n",
    "object.method()\n",
    "    "
   ]
  },
  {
   "cell_type": "code",
   "execution_count": 1,
   "id": "78a33aee",
   "metadata": {},
   "outputs": [
    {
     "name": "stdout",
     "output_type": "stream",
     "text": [
      "Hello, my name is priyanka\n"
     ]
    }
   ],
   "source": [
    "#class and object example\n",
    "class Person:\n",
    "  \n",
    " # init method or constructor\n",
    "    def __init__(self, name):\n",
    "        self.name = name\n",
    " # Sample Method\n",
    "    def say_hi(self):\n",
    "        print('Hello, my name is', self.name)\n",
    " \n",
    " \n",
    "p = Person('priyanka')\n",
    "p.say_hi()\n"
   ]
  },
  {
   "cell_type": "code",
   "execution_count": 4,
   "id": "c833b648",
   "metadata": {},
   "outputs": [
    {
     "name": "stdout",
     "output_type": "stream",
     "text": [
      "Hello, my name is Rohit\n",
      "Hello, my name is Rohit\n"
     ]
    }
   ],
   "source": [
    "#class and object example\n",
    "\n",
    "class Person:\n",
    " \n",
    "    # init method or constructor\n",
    "    def __init__(self, name):\n",
    "        self.name = name\n",
    " \n",
    "    # Sample Method\n",
    "    def say_hi(self):\n",
    "        print('Hello, my name is', self.name)\n",
    " \n",
    " \n",
    "p = Person('Priyanka')\n",
    "q= Person(\"Rohit\")\n",
    "p.say_hi()\n",
    "q.say_hi()\n",
    "\n"
   ]
  },
  {
   "cell_type": "code",
   "execution_count": 8,
   "id": "263338c9",
   "metadata": {},
   "outputs": [
    {
     "name": "stdout",
     "output_type": "stream",
     "text": [
      "12\n",
      "Model is audi a4\n",
      "color is blue\n",
      "Model is ferrari 488\n",
      "color is green\n"
     ]
    }
   ],
   "source": [
    "class car():\n",
    "\tmileage=12 #class varibale\n",
    "\t# init method or constructor\n",
    "\tdef __init__(self, model, color):\n",
    "\t\tself.model = model\n",
    "\t\tself.color = color\n",
    "\t\t\n",
    "\tdef show(self):\n",
    "\t\tprint(\"Model is\", self.model )\n",
    "\t\tprint(\"color is\", self.color )\n",
    "\t\t\n",
    "# both objects have different self which\n",
    "# contain their attributes\n",
    "print(car.mileage)\n",
    "audi = car(\"audi a4\", \"blue\")\n",
    "ferrari = car(\"ferrari 488\", \"green\")\n",
    "\n",
    "audi.show()\t # same output as car.show(audi)\n",
    "ferrari.show() # same output as car.show(ferrari)\n",
    "\n",
    "# Behind the scene, in every instance method\n",
    "# call, python sends the instances also with\n",
    "# that method call like car.show(audi)\n"
   ]
  },
  {
   "cell_type": "code",
   "execution_count": null,
   "id": "66c5ff86",
   "metadata": {},
   "outputs": [],
   "source": []
  }
 ],
 "metadata": {
  "kernelspec": {
   "display_name": "Python 3 (ipykernel)",
   "language": "python",
   "name": "python3"
  },
  "language_info": {
   "codemirror_mode": {
    "name": "ipython",
    "version": 3
   },
   "file_extension": ".py",
   "mimetype": "text/x-python",
   "name": "python",
   "nbconvert_exporter": "python",
   "pygments_lexer": "ipython3",
   "version": "3.10.4"
  }
 },
 "nbformat": 4,
 "nbformat_minor": 5
}
