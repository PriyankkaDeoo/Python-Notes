{
 "cells": [
  {
   "cell_type": "code",
   "execution_count": null,
   "id": "b2696ea5",
   "metadata": {},
   "outputs": [],
   "source": [
    "#typesof variables\n",
    "\n",
    "class car:\n",
    "    wheels=4\n",
    "    def __init__(self):\n",
    "        self.milege=10\n",
    "        self.company=\"BMW\"\n",
    "        \n",
    "c1=car()\n",
    "c2=car()\n",
    "#we can chnge instance varibale value here\n",
    "c1.milege=12\n",
    "c2.company=\"skoda\"\n",
    "#suppose u want to chnge class variable value \n",
    "car.wheels=6\n",
    "\n",
    "print(c1.milege,c1.company,c1.wheels)\n",
    "print(c2.milege,c2.company,c2.wheels)"
   ]
  },
  {
   "cell_type": "code",
   "execution_count": null,
   "id": "a471a75c",
   "metadata": {},
   "outputs": [],
   "source": [
    "# Python3 program to show that the variables with a value\n",
    "# assigned in the class declaration, are class variables and\n",
    "# variables inside methods and constructors are instance\n",
    "# variables.\n",
    " \n",
    "# Class for Dog\n",
    " \n",
    "class Dog:\n",
    " # Class Variable\n",
    "    animal = 'dog'\n",
    " # The init method or constructor\n",
    "    def __init__(self, breed, color):\n",
    " # Instance Variable\n",
    "        self.breed = breed\n",
    "        self.color = color\n",
    "# Objects of Dog class\n",
    "Rodger = Dog(\"Pug\", \"brown\")\n",
    "Buzo = Dog(\"Bulldog\", \"black\")\n",
    " \n",
    "print('Rodger details:')\n",
    "print('Rodger is a', Rodger.animal)\n",
    "print('Breed: ', Rodger.breed)\n",
    "print('Color: ', Rodger.color)\n",
    " \n",
    "print('\\nBuzo details:')\n",
    "print('Buzo is a', Buzo.animal)\n",
    "print('Breed: ', Buzo.breed)\n",
    "print('Color: ', Buzo.color)\n",
    " \n",
    "# Class variables can be accessed using class\n",
    "# name also\n",
    "print(\"\\nAccessing class variable using class name\")\n",
    "print(Dog.animal)\n"
   ]
  },
  {
   "cell_type": "code",
   "execution_count": null,
   "id": "0c292170",
   "metadata": {},
   "outputs": [],
   "source": [
    "#types of methods\n",
    "class ToyClass:\n",
    "    def instancemethod(self):\n",
    "        return 'instance method called', self\n",
    "    \n",
    "    @classmethod\n",
    "    def classmethod(cls):\n",
    "        return 'class method called', cls\n",
    "    @staticmethod\n",
    "    def staticmethod():\n",
    "        return 'static method called'\n",
    "    \n",
    "obj=ToyClass()\n",
    "print(obj.instancemethod())\n",
    "print(obj.classmethod())\n",
    "print(obj.staticmethod())"
   ]
  },
  {
   "cell_type": "code",
   "execution_count": 1,
   "id": "e73709ee",
   "metadata": {},
   "outputs": [
    {
     "data": {
      "text/plain": [
       "'This is an instance method.'"
      ]
     },
     "execution_count": 1,
     "metadata": {},
     "output_type": "execute_result"
    }
   ],
   "source": [
    "#instance method example\n",
    "class My_class:\n",
    "    def instance_method(self):\n",
    "        return \"This is an instance method.\"\n",
    "obj = My_class()\n",
    "obj.instance_method()"
   ]
  },
  {
   "cell_type": "code",
   "execution_count": null,
   "id": "97cf2479",
   "metadata": {},
   "outputs": [],
   "source": [
    "#instance method with default parameter self and other 2 parameters\n",
    "class My_class:\n",
    "    def instance_method(self,a,b):\n",
    "        print(\"This is an instance method with parameters along with self\",a,b)\n",
    "obj = My_class()\n",
    "obj.instance_method(10,20)"
   ]
  },
  {
   "cell_type": "code",
   "execution_count": null,
   "id": "95ea239c",
   "metadata": {},
   "outputs": [],
   "source": [
    "#instance method with __init__()\n",
    "\n",
    "class My_class:\n",
    "    def __init__(self,a,b):\n",
    "        self.a=a\n",
    "        self.b=b\n",
    "        \n",
    "    def instance_method(self):\n",
    "        print(\"This is an instance method with constructor in it\",self.a,self.b)\n",
    "obj = My_class(10,20)\n",
    "obj.instance_method()"
   ]
  },
  {
   "cell_type": "code",
   "execution_count": null,
   "id": "0b4ce6f2",
   "metadata": {},
   "outputs": [],
   "source": [
    "#instance method self.__class__.__name__  \n",
    "#it returns Class name\n",
    "\n",
    "class My_class:\n",
    "    def __init__(self,a,b):\n",
    "        self.a=a\n",
    "        self.b=b\n",
    "        \n",
    "    def instance_method(self):\n",
    "        print(\"This is an instance method using self__class__.__name__ :\",self.__class__.__name__)\n",
    "obj = My_class(10,20)\n",
    "obj.instance_method()"
   ]
  },
  {
   "cell_type": "code",
   "execution_count": 3,
   "id": "eeaa35b1",
   "metadata": {},
   "outputs": [
    {
     "data": {
      "text/plain": [
       "'This is a class method.'"
      ]
     },
     "execution_count": 3,
     "metadata": {},
     "output_type": "execute_result"
    }
   ],
   "source": [
    "#class method\n",
    "class My_class:\n",
    "\n",
    "  @classmethod\n",
    "  def class_method(cls):\n",
    "    return \"This is a class method.\"\n",
    "\n",
    "obj = My_class()\n",
    "obj.class_method()\n",
    "#We can access the class methods with the help of a class instance/object.\n",
    "#But we can access the class methods directly without creating an instance or object of the class.\n",
    "#My_class.class_method()\n"
   ]
  },
  {
   "cell_type": "code",
   "execution_count": 8,
   "id": "40a8957b",
   "metadata": {},
   "outputs": [
    {
     "data": {
      "text/plain": [
       "('Dobby', 5)"
      ]
     },
     "execution_count": 8,
     "metadata": {},
     "output_type": "execute_result"
    }
   ],
   "source": [
    "#when to use classmethods\n",
    "from datetime import date\n",
    "\n",
    "class Dog:\n",
    "    def __init__(self, name, age):\n",
    "        self.name = name\n",
    "        self.age = age\n",
    "\n",
    "# a class method to create a Dog object with birth year.\n",
    "#here we can see classmethod is modifying the status of the class by asking for birthyears\n",
    "    @classmethod\n",
    "    def Year(cls, name, year):\n",
    "        return cls(name, date.today().year - year) #returung the constructor cls #equivalent  Dog(name, date.today().year – year).\n",
    "\n",
    "Dog1 = Dog('Bruno', 1)\n",
    "Dog1.name , Dog1.age\n",
    "\n",
    "Dog2 = Dog.Year('Dobby', 2017)\n",
    "Dog2.name , Dog2.age"
   ]
  },
  {
   "cell_type": "code",
   "execution_count": null,
   "id": "2feb3a43",
   "metadata": {},
   "outputs": [],
   "source": [
    "#static method\n",
    "class My_class:\n",
    "\n",
    "  @staticmethod\n",
    "  def static_method():\n",
    "    return \"This is a static method.\"\n",
    "\n",
    "#obj = My_class()\n",
    "#obj.static_method()\n",
    "#And we can call static methods directly, without creating an object/instance of the class:\n",
    "My_class.static_method()\n"
   ]
  },
  {
   "cell_type": "code",
   "execution_count": 9,
   "id": "249580b7",
   "metadata": {},
   "outputs": [
    {
     "name": "stdout",
     "output_type": "stream",
     "text": [
      "The sum is: 25\n"
     ]
    }
   ],
   "source": [
    "#when to use static method\n",
    "class Calculator:\n",
    "\n",
    "    @staticmethod\n",
    "    def add(x, y):\n",
    "        return x + y\n",
    "\n",
    "print('The sum is:', Calculator.add(15, 10))\n",
    "#You can see that the use-case of this static method is very clear,\n",
    "#adding the two numbers given as parameters. Whenever you have to add two numbers, \n",
    "#you can call this method directly without worrying about object construction."
   ]
  },
  {
   "cell_type": "code",
   "execution_count": null,
   "id": "a0e60e97",
   "metadata": {},
   "outputs": [],
   "source": []
  }
 ],
 "metadata": {
  "kernelspec": {
   "display_name": "Python 3 (ipykernel)",
   "language": "python",
   "name": "python3"
  },
  "language_info": {
   "codemirror_mode": {
    "name": "ipython",
    "version": 3
   },
   "file_extension": ".py",
   "mimetype": "text/x-python",
   "name": "python",
   "nbconvert_exporter": "python",
   "pygments_lexer": "ipython3",
   "version": "3.10.4"
  }
 },
 "nbformat": 4,
 "nbformat_minor": 5
}
