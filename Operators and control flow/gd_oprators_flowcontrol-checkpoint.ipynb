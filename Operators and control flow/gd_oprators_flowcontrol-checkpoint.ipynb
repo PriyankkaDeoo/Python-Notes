{
 "cells": [
  {
   "cell_type": "code",
   "execution_count": 33,
   "id": "6ed50e7f",
   "metadata": {},
   "outputs": [
    {
     "name": "stdout",
     "output_type": "stream",
     "text": [
      "50\n",
      "Adat Madhuri\n"
     ]
    }
   ],
   "source": [
    "##Arithmetic operator\n",
    "#Addition operator +\n",
    "x = 10\n",
    "y = 40\n",
    "print(x + y)\n",
    "\n",
    "## or \n",
    "name = \"Madhuri\"\n",
    "surname = \"Adat\"\n",
    "print(surname + \" \" + name)"
   ]
  },
  {
   "cell_type": "code",
   "execution_count": 34,
   "id": "1eeea51e",
   "metadata": {},
   "outputs": [
    {
     "name": "stdout",
     "output_type": "stream",
     "text": [
      "30\n"
     ]
    }
   ],
   "source": [
    "#Subtraction -\n",
    "x = 10\n",
    "y = 40\n",
    "print(y - x)\n"
   ]
  },
  {
   "cell_type": "code",
   "execution_count": 36,
   "id": "f46db0ff",
   "metadata": {},
   "outputs": [
    {
     "name": "stdout",
     "output_type": "stream",
     "text": [
      "8\n",
      "40\n"
     ]
    }
   ],
   "source": [
    "#Multiplication *\n",
    "x = 2\n",
    "y = 4\n",
    "z = 5\n",
    "print(x * y)\n",
    "print(x * y * z)"
   ]
  },
  {
   "cell_type": "code",
   "execution_count": 37,
   "id": "153c2ac0",
   "metadata": {},
   "outputs": [
    {
     "name": "stdout",
     "output_type": "stream",
     "text": [
      "2.0\n"
     ]
    }
   ],
   "source": [
    "#division /\n",
    "x = 2\n",
    "y = 4\n",
    "print(y / x)\n"
   ]
  },
  {
   "cell_type": "code",
   "execution_count": 42,
   "id": "fdc5f73e",
   "metadata": {},
   "outputs": [
    {
     "name": "stdout",
     "output_type": "stream",
     "text": [
      "-7\n"
     ]
    }
   ],
   "source": [
    "# Floor division //\n",
    "\n",
    "x = -13\n",
    "y = 2\n",
    "print(x // y)"
   ]
  },
  {
   "cell_type": "code",
   "execution_count": 43,
   "id": "adfe3bf0",
   "metadata": {},
   "outputs": [
    {
     "name": "stdout",
     "output_type": "stream",
     "text": [
      "3\n"
     ]
    }
   ],
   "source": [
    "#modules %\n",
    "x = 15\n",
    "y = 4\n",
    "print(x % y)\n",
    "\n",
    "a=a+5\n",
    "a+=5\n"
   ]
  },
  {
   "cell_type": "code",
   "execution_count": 45,
   "id": "4bc3d194",
   "metadata": {},
   "outputs": [
    {
     "name": "stdout",
     "output_type": "stream",
     "text": [
      "36\n",
      "True\n"
     ]
    }
   ],
   "source": [
    "#Exponent **\n",
    "\n",
    "num = 6\n",
    "\n",
    "print(num ** 2) \n",
    "\n",
    "\n",
    "## < oprator\n",
    "a=10\n",
    "b=5\n",
    "if a>b:\n",
    "    print(\"True\")\n",
    "else:\n",
    "    print(\"False\")"
   ]
  },
  {
   "cell_type": "code",
   "execution_count": 67,
   "id": "0e1cfffa",
   "metadata": {},
   "outputs": [
    {
     "name": "stdout",
     "output_type": "stream",
     "text": [
      "True\n"
     ]
    }
   ],
   "source": [
    "#Membership operators\n",
    "#In operator\n",
    "my_list = [11, 15, 21, 29, 50, 70]\n",
    "num= 15\n",
    "# if num in my_list:\n",
    "#     print(num,\"True\")\n",
    "# else:\n",
    "#     print(num,\"False\")\n",
    "\n",
    "print(num in my_list)"
   ]
  },
  {
   "cell_type": "code",
   "execution_count": 70,
   "id": "ad8eb2b4",
   "metadata": {},
   "outputs": [
    {
     "name": "stdout",
     "output_type": "stream",
     "text": [
      "number is not present\n",
      "True\n",
      "True\n"
     ]
    }
   ],
   "source": [
    "#Not in operator\n",
    "\n",
    "my_tuple = (11, 15, 21, 29, 50, 70)\n",
    "num = 35\n",
    "if number not in my_tuple:\n",
    "    print(\"number is not present\")\n",
    "else:\n",
    "    print(\"number is present\")\n",
    "    \n",
    "print(num not in my_list)\n",
    "\n",
    "\n",
    "str1=\"python\"\n",
    "s='i'\n",
    "print(s not in str1)"
   ]
  },
  {
   "cell_type": "code",
   "execution_count": 71,
   "id": "c11364a4",
   "metadata": {},
   "outputs": [
    {
     "name": "stdout",
     "output_type": "stream",
     "text": [
      "False\n",
      "2180409197072\n",
      "2180409197104\n",
      "True\n",
      "2180409197072\n"
     ]
    }
   ],
   "source": [
    "#Python has 2 identity operators is and is not.\n",
    "#is operator\n",
    "x = 10\n",
    "y = 11 \n",
    "z = 10\n",
    "print(x is y) # it compare memory address of x and y \n",
    "print(id(x))\n",
    "print(id(y))\n",
    "print(x is z) # it compare memory address of x and z\n",
    "print(id(z))"
   ]
  },
  {
   "cell_type": "code",
   "execution_count": 78,
   "id": "cd625b10",
   "metadata": {},
   "outputs": [
    {
     "name": "stdout",
     "output_type": "stream",
     "text": [
      "2180453540720\n",
      "2180453540720\n",
      "True\n"
     ]
    }
   ],
   "source": [
    "#is not operator\n",
    "# x = 10\n",
    "# y = 11 \n",
    "# z = 10\n",
    "# print(x is not y) # it campare memory address of x and y \n",
    "# print(x is not z) # it campare memory address of x and z\n",
    "\n",
    "# l1=(1,2,3,4,5)\n",
    "# l2=(1,2,3,4,5)\n",
    "# print(id(l1))\n",
    "# print(id(l2))\n",
    "# print(l1 is l2)\n",
    "\n",
    "s='python'\n",
    "s1='python'\n",
    "print(id(s))\n",
    "print(id(s1))\n",
    "print(s is s1)"
   ]
  },
  {
   "cell_type": "code",
   "execution_count": 82,
   "id": "c7eab410",
   "metadata": {},
   "outputs": [
    {
     "name": "stdout",
     "output_type": "stream",
     "text": [
      "2\n"
     ]
    }
   ],
   "source": [
    "#Bitwise Operators\n",
    "#Bitwise and &\n",
    "a = 7\n",
    "b = 2\n",
    "\n",
    "print(a & b)\n",
    "\n",
    "\n"
   ]
  },
  {
   "cell_type": "code",
   "execution_count": 83,
   "id": "661aa13b",
   "metadata": {},
   "outputs": [
    {
     "name": "stdout",
     "output_type": "stream",
     "text": [
      "7\n"
     ]
    }
   ],
   "source": [
    "#Bitwise or\n",
    "a = 7\n",
    "b = 4\n",
    "print(a or b)\n"
   ]
  },
  {
   "cell_type": "code",
   "execution_count": 18,
   "id": "f668b2e1",
   "metadata": {},
   "outputs": [
    {
     "name": "stdout",
     "output_type": "stream",
     "text": [
      "2\n",
      "1\n"
     ]
    }
   ],
   "source": [
    "#Bitwise xor ^–\n",
    "a = 7\n",
    "b = 4\n",
    "c = 5\n",
    "print(a ^ c)\n",
    "print(b ^ c)"
   ]
  },
  {
   "cell_type": "code",
   "execution_count": 84,
   "id": "5f406f38",
   "metadata": {},
   "outputs": [
    {
     "name": "stdout",
     "output_type": "stream",
     "text": [
      "36\n"
     ]
    }
   ],
   "source": [
    "# if statement\n",
    "number = 6\n",
    "if number > 5:\n",
    "    # Calculate square\n",
    "    print(number * number)\n",
    "    \n",
    "\n"
   ]
  },
  {
   "cell_type": "code",
   "execution_count": 1,
   "id": "16688829",
   "metadata": {},
   "outputs": [
    {
     "name": "stdout",
     "output_type": "stream",
     "text": [
      "Enter the number:3\n",
      "number is smaller than 5\n"
     ]
    }
   ],
   "source": [
    "# if-else\n",
    "number = int(input(\"Enter the number:\"))\n",
    "if number > 5:\n",
    "\tprint(\"number is grater than 5\")\n",
    "else:\n",
    "\tprint(\"number is smaller than 5\")\n"
   ]
  },
  {
   "cell_type": "code",
   "execution_count": 3,
   "id": "eb2ca854",
   "metadata": {},
   "outputs": [
    {
     "name": "stdout",
     "output_type": "stream",
     "text": [
      "Wrong entry\n"
     ]
    }
   ],
   "source": [
    "## if-elif-else\n",
    "def user_check(choice):\n",
    "    if choice == 1:\n",
    "        print(\"Admin\")\n",
    "    elif choice == 2:\n",
    "        print(\"Editor\")\n",
    "    elif choice == 3:\n",
    "        print(\"Guest\")\n",
    "    else:\n",
    "        print(\"Wrong entry\")\n",
    "#user_check(1)\n",
    "# user_check(2)\n",
    "# user_check(3)\n",
    "user_check(4)"
   ]
  },
  {
   "cell_type": "code",
   "execution_count": 6,
   "id": "116f7b2b",
   "metadata": {},
   "outputs": [
    {
     "name": "stdout",
     "output_type": "stream",
     "text": [
      "Enter first number 31\n",
      "Enter second number 31\n",
      "31 and 31 are equal\n"
     ]
    }
   ],
   "source": [
    "## nested if\n",
    "num1 = int(input('Enter first number '))\n",
    "num2 = int(input('Enter second number '))\n",
    "\n",
    "if num1 >= num2:\n",
    "    if num1 == num2:\n",
    "        print(num1, 'and', num2, 'are equal')\n",
    "    \n",
    "    else:\n",
    "        print(num1, 'is greater than', num2)\n",
    "else:\n",
    "    print(num1, 'is smaller than', num2)"
   ]
  },
  {
   "cell_type": "code",
   "execution_count": 11,
   "id": "d38d8691",
   "metadata": {},
   "outputs": [
    {
     "name": "stdout",
     "output_type": "stream",
     "text": [
      "1\n",
      "2\n",
      "3\n",
      "4\n",
      "5\n",
      "6\n",
      "7\n",
      "8\n",
      "9\n",
      "10\n",
      "[21, 6, 89, 23, 66, 12, 7]\n",
      "21\n",
      "89\n",
      "23\n",
      "7\n"
     ]
    }
   ],
   "source": [
    "## for loop\n",
    "for i in range(1, 11):\n",
    "    print(i)\n",
    "    \n",
    "li=[21,6,89,23,66,12,7]\n",
    "print(li)\n",
    "for i in li:\n",
    "    if i%2!=0:\n",
    "        print(i)\n",
    "    else:\n",
    "        pass"
   ]
  },
  {
   "cell_type": "code",
   "execution_count": 16,
   "id": "9251d2a7",
   "metadata": {},
   "outputs": [
    {
     "name": "stdout",
     "output_type": "stream",
     "text": [
      "Sum of first 10 number is: 55\n"
     ]
    }
   ],
   "source": [
    "## while loop\n",
    "num = 10\n",
    "sum = 0\n",
    "i = 1\n",
    "while i <= num:\n",
    "    sum = sum + i\n",
    "    i = i + 1\n",
    "print(\"Sum of first 10 number is:\", sum)"
   ]
  },
  {
   "cell_type": "code",
   "execution_count": 18,
   "id": "5f3ecf99",
   "metadata": {},
   "outputs": [
    {
     "name": "stdout",
     "output_type": "stream",
     "text": [
      "0\n",
      "1\n",
      "2\n",
      "3\n",
      "stop processing.\n"
     ]
    }
   ],
   "source": [
    "## break statemnt\n",
    "for num in range(10):\n",
    "    if num > 3:\n",
    "        print(\"stop processing.\")\n",
    "        break\n",
    "    print(num)"
   ]
  },
  {
   "cell_type": "code",
   "execution_count": 19,
   "id": "5b2c7597",
   "metadata": {},
   "outputs": [
    {
     "name": "stdout",
     "output_type": "stream",
     "text": [
      "3\n",
      "4\n",
      "6\n",
      "7\n"
     ]
    }
   ],
   "source": [
    "#continue statement\n",
    "for num in range(3, 8):\n",
    "    if num == 5:\n",
    "        continue\n",
    "    else:\n",
    "        print(num)"
   ]
  },
  {
   "cell_type": "code",
   "execution_count": 26,
   "id": "ce8e996a",
   "metadata": {},
   "outputs": [
    {
     "name": "stdout",
     "output_type": "stream",
     "text": [
      "True\n",
      "Yes\n",
      "True\n",
      "Yes\n",
      "True\n",
      "Yes\n",
      "True\n",
      "Yes\n",
      "['January', 'June', 'March', 'April']\n"
     ]
    }
   ],
   "source": [
    "# pass statment\n",
    "months = ['January', 'June', 'March', 'April']\n",
    "for mon in months:\n",
    "    pass \n",
    "    print(\"True\")\n",
    "    if \"March\" in months:\n",
    "        print(\"Yes\")\n",
    "print(months)\n"
   ]
  },
  {
   "cell_type": "code",
   "execution_count": 48,
   "id": "7c4f09e2",
   "metadata": {},
   "outputs": [
    {
     "name": "stdout",
     "output_type": "stream",
     "text": [
      "8\n"
     ]
    }
   ],
   "source": [
    "a = 2\n",
    "b = 4\n",
    "\n",
    "# Logical and\n",
    "if a > 0 and b > 0:\n",
    "    # both conditions are true\n",
    "    print(a * b)\n",
    "else:\n",
    "    print(\"Do nothing\")\n"
   ]
  },
  {
   "cell_type": "code",
   "execution_count": 55,
   "id": "e7e2b84d",
   "metadata": {},
   "outputs": [
    {
     "name": "stdout",
     "output_type": "stream",
     "text": [
      "Do nothing\n"
     ]
    }
   ],
   "source": [
    "a = 22\n",
    "b = 40\n",
    "if a <0 or b < 0:\n",
    "    # at least one expression is true so conditions is true\n",
    "    print(a + b)  # 6\n",
    "else:\n",
    "    print(\"Do nothing\")\n"
   ]
  },
  {
   "cell_type": "code",
   "execution_count": 63,
   "id": "a123a9b3",
   "metadata": {},
   "outputs": [
    {
     "name": "stdout",
     "output_type": "stream",
     "text": [
      "Do nothing\n"
     ]
    }
   ],
   "source": [
    "a=1\n",
    "if not a:\n",
    "    # a is True so expression is False\n",
    "    print(a) \n",
    "else:\n",
    "    print(\"Do nothing\")\n"
   ]
  },
  {
   "cell_type": "code",
   "execution_count": 27,
   "id": "3f8cfa4e",
   "metadata": {},
   "outputs": [
    {
     "name": "stdout",
     "output_type": "stream",
     "text": [
      "True\n"
     ]
    }
   ],
   "source": [
    "#Single statement suites\n",
    "a=10\n",
    "print(True ) if a<15 else print(False)\n"
   ]
  },
  {
   "cell_type": "code",
   "execution_count": 30,
   "id": "a28705e7",
   "metadata": {},
   "outputs": [
    {
     "name": "stdout",
     "output_type": "stream",
     "text": [
      "31\n"
     ]
    }
   ],
   "source": [
    "a=23\n",
    "b=31\n",
    "c=14\n",
    "max=(a if a>b and a>c else b if b>c else c)\n",
    "print(max)"
   ]
  },
  {
   "cell_type": "code",
   "execution_count": 1,
   "id": "4f0a0866",
   "metadata": {},
   "outputs": [
    {
     "name": "stdout",
     "output_type": "stream",
     "text": [
      "24\n"
     ]
    }
   ],
   "source": [
    "#Python Operators Precedence\n",
    "print((10 - 4) * 2 +(10+2))"
   ]
  },
  {
   "cell_type": "code",
   "execution_count": null,
   "id": "f2c64804",
   "metadata": {},
   "outputs": [],
   "source": []
  }
 ],
 "metadata": {
  "kernelspec": {
   "display_name": "Python 3 (ipykernel)",
   "language": "python",
   "name": "python3"
  },
  "language_info": {
   "codemirror_mode": {
    "name": "ipython",
    "version": 3
   },
   "file_extension": ".py",
   "mimetype": "text/x-python",
   "name": "python",
   "nbconvert_exporter": "python",
   "pygments_lexer": "ipython3",
   "version": "3.10.4"
  }
 },
 "nbformat": 4,
 "nbformat_minor": 5
}
