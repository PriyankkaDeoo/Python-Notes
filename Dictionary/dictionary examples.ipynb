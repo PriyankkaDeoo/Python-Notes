{
 "cells": [
  {
   "cell_type": "code",
   "execution_count": 1,
   "id": "17f8e22e",
   "metadata": {},
   "outputs": [
    {
     "name": "stdout",
     "output_type": "stream",
     "text": [
      "<class 'dict'>\n",
      "<class 'dict'>\n",
      "{'Name': 'Madhiuri', 'Age': 26, 'Class': 'Python'}\n",
      "{'name': 'Jessa', 'country': 'USA', 'telephone': 1178}\n"
     ]
    }
   ],
   "source": [
    "#empty dictby by using {}\n",
    "d={}\n",
    "print(type(d))\n",
    "#empty dict by using dict()fun\n",
    "d1=dict()\n",
    "print(type(d1))\n",
    "\n",
    "# create a dictionary using {}\n",
    "d1={\"Name\":\"Madhiuri\",\"Age\":26,\"Class\":\"Python\"}\n",
    "print(d1)\n",
    "\n",
    "# create a dictionary using dict()\n",
    "d2= dict({\"name\": \"Jessa\", \"country\": \"USA\", \"telephone\": 1178})\n",
    "print(d2)"
   ]
  },
  {
   "cell_type": "code",
   "execution_count": 4,
   "id": "afc0c96d",
   "metadata": {},
   "outputs": [
    {
     "name": "stdout",
     "output_type": "stream",
     "text": [
      "{'name': 'Jessa', 10: 'Mobile'}\n"
     ]
    }
   ],
   "source": [
    "# first key is string and second is an integer\n",
    "sample_dict = {\"name\": \"Jessa\", 10: \"Mobile\"}\n",
    "print(sample_dict)"
   ]
  },
  {
   "cell_type": "code",
   "execution_count": 6,
   "id": "c581ca0b",
   "metadata": {},
   "outputs": [
    {
     "name": "stdout",
     "output_type": "stream",
     "text": [
      "{'name': 'Jessa', 10: 'Mobile'}\n",
      "Jessa\n",
      "Mobile\n"
     ]
    }
   ],
   "source": [
    "#Accessing elements of a dictionary\n",
    "d3= {\"name\": \"Jessa\", 10: \"Mobile\"}\n",
    "print(d3)\n",
    "# using []\n",
    "print(d3['name'])\n",
    "\n",
    "#using get\n",
    "print(d3.get(10))\n"
   ]
  },
  {
   "cell_type": "code",
   "execution_count": 6,
   "id": "deac25ab",
   "metadata": {},
   "outputs": [
    {
     "name": "stdout",
     "output_type": "stream",
     "text": [
      "{'name': 'Jessa', 'country': 'USA', 'telephone': 1178}\n",
      "dict_keys(['name', 'country', 'telephone'])\n",
      "dict_values(['Jessa', 'USA', 1178])\n",
      "dict_items([('name', 'Jessa'), ('country', 'USA'), ('telephone', 1178)])\n"
     ]
    }
   ],
   "source": [
    "## Accessing all key and values.\n",
    "d4= {\"name\": \"Jessa\", \"country\": \"USA\", \"telephone\": 1178}\n",
    "print(d4)\n",
    "\n",
    "# keys()\n",
    "print(d4.keys())\n",
    "\n",
    "print(d4.values())\n",
    "\n",
    "print(d4.items())\n"
   ]
  },
  {
   "cell_type": "code",
   "execution_count": 10,
   "id": "a307fa24",
   "metadata": {},
   "outputs": [
    {
     "name": "stdout",
     "output_type": "stream",
     "text": [
      "{'name': 'Madhuri', 'country': 'India', 'Mobile': 1178464}\n",
      "{'name': 'Madhuri', 'country': 'India', 'Mobile': 1178464, 'Age': 26}\n",
      "{'name': 'Madhuri', 'country': 'USA', 'Mobile': 1178464, 'Age': 26}\n"
     ]
    }
   ],
   "source": [
    "#Adding and modify  items to the dictionary\n",
    "# add by using key_value\n",
    "d5= {\"name\": \"Madhuri\", 'country': \"India\", \"Mobile\": 1178464}\n",
    "print(d5)\n",
    "d5['Age']=26\n",
    "print(d5)\n",
    "\n",
    "# modify or change\n",
    "d5.update({'country':'USA'})\n",
    "print(d5)\n",
    "\n",
    "\n",
    "\n"
   ]
  },
  {
   "cell_type": "code",
   "execution_count": 21,
   "id": "d86dae34",
   "metadata": {},
   "outputs": [
    {
     "name": "stdout",
     "output_type": "stream",
     "text": [
      "{'Name': {'F_name': 'Madhuri', 'L_name': 'Burande'}, 'class': {'Python': 100, 'jva': 110}}\n"
     ]
    }
   ],
   "source": [
    "#Nested Dictionaries\n",
    "#A dictionary can contain dictionaries, this is called nested dictionaries.\n",
    "\n",
    "d6={'Name':\n",
    "    {'F_name':'Madhuri','L_name':'Burande'},\n",
    "    'class':{'Python':100,'jva':110}\n",
    "   }\n",
    "print(d6)\n",
    "\n"
   ]
  },
  {
   "cell_type": "code",
   "execution_count": 28,
   "id": "bc485372",
   "metadata": {},
   "outputs": [
    {
     "name": "stdout",
     "output_type": "stream",
     "text": [
      "d8= {'brand': 'Ford', 'model': 'Mustang', 'year': 1964}\n",
      "my_dict= {'brand': 'Ford', 'model': 'Mustang', 'year': 1964}\n"
     ]
    }
   ],
   "source": [
    "#Copy a Dictionary\n",
    "#There are ways to make a copy, one way is to use the built-in Dictionary method copy().\n",
    "\n",
    "d7= {\"brand\": \"Ford\",\"model\": \"Mustang\",\"year\": 1964}\n",
    "d8=d7.copy()\n",
    "print(\"d8=\",d8)\n",
    "\n",
    "#Another way to make a copy is to use the built-in function dict()\n",
    "my_dict=dict(d7)\n",
    "print(\"my_dict=\",my_dict)\n",
    "\n"
   ]
  },
  {
   "cell_type": "code",
   "execution_count": 41,
   "id": "2fc5cb1d",
   "metadata": {},
   "outputs": [
    {
     "name": "stdout",
     "output_type": "stream",
     "text": [
      "brand Ford\n",
      "model Mustang\n",
      "year 1964\n",
      "\n",
      "Only key : brand\n",
      "Only key : model\n",
      "Only key : year\n",
      "\n",
      "key: brand\n",
      "key: model\n",
      "key: year\n",
      "\n",
      "only values : Ford\n",
      "only values : Mustang\n",
      "only values : 1964\n",
      "\n",
      "value: Ford\n",
      "value: Mustang\n",
      "value: 1964\n"
     ]
    }
   ],
   "source": [
    "# Loop Through a Dictionary\n",
    "#You can loop through a dictionary by using a for loop.\n",
    "d9= {\"brand\": \"Ford\",\"model\": \"Mustang\",\"year\": 1964}\n",
    "for key,value in d9.items():\n",
    "    print(key,value)\n",
    "print()\n",
    "    \n",
    "#Print all key names in the dictionary, one by one:\n",
    "for key in d9:\n",
    "    print(\"Only key :\",key)\n",
    "print()\n",
    "\n",
    "#You can use the keys() method to return the keys of a dictionary:\n",
    "for k in d9.keys():\n",
    "    print(\"key:\",k)\n",
    "print()\n",
    "\n",
    "#Print all values in the dictionary, one by one:\n",
    "for val in d9:\n",
    "    print(\"only values :\",d9[val])\n",
    "print()\n",
    "\n",
    "#You can use the keys() method to return the keys of a dictionary:\n",
    "\n",
    "for v in d9.values():\n",
    "    print(\"value:\",v)\n"
   ]
  },
  {
   "cell_type": "code",
   "execution_count": 29,
   "id": "424c2e20",
   "metadata": {},
   "outputs": [
    {
     "name": "stdout",
     "output_type": "stream",
     "text": [
      "{'name': 'Madhuri', 'country': 'India', 'Mobile': 1178464}\n",
      "pop= {'name': 'Madhuri', 'country': 'India'}\n",
      "\n",
      "{'Name': 'Madhiuri', 'Age': 26, 'Class': 'Python'}\n",
      "popitem= {'Name': 'Madhiuri', 'Age': 26}\n",
      "\n",
      "{'Name': 'Madhiuri', 'Age': 26, 'Class': 'Python'}\n",
      "del= {'Name': 'Madhiuri', 'Class': 'Python'}\n"
     ]
    }
   ],
   "source": [
    "#Remove Dictionary Items\n",
    "#1.pop():-The pop() method removes the item with the specified key name:\n",
    "d5= {\"name\": \"Madhuri\", 'country': \"India\", \"Mobile\": 1178464}\n",
    "print(d5)\n",
    "d5.pop('Mobile')\n",
    "print(\"pop=\",d5)\n",
    "print()\n",
    "\n",
    "#2.popitem()-remove last iem in dict\n",
    "d1={\"Name\":\"Madhiuri\",\"Age\":26,\"Class\":\"Python\"}\n",
    "print(d1)\n",
    "d1.popitem()\n",
    "print(\"popitem=\",d1)\n",
    "print()\n",
    "\n",
    "\n",
    "\n",
    "#del- by using key name\n",
    "d2={\"Name\":\"Madhiuri\",\"Age\":26,\"Class\":\"Python\"}\n",
    "print(d2)\n",
    "del d2['Age']\n",
    "print(\"del=\",d2)\n"
   ]
  },
  {
   "cell_type": "code",
   "execution_count": 12,
   "id": "2b270547",
   "metadata": {},
   "outputs": [
    {
     "name": "stdout",
     "output_type": "stream",
     "text": [
      "{'Name': 'Madhiuri', 'Age': 26, 'Class': 'Python'}\n",
      "{}\n"
     ]
    }
   ],
   "source": [
    "# clear()-Removes all the elements from the dictionary\n",
    "d2={\"Name\":\"Madhiuri\",\"Age\":26,\"Class\":\"Python\"}\n",
    "print(d2)\n",
    "d2.clear()\n",
    "print(d2)"
   ]
  },
  {
   "cell_type": "code",
   "execution_count": 43,
   "id": "d4f7bfd2",
   "metadata": {},
   "outputs": [
    {
     "name": "stdout",
     "output_type": "stream",
     "text": [
      "{'key1': None, 'key2': None, 'key3': None}\n",
      "{'key1': ('A', 'b', 'c'), 'key2': ('A', 'b', 'c'), 'key3': ('A', 'b', 'c')}\n"
     ]
    }
   ],
   "source": [
    "#fromkeys()-Returns a dictionary with the specified keys and value\n",
    "x = ('key1', 'key2', 'key3')\n",
    "dc1= dict.fromkeys(x)\n",
    "print(dc1)\n",
    "\n",
    "# or\n",
    "b = ('key1', 'key2', 'key3')\n",
    "y = 'A','b','c'\n",
    "dc2= dict.fromkeys(x, y)\n",
    "print(dc2)"
   ]
  },
  {
   "cell_type": "code",
   "execution_count": 55,
   "id": "5b4aa03f",
   "metadata": {},
   "outputs": [
    {
     "name": "stdout",
     "output_type": "stream",
     "text": [
      "{'brand': 'Ford', 'model': 'Mustang', 'year': 1964, 'abn': 'Bronzz'}\n",
      "Value : 7\n",
      "Value : mumbai\n",
      "{'Name': 'Zara', 'Age': 7, 'address': 'mumbai'}\n",
      "{'Name': 'Zara', 'Age': 7, 'address': 'pune'}\n"
     ]
    }
   ],
   "source": [
    "#setdefault()-Returns the value of the specified key. If the key does not exist: insert the key, with the specified value\n",
    "\n",
    "car = {\"brand\": \"Ford\",\"model\": \"Mustang\",\"year\": 1964}\n",
    "x = car.setdefault(\"abn\", \"Bronzz\")\n",
    "print(car)\n",
    "\n",
    "## key does not exist.\n",
    "dict = {'Name': 'Zara', 'Age': 7}\n",
    "print (\"Value : %s\" %  dict.setdefault('Age', None))\n",
    "print (\"Value : %s\" %  dict.setdefault('address', 'mumbai'))\n",
    "print (dict)\n",
    "dict['address']='pune'\n",
    "print(dict)"
   ]
  },
  {
   "cell_type": "code",
   "execution_count": 48,
   "id": "e7672bd1",
   "metadata": {},
   "outputs": [
    {
     "name": "stdout",
     "output_type": "stream",
     "text": [
      "{1: 1, 3: 3, 5: 5, 7: 7, 9: 9}\n",
      "[2, 4, 6, 8, 10, 12, 14, 16, 18]\n"
     ]
    }
   ],
   "source": [
    "#Dictionary comprehension:-\n",
    "d2={x:x for x in range(1,10) if x%2!=0}\n",
    "print(d2)\n",
    "d3=[y*2 for y in range(1,10)]\n",
    "print(d3)\n",
    "\n",
    "\n"
   ]
  },
  {
   "cell_type": "code",
   "execution_count": 3,
   "id": "23110746",
   "metadata": {},
   "outputs": [
    {
     "name": "stdout",
     "output_type": "stream",
     "text": [
      "{'Name': 'Sachin', 'age': 45}\n"
     ]
    }
   ],
   "source": [
    "d3=dict(Name='Sachin',age=45)\n",
    "print(d3)"
   ]
  },
  {
   "cell_type": "code",
   "execution_count": 15,
   "id": "49eddf57",
   "metadata": {},
   "outputs": [
    {
     "name": "stdout",
     "output_type": "stream",
     "text": [
      "d8 {'brand': 'Ford', 'model': 'Mustang', 'year': 1964}\n"
     ]
    }
   ],
   "source": [
    "d7= {\"brand\": \"Ford\",\"model\": \"Mustang\",\"year\": 1964}\n",
    "d8=d7.copy()\n",
    "print(\"d8=\",d8)\n",
    "\n"
   ]
  },
  {
   "cell_type": "code",
   "execution_count": 16,
   "id": "fda0d58e",
   "metadata": {},
   "outputs": [
    {
     "name": "stdout",
     "output_type": "stream",
     "text": [
      "brand Ford\n",
      "model Mustang\n",
      "year 1964\n"
     ]
    }
   ],
   "source": [
    "d9= {\"brand\": \"Ford\",\"model\": \"Mustang\",\"year\": 1964}\n",
    "for key,value in d9.items():\n",
    "    print(key,value)\n"
   ]
  },
  {
   "cell_type": "code",
   "execution_count": 21,
   "id": "6839fecf",
   "metadata": {},
   "outputs": [
    {
     "name": "stdout",
     "output_type": "stream",
     "text": [
      "('brand', 'Ford')\n",
      "('model', 'Mustang')\n",
      "('year', 1964)\n"
     ]
    }
   ],
   "source": [
    "d9= {\"brand\": \"Ford\",\"model\": \"Mustang\",\"year\": 1964}\n",
    "for value in d9.items():\n",
    "    print(value)"
   ]
  },
  {
   "cell_type": "code",
   "execution_count": 81,
   "id": "03586512",
   "metadata": {},
   "outputs": [
    {
     "name": "stdout",
     "output_type": "stream",
     "text": [
      "{'Name': 'Madhiuri', 'Age': 26, 'Class': 'Python'}\n"
     ]
    },
    {
     "ename": "KeyError",
     "evalue": "'mobile'",
     "output_type": "error",
     "traceback": [
      "\u001b[1;31m---------------------------------------------------------------------------\u001b[0m",
      "\u001b[1;31mKeyError\u001b[0m                                  Traceback (most recent call last)",
      "Input \u001b[1;32mIn [81]\u001b[0m, in \u001b[0;36m<cell line: 4>\u001b[1;34m()\u001b[0m\n\u001b[0;32m      2\u001b[0m d1\u001b[38;5;241m=\u001b[39m{\u001b[38;5;124m\"\u001b[39m\u001b[38;5;124mName\u001b[39m\u001b[38;5;124m\"\u001b[39m:\u001b[38;5;124m\"\u001b[39m\u001b[38;5;124mMadhiuri\u001b[39m\u001b[38;5;124m\"\u001b[39m,\u001b[38;5;124m\"\u001b[39m\u001b[38;5;124mAge\u001b[39m\u001b[38;5;124m\"\u001b[39m:\u001b[38;5;241m26\u001b[39m,\u001b[38;5;124m\"\u001b[39m\u001b[38;5;124mClass\u001b[39m\u001b[38;5;124m\"\u001b[39m:\u001b[38;5;124m\"\u001b[39m\u001b[38;5;124mPython\u001b[39m\u001b[38;5;124m\"\u001b[39m}\n\u001b[0;32m      3\u001b[0m \u001b[38;5;28mprint\u001b[39m(d1)\n\u001b[1;32m----> 4\u001b[0m \u001b[43md1\u001b[49m\u001b[38;5;241;43m.\u001b[39;49m\u001b[43mpop\u001b[49m\u001b[43m(\u001b[49m\u001b[38;5;124;43m'\u001b[39;49m\u001b[38;5;124;43mmobile\u001b[39;49m\u001b[38;5;124;43m'\u001b[39;49m\u001b[43m)\u001b[49m\n\u001b[0;32m      5\u001b[0m \u001b[38;5;28mprint\u001b[39m(\u001b[38;5;124m\"\u001b[39m\u001b[38;5;124mpopitem=\u001b[39m\u001b[38;5;124m\"\u001b[39m,d1)\n\u001b[0;32m      6\u001b[0m \u001b[38;5;28mprint\u001b[39m()\n",
      "\u001b[1;31mKeyError\u001b[0m: 'mobile'"
     ]
    }
   ],
   "source": [
    "#2.popitem()-remove last iem in dict\n",
    "d1={\"Name\":\"Madhiuri\",\"Age\":26,\"Class\":\"Python\"}\n",
    "print(d1)\n",
    "d1.pop('mobile')\n",
    "print(\"popitem=\",d1)\n",
    "print()\n",
    "\n"
   ]
  },
  {
   "cell_type": "code",
   "execution_count": 83,
   "id": "5dd49a03",
   "metadata": {},
   "outputs": [
    {
     "name": "stdout",
     "output_type": "stream",
     "text": [
      "26\n",
      "{'Name': 'Madhiuri', 'Age': 26, 'Class': 'Python', 'brand': 'Ford', 'model': 'Mustang', 'year': 1964}\n",
      "6\n",
      "year\n",
      "Age\n"
     ]
    }
   ],
   "source": [
    "d1={\"Name\":\"Madhiuri\",\"Age\":26,\"Class\":\"Python\"}\n",
    "d9= {\"brand\": \"Ford\",\"model\": \"Mustang\",\"year\": 1964}\n",
    "print(d1.get('Age'))\n",
    "d1.update(d9)\n",
    "print(d1)\n",
    "\n",
    "print(len(d1))\n",
    "print(max(d1))\n",
    "print(min(d1))\n"
   ]
  },
  {
   "cell_type": "code",
   "execution_count": 84,
   "id": "a96d1af3",
   "metadata": {},
   "outputs": [
    {
     "name": "stdout",
     "output_type": "stream",
     "text": [
      "{'Name': {'F_name': 'Madhuri', 'L_name': 'Burande'}, 'class': {'Python': 100, 'jva': 110}}\n"
     ]
    }
   ],
   "source": [
    "d6={'Name':\n",
    "    {'F_name':'Madhuri','L_name':'Burande'},\n",
    "    'class':{'Python':100,'jva':110}\n",
    "   }\n",
    "print(d6)\n"
   ]
  },
  {
   "cell_type": "code",
   "execution_count": 66,
   "id": "d276428f",
   "metadata": {},
   "outputs": [
    {
     "name": "stdout",
     "output_type": "stream",
     "text": [
      "{'brand': 7, 'model': 10, 'year': 50}\n",
      "67\n"
     ]
    }
   ],
   "source": [
    "d9= {\"brand\": 7,\"model\": 10,\"year\": 50}\n",
    "print(d9)\n",
    "sum1=0\n",
    "for val in d9.values():\n",
    "    sum1=sum1+val\n",
    "print(sum1)\n"
   ]
  },
  {
   "cell_type": "code",
   "execution_count": 73,
   "id": "7891fdb4",
   "metadata": {},
   "outputs": [
    {
     "name": "stdout",
     "output_type": "stream",
     "text": [
      "{'Name': 34, 'Age': 26, 'Class': 90}\n",
      "[('Age', 26), ('Class', 90), ('Name', 34)]\n",
      "('Age', 26)\n",
      "('Class', 90)\n",
      "('Name', 34)\n",
      "not found\n",
      "26\n"
     ]
    }
   ],
   "source": [
    "#Python | Sort Python Dictionaries by Key or Value Handling missing keys in \n",
    "d1={\"Name\":34,\"Age\":26,\"Class\":90}\n",
    "print(d1)\n",
    "\n",
    "d2=sorted(d1.items())\n",
    "print(d2)\n",
    "\n",
    "for key in d2:\n",
    "    print(key)\n",
    "    \n",
    "print(d1.get('address','not found'))\n",
    "print(d1.get('Age','not found'))"
   ]
  },
  {
   "cell_type": "code",
   "execution_count": 80,
   "id": "53092c5c",
   "metadata": {},
   "outputs": [
    {
     "name": "stdout",
     "output_type": "stream",
     "text": [
      "1\n"
     ]
    }
   ],
   "source": [
    "d1={'a':1,'b':2,'c':4}\n",
    "print(min(d1.values()))\n",
    "\n"
   ]
  },
  {
   "cell_type": "code",
   "execution_count": null,
   "id": "4d55d740",
   "metadata": {},
   "outputs": [],
   "source": []
  }
 ],
 "metadata": {
  "kernelspec": {
   "display_name": "Python 3 (ipykernel)",
   "language": "python",
   "name": "python3"
  },
  "language_info": {
   "codemirror_mode": {
    "name": "ipython",
    "version": 3
   },
   "file_extension": ".py",
   "mimetype": "text/x-python",
   "name": "python",
   "nbconvert_exporter": "python",
   "pygments_lexer": "ipython3",
   "version": "3.10.4"
  }
 },
 "nbformat": 4,
 "nbformat_minor": 5
}
