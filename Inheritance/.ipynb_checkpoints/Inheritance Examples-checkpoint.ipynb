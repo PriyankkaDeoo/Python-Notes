{
 "cells": [
  {
   "cell_type": "code",
   "execution_count": 1,
   "id": "ea12ab29",
   "metadata": {},
   "outputs": [
    {
     "name": "stdout",
     "output_type": "stream",
     "text": [
      "Mayank 103\n",
      "Emp class called\n"
     ]
    }
   ],
   "source": [
    "#simple inheritance example\n",
    "# A Python program to demonstrate inheritance\n",
    "\n",
    "class Person(object):\n",
    "\n",
    "# Constructor\n",
    "    def __init__(self, name, id):\n",
    "        self.name = name\n",
    "        self.id = id\n",
    "\n",
    "# To check if this person is an employee\n",
    "    def Display(self):\n",
    "        print(self.name, self.id)\n",
    "\n",
    "\n",
    "class Emp(Person):\n",
    "    def __init__(self, name, id):\n",
    "        self.name = name\n",
    "        self.id = id\n",
    "    def Print(self):\n",
    "        print(\"Emp class called\")\n",
    "\t\n",
    "Emp_details = Emp(\"Mayank\", 103)\n",
    "\n",
    "# calling parent class function\n",
    "Emp_details.Display()\n",
    "\n",
    "# Calling child class function\n",
    "Emp_details.Print()"
   ]
  },
  {
   "cell_type": "code",
   "execution_count": 4,
   "id": "0b25e62d",
   "metadata": {},
   "outputs": [
    {
     "name": "stdout",
     "output_type": "stream",
     "text": [
      "Mayank 103\n",
      "Emp class called\n"
     ]
    }
   ],
   "source": [
    "\n"
   ]
  },
  {
   "cell_type": "code",
   "execution_count": 1,
   "id": "3e254d13",
   "metadata": {},
   "outputs": [
    {
     "name": "stdout",
     "output_type": "stream",
     "text": [
      "This function is in parent class.\n",
      "This function is in child class.\n"
     ]
    }
   ],
   "source": [
    "#single level inheritance\n",
    "\n",
    "# Python program to demonstrate\n",
    "# single inheritance\n",
    " \n",
    "# Base class\n",
    "class Parent:\n",
    "    def func1(self):\n",
    "        print(\"This function is in parent class.\")\n",
    " \n",
    "# Derived class\n",
    " \n",
    " \n",
    "class Child(Parent):\n",
    "    def func2(self):\n",
    "        print(\"This function is in child class.\")\n",
    " \n",
    " \n",
    "# Driver's code\n",
    "object = Child()\n",
    "object.func1()\n",
    "object.func2()"
   ]
  },
  {
   "cell_type": "code",
   "execution_count": 7,
   "id": "7ee2471d",
   "metadata": {},
   "outputs": [
    {
     "name": "stdout",
     "output_type": "stream",
     "text": [
      "Father Class Constructor\n",
      "Son Class Instance Method: 2000\n"
     ]
    }
   ],
   "source": [
    "#By default, The constructor in the parent class is available to the child class.\n",
    "class Father: \n",
    "    def __init__(self): \n",
    "        self.money=2000\n",
    "        print(\"Father Class Constructor\")\n",
    "class Son (Father):\n",
    "    def disp(self):\n",
    "        print(\"Son Class Instance Method:\",self.money)\n",
    "s = Son( )\n",
    "s.disp() \n"
   ]
  },
  {
   "cell_type": "code",
   "execution_count": 12,
   "id": "2dcd9169",
   "metadata": {},
   "outputs": [
    {
     "name": "stdout",
     "output_type": "stream",
     "text": [
      "son class Constructor\n"
     ]
    },
    {
     "ename": "AttributeError",
     "evalue": "'Son' object has no attribute 'money'",
     "output_type": "error",
     "traceback": [
      "\u001b[1;31m---------------------------------------------------------------------------\u001b[0m",
      "\u001b[1;31mAttributeError\u001b[0m                            Traceback (most recent call last)",
      "Input \u001b[1;32mIn [12]\u001b[0m, in \u001b[0;36m<cell line: 12>\u001b[1;34m()\u001b[0m\n\u001b[0;32m     10\u001b[0m         \u001b[38;5;28mprint\u001b[39m(\u001b[38;5;124m\"\u001b[39m\u001b[38;5;124mSon Class Instance Method:\u001b[39m\u001b[38;5;124m\"\u001b[39m,\u001b[38;5;28mself\u001b[39m\u001b[38;5;241m.\u001b[39mmoney)\n\u001b[0;32m     11\u001b[0m s \u001b[38;5;241m=\u001b[39m Son( )\n\u001b[1;32m---> 12\u001b[0m \u001b[43ms\u001b[49m\u001b[38;5;241;43m.\u001b[39;49m\u001b[43mdisp\u001b[49m\u001b[43m(\u001b[49m\u001b[43m)\u001b[49m\n",
      "Input \u001b[1;32mIn [12]\u001b[0m, in \u001b[0;36mSon.disp\u001b[1;34m(self)\u001b[0m\n\u001b[0;32m      9\u001b[0m \u001b[38;5;28;01mdef\u001b[39;00m \u001b[38;5;21mdisp\u001b[39m(\u001b[38;5;28mself\u001b[39m):\n\u001b[1;32m---> 10\u001b[0m     \u001b[38;5;28mprint\u001b[39m(\u001b[38;5;124m\"\u001b[39m\u001b[38;5;124mSon Class Instance Method:\u001b[39m\u001b[38;5;124m\"\u001b[39m,\u001b[38;5;28;43mself\u001b[39;49m\u001b[38;5;241;43m.\u001b[39;49m\u001b[43mmoney\u001b[49m)\n",
      "\u001b[1;31mAttributeError\u001b[0m: 'Son' object has no attribute 'money'"
     ]
    }
   ],
   "source": [
    "#What will happen if we define constructor in both classes ?\n",
    "class Father: \n",
    "    def __init__(self): \n",
    "        self.money=2000\n",
    "        print(\"Father Class Constructor\")\n",
    "class Son (Father):\n",
    "    def __init__(self):\n",
    "        print(\"son class Constructor\")\n",
    "    def disp(self):\n",
    "        print(\"Son Class Instance Method:\",self.money)\n",
    "s = Son( )\n",
    "s.disp() "
   ]
  },
  {
   "cell_type": "code",
   "execution_count": 32,
   "id": "41cbae6e",
   "metadata": {},
   "outputs": [
    {
     "name": "stdout",
     "output_type": "stream",
     "text": [
      "Father Class Constructor\n",
      "son class Constructor\n",
      "Son Class Instance Method: 2000\n"
     ]
    }
   ],
   "source": [
    "#Constructor with super() method\n",
    "class Father: \n",
    "    def __init__(self): \n",
    "        self.money=2000\n",
    "        print(\"Father Class Constructor\")\n",
    "class Son (Father):\n",
    "    def __init__(self):\n",
    "        super().__init__()\n",
    "        print(\"son class Constructor\")\n",
    "    def disp(self):\n",
    "        print(\"Son Class Instance Method:\",self.money)\n",
    "s = Son( )\n",
    "s.disp() "
   ]
  },
  {
   "cell_type": "code",
   "execution_count": 6,
   "id": "2c9a904f",
   "metadata": {},
   "outputs": [
    {
     "ename": "TypeError",
     "evalue": "Son.__init__() missing 1 required positional argument: 'sonname'",
     "output_type": "error",
     "traceback": [
      "\u001b[1;31m---------------------------------------------------------------------------\u001b[0m",
      "\u001b[1;31mTypeError\u001b[0m                                 Traceback (most recent call last)",
      "Input \u001b[1;32mIn [6]\u001b[0m, in \u001b[0;36m<cell line: 21>\u001b[1;34m()\u001b[0m\n\u001b[0;32m     19\u001b[0m         \u001b[38;5;28mprint\u001b[39m(\u001b[38;5;124m\"\u001b[39m\u001b[38;5;124mFather name :\u001b[39m\u001b[38;5;124m\"\u001b[39m, \u001b[38;5;28mself\u001b[39m\u001b[38;5;241m.\u001b[39mfathername)\n\u001b[0;32m     20\u001b[0m         \u001b[38;5;28mprint\u001b[39m(\u001b[38;5;124m\"\u001b[39m\u001b[38;5;124mSon name :\u001b[39m\u001b[38;5;124m\"\u001b[39m, \u001b[38;5;28mself\u001b[39m\u001b[38;5;241m.\u001b[39msonname)\n\u001b[1;32m---> 21\u001b[0m s \u001b[38;5;241m=\u001b[39m \u001b[43mSon\u001b[49m\u001b[43m(\u001b[49m\u001b[43m)\u001b[49m\n\u001b[0;32m     22\u001b[0m s\u001b[38;5;241m.\u001b[39mdisp_name(\u001b[38;5;124m\"\u001b[39m\u001b[38;5;124msanavi\u001b[39m\u001b[38;5;124m\"\u001b[39m,\u001b[38;5;124m\"\u001b[39m\u001b[38;5;124mRohit\u001b[39m\u001b[38;5;124m\"\u001b[39m,\u001b[38;5;124m\"\u001b[39m\u001b[38;5;124mNarhar\u001b[39m\u001b[38;5;124m\"\u001b[39m)\n",
      "\u001b[1;31mTypeError\u001b[0m: Son.__init__() missing 1 required positional argument: 'sonname'"
     ]
    }
   ],
   "source": [
    "#multilevel inheritance\n",
    "class Grandfather:\n",
    "    def __init__(self,grandfathername):\n",
    "        self.grandfathername=grandfathername\n",
    "        \n",
    "class Father(Grandfather): \n",
    "    def __init__(self,fathername): \n",
    "        super().__init__(self)\n",
    "        self.fathername=fathername\n",
    "    \n",
    "        \n",
    "class Son (Father):\n",
    "    def __init__(self,sonname): \n",
    "        super().__init_(self)\n",
    "        self.sonname=sonname\n",
    "\n",
    "    def disp_name(self):\n",
    "        print('Grandfather name :', self.grandfathername)\n",
    "        print(\"Father name :\", self.fathername)\n",
    "        print(\"Son name :\", self.sonname)\n",
    "s = Son()\n",
    "s.disp_name(\"sanavi\",\"Rohit\",\"Narhar\")"
   ]
  },
  {
   "cell_type": "code",
   "execution_count": 23,
   "id": "8b888853",
   "metadata": {},
   "outputs": [
    {
     "name": "stdout",
     "output_type": "stream",
     "text": [
      "Father : RAM\n",
      "Mother : SITA\n"
     ]
    }
   ],
   "source": [
    "#Multiple Inheritance\n",
    "# Python program to demonstrate\n",
    "# multiple inheritance\n",
    " \n",
    "# Base class1\n",
    "class Mother:\n",
    "    mothername = \"\"\n",
    "    def mother(self):\n",
    "        print(self.mothername)\n",
    "# Base class2\n",
    "class Father:\n",
    "    fathername = \"\"\n",
    "def father(self):\n",
    "        print(self.fathername)\n",
    "# Derived class\n",
    " \n",
    "class Son(Father, Mother):\n",
    "    def parents(self):\n",
    "        print(\"Father :\", self.fathername)\n",
    "        print(\"Mother :\", self.mothername)\n",
    "# Driver's code\n",
    "s1 = Son()\n",
    "s1.fathername = \"RAM\"\n",
    "s1.mothername = \"SITA\"\n",
    "s1.parents()"
   ]
  },
  {
   "cell_type": "code",
   "execution_count": 34,
   "id": "29df6461",
   "metadata": {},
   "outputs": [
    {
     "name": "stdout",
     "output_type": "stream",
     "text": [
      "mother constructor\n",
      "Father constructor\n",
      "Son constructor\n",
      "Son class\n",
      "Mother class\n",
      "Father class\n"
     ]
    },
    {
     "data": {
      "text/plain": [
       "'•\\tThe search will start from Son. As the object of Son is created, the constructor of Son is called.\\n•\\tSon has super().__init__() inside his constructor so its parent class, the one in the left side ‘Father’ class’s constructor is called.\\n•\\tFather class also has super().__init__() inside his constructor so its parent ‘object’ class’s constructor is called.\\n•\\tObject does not have any constructor so the search will continue down to right hand side class (Mother) of object class so Mother class’s constructor is called.\\n•\\tAs Mother class also has super(). __inti__() so its parent class ‘object’ constructor is called but as object class already visited, the search will stop here.\\n'"
      ]
     },
     "execution_count": 34,
     "metadata": {},
     "output_type": "execute_result"
    }
   ],
   "source": [
    "#Multiple inheritance  \n",
    "#MRO  explained\n",
    "class Father:\n",
    "    def __init__(self):\n",
    "        super().__init__()\n",
    "        print(\"Father constructor\")\n",
    "    def showF(self):\n",
    "        print(\"Father class\")\n",
    "class Mother:\n",
    "    def __init__(self):\n",
    "        print(\"mother constructor\")\n",
    "    def showM(self):\n",
    "        print(\"Mother class\")\n",
    "class Son(Father,Mother):\n",
    "    def __init__(self):\n",
    "        super().__init__()\n",
    "        print(\"Son constructor\")\n",
    "    def showS(self):\n",
    "        print(\"Son class\")\n",
    "        \n",
    "obj=Son()\n",
    "obj.showS()\n",
    "obj.showM()\n",
    "obj.showF()\n",
    "\n",
    "\"\"\"•\tThe search will start from Son. As the object of Son is created, the constructor of Son is called.\n",
    "•\tSon has super().__init__() inside his constructor so its parent class, the one in the left side ‘Father’ class’s constructor is called.\n",
    "•\tFather class also has super().__init__() inside his constructor so its parent ‘object’ class’s constructor is called.\n",
    "•\tObject does not have any constructor so the search will continue down to right hand side class (Mother) of object class so Mother class’s constructor is called.\n",
    "•\tAs Mother class also has super(). __inti__() so its parent class ‘object’ constructor is called but as object class already visited, the search will stop here.\n",
    "\"\"\""
   ]
  },
  {
   "cell_type": "code",
   "execution_count": 35,
   "id": "016d7a9b",
   "metadata": {},
   "outputs": [
    {
     "name": "stdout",
     "output_type": "stream",
     "text": [
      "[<class '__main__.C'>, <class '__main__.A'>, <class '__main__.B'>, <class 'object'>]\n"
     ]
    }
   ],
   "source": [
    "#MRO flow using mro method\n",
    "#classname.mro() => returns  list\n",
    "#classname.__mro__() = > tuple format\n",
    "\n",
    "class A:\n",
    "    pass\n",
    " \n",
    "class B:\n",
    "    pass\n",
    " \n",
    "class C(A, B):\n",
    "    pass\n",
    "print(C.mro())\n",
    " "
   ]
  },
  {
   "cell_type": "code",
   "execution_count": 30,
   "id": "a4af147a",
   "metadata": {},
   "outputs": [
    {
     "name": "stdout",
     "output_type": "stream",
     "text": [
      "This function is in parent class.\n",
      "This function is in child 1.\n",
      "This function is in parent class.\n",
      "This function is in child 2.\n"
     ]
    }
   ],
   "source": [
    "\n",
    "# Hierarchical inheritance\n",
    "\n",
    "\n",
    "# Base class\n",
    "class Parent:\n",
    "\tdef func1(self):\n",
    "\t\tprint(\"This function is in parent class.\")\n",
    "\n",
    "# Derived class1\n",
    "\n",
    "\n",
    "class Child1(Parent):\n",
    "\tdef func2(self):\n",
    "\t\tprint(\"This function is in child 1.\")\n",
    "\n",
    "# Derivied class2\n",
    "\n",
    "\n",
    "class Child2(Parent):\n",
    "\tdef func3(self):\n",
    "\t\tprint(\"This function is in child 2.\")\n",
    "\n",
    "\n",
    "# Driver's code\n",
    "object1 = Child1()\n",
    "object2 = Child2()\n",
    "object1.func1()\n",
    "object1.func2()\n",
    "object2.func1()\n",
    "object2.func3()\n"
   ]
  },
  {
   "cell_type": "code",
   "execution_count": 31,
   "id": "73b815ef",
   "metadata": {},
   "outputs": [
    {
     "name": "stdout",
     "output_type": "stream",
     "text": [
      "This function is in school.\n",
      "This function is in student 1. \n"
     ]
    }
   ],
   "source": [
    "#hybrid inheritance\n",
    "\n",
    "# Python program to demonstrate\n",
    "# hybrid inheritance\n",
    " \n",
    " \n",
    "class School:\n",
    "    def func1(self):\n",
    "        print(\"This function is in school.\")\n",
    " \n",
    " \n",
    "class Student1(School):\n",
    "    def func2(self):\n",
    "        print(\"This function is in student 1. \")\n",
    " \n",
    " \n",
    "class Student2(School):\n",
    "    def func3(self):\n",
    "        print(\"This function is in student 2.\")\n",
    " \n",
    " \n",
    "class Student3(Student1, School):\n",
    "    def func4(self):\n",
    "        print(\"This function is in student 3.\")\n",
    " \n",
    " \n",
    "# Driver's code\n",
    "object = Student3()\n",
    "object.func1()\n",
    "object.func2()"
   ]
  },
  {
   "cell_type": "code",
   "execution_count": null,
   "id": "ae045345",
   "metadata": {},
   "outputs": [],
   "source": []
  }
 ],
 "metadata": {
  "kernelspec": {
   "display_name": "Python 3 (ipykernel)",
   "language": "python",
   "name": "python3"
  },
  "language_info": {
   "codemirror_mode": {
    "name": "ipython",
    "version": 3
   },
   "file_extension": ".py",
   "mimetype": "text/x-python",
   "name": "python",
   "nbconvert_exporter": "python",
   "pygments_lexer": "ipython3",
   "version": "3.10.4"
  }
 },
 "nbformat": 4,
 "nbformat_minor": 5
}
