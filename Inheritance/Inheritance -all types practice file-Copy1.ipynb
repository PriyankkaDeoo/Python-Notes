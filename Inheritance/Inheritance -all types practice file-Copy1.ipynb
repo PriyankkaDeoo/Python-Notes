{
 "cells": [
  {
   "cell_type": "code",
   "execution_count": 1,
   "id": "29f5c21f",
   "metadata": {},
   "outputs": [
    {
     "name": "stdout",
     "output_type": "stream",
     "text": [
      "My first class\n"
     ]
    }
   ],
   "source": [
    "class priyankka:\n",
    "    def __init__(self):\n",
    "        pass\n",
    "    def abc(self):\n",
    "        print(\"My first class\")\n",
    "\n",
    "obj=priyankka()\n",
    "obj.abc()"
   ]
  },
  {
   "cell_type": "code",
   "execution_count": 56,
   "id": "79243003",
   "metadata": {},
   "outputs": [
    {
     "name": "stdout",
     "output_type": "stream",
     "text": [
      "Method of class Father\n",
      "Method of class son\n",
      "Father class class method\n"
     ]
    },
    {
     "ename": "TypeError",
     "evalue": "Father.stat() takes 0 positional arguments but 1 was given",
     "output_type": "error",
     "traceback": [
      "\u001b[1;31m---------------------------------------------------------------------------\u001b[0m",
      "\u001b[1;31mTypeError\u001b[0m                                 Traceback (most recent call last)",
      "Input \u001b[1;32mIn [56]\u001b[0m, in \u001b[0;36m<cell line: 26>\u001b[1;34m()\u001b[0m\n\u001b[0;32m     24\u001b[0m obj\u001b[38;5;241m.\u001b[39mmethod2()\n\u001b[0;32m     25\u001b[0m obj\u001b[38;5;241m.\u001b[39mshow()\n\u001b[1;32m---> 26\u001b[0m \u001b[43mobj\u001b[49m\u001b[38;5;241;43m.\u001b[39;49m\u001b[43mstat\u001b[49m\u001b[43m(\u001b[49m\u001b[43m)\u001b[49m\n",
      "\u001b[1;31mTypeError\u001b[0m: Father.stat() takes 0 positional arguments but 1 was given"
     ]
    }
   ],
   "source": [
    "#inheritance\n",
    "#1.Single Levele inheritance\n",
    "\n",
    "class Father():\n",
    "    def __init__(self):\n",
    "        pass\n",
    "    #instance method\n",
    "    def method1(self):\n",
    "        print(\"Method of class Father\")\n",
    "   # @Classmethod\n",
    "    def show(cls):\n",
    "        print(\"Father class class method\")\n",
    "   # @staticmethod\n",
    "    def stat():\n",
    "        print(\"Parent class static method\")\n",
    "class Son(Father):\n",
    "    def __init__(self):\n",
    "        pass\n",
    "    def method2(self):\n",
    "        print(\"Method of class son\")\n",
    "    \n",
    "obj=Son()\n",
    "obj.method1()\n",
    "obj.method2()\n",
    "obj.show()\n",
    "obj.stat()"
   ]
  },
  {
   "cell_type": "code",
   "execution_count": 29,
   "id": "68e743d5",
   "metadata": {},
   "outputs": [
    {
     "name": "stdout",
     "output_type": "stream",
     "text": [
      "Base 1 class constructor\n",
      "Base2 class constructor\n",
      "child class constructor\n"
     ]
    }
   ],
   "source": [
    "#Multiple inheritances: When a child class inherits from multiple parent classes, \n",
    "#it is called multiple inheritances. \n",
    "#object \n",
    "#Father and Mother Class\n",
    "#Son class\n",
    "\n",
    "class Base1():\n",
    "    def __init__(self):\n",
    "        super().__init__()#calling parent constructor\n",
    "        print(\"Base 1 class constructor\")\n",
    "    def method1(name):\n",
    "        print(\"Method of Base 1 Class\", name)\n",
    "\n",
    "class Base2(Base1):\n",
    "    def __init__(self):\n",
    "        super().__init__()#calling parent constructor\n",
    "        print(\"Base2 class constructor\")\n",
    "    def method2(name):\n",
    "        print(\"Method of Base 2 Class\", name)\n",
    "        \n",
    "class child(Base2,Base1):\n",
    "    def __init__(self):\n",
    "        super().__init__() #calling parent constructor\n",
    "        print(\"child class constructor\")\n",
    "    def method3(name):\n",
    "        print(\"Method of Child Class\", name)\n",
    "        \n",
    "obj=child()\n",
    "#obj.method3()\n",
    "#obj.method1()\n",
    "#obj.method2()"
   ]
  },
  {
   "cell_type": "code",
   "execution_count": 46,
   "id": "3bd97314",
   "metadata": {},
   "outputs": [
    {
     "name": "stdout",
     "output_type": "stream",
     "text": [
      "mother constructor\n",
      "Father constructor\n",
      "Son constructor\n",
      "Son class\n",
      "Mother class\n",
      "Father class\n"
     ]
    }
   ],
   "source": [
    "#Multiple inheritance  #same example as above\n",
    "\n",
    "class Father:\n",
    "    def __init__(self):\n",
    "        super().__init__()\n",
    "        print(\"Father constructor\")\n",
    "    def showF(self):\n",
    "        print(\"Father class\")\n",
    "class Mother:\n",
    "    def __init__(self):\n",
    "        \n",
    "        print(\"mother constructor\")\n",
    "    def showM(self):\n",
    "        print(\"Mother class\")\n",
    "class Son(Father,Mother):\n",
    "    def __init__(self):\n",
    "        super().__init__()\n",
    "        print(\"Son constructor\")\n",
    "    def showS(self):\n",
    "        print(\"Son class\")\n",
    "        \n",
    "obj=Son()\n",
    "obj.showS()\n",
    "obj.showM()\n",
    "obj.showF()"
   ]
  },
  {
   "cell_type": "code",
   "execution_count": 53,
   "id": "32d9186a",
   "metadata": {},
   "outputs": [
    {
     "name": "stdout",
     "output_type": "stream",
     "text": [
      "Father Constructor\n",
      "Son Constructor\n",
      "Gransdson Constructor\n"
     ]
    }
   ],
   "source": [
    "#Multilevel inheritance\n",
    "#Object\n",
    "#Father Class\n",
    "#son Class\n",
    "#grandchild Class\n",
    "\n",
    "class Father:\n",
    "    def __init__(self):\n",
    "        print(\"Father Constructor\")\n",
    "    def showF(self):\n",
    "        print(\"Father class method\")\n",
    "    \n",
    "class Son(Father):\n",
    "    def __init__(self):\n",
    "        super().__init__()  #Calling Father class constructor\n",
    "        print(\"Son Constructor\")\n",
    "    def showS(self):\n",
    "        print(\"Son Class method\")\n",
    "\n",
    "class grandson(Son):\n",
    "    def __init__(self):\n",
    "        super().__init__()  #Calling son class constructor\n",
    "        print(\"Gransdson Constructor\")\n",
    "    def showG(self):\n",
    "        print(\"Grandson Class method\")\n",
    "\n",
    "obj=grandson()\n",
    "#obj.showG()\n",
    "#obj.showS()\n",
    "#obj.showF()"
   ]
  },
  {
   "cell_type": "code",
   "execution_count": 68,
   "id": "9891aebf",
   "metadata": {},
   "outputs": [
    {
     "name": "stdout",
     "output_type": "stream",
     "text": [
      "Father Class Constructor\n",
      "Daughter Class Constructor\n"
     ]
    }
   ],
   "source": [
    "#Hierarchical inheritance\n",
    "#one parent class multiple child classes\n",
    "#father\n",
    "#son , Daughter, son...\n",
    "#here we can create object of son or dauhter or son2 to acces fathers properties but they can not \n",
    "#access each others properties\n",
    "\n",
    "class Father(object):\n",
    "    def __init__(self):\n",
    "        print(\"Father Class Constructor\")\n",
    "    def showF(self):\n",
    "        print(\"Father class instance method\")\n",
    "class son(Father):\n",
    "    def __init__(self):\n",
    "        print(\"Son Class Constructor\")\n",
    "    def showS(self):\n",
    "        print(\"Son class instance method\")\n",
    "class daughter(Father):\n",
    "    def __init__(self):\n",
    "        super().__init__()  #calling father class constructor\n",
    "        print(\"Daughter Class Constructor\")\n",
    "    def showD(self):\n",
    "        print(\"Daughter class instance method\")\n",
    "class son2(Father):\n",
    "    def __init__(self):\n",
    "        print(\"Son 2 Class Constructor\")\n",
    "    def showS2(self):\n",
    "        print(\"Son 2 class instance method\")\n",
    "        \n",
    "obj=daughter()\n",
    "#obj.showD()\n",
    "#obj.ShowF()\n"
   ]
  },
  {
   "cell_type": "code",
   "execution_count": 76,
   "id": "d19cc64f",
   "metadata": {},
   "outputs": [
    {
     "name": "stdout",
     "output_type": "stream",
     "text": [
      "Constructor of A\n",
      "Constructor of B\n",
      "Constructor of D\n"
     ]
    }
   ],
   "source": [
    "#hybrid inheritance\n",
    "#more than inheritance combined togther forms hybrid\n",
    "'''Class A\n",
    "||\n",
    "Class B and C\n",
    "||\n",
    "Class D'''\n",
    "\n",
    "class A:\n",
    "    def __init__(self):\n",
    "        print(\"Constructor of A\")\n",
    "    def showA(self):\n",
    "        print(\"Method of Class A\")\n",
    "class B(A):\n",
    "    def __init__(self):\n",
    "        super().__init__()\n",
    "        print(\"Constructor of B\")\n",
    "    def showB(self):\n",
    "        print(\"Method of Class B\")\n",
    "class C(A):\n",
    "    def __init__(self):\n",
    "        super().__init__()\n",
    "        print(\"Constructor of C\")\n",
    "    def showC(self):\n",
    "        print(\"Method of Class C\")\n",
    "class D(B,A):\n",
    "    def __init__(self):\n",
    "        super().__init__()\n",
    "        print(\"Constructor of D\")\n",
    "    def showD(self):\n",
    "        print(\"Method of Class D\")\n",
    "        \n",
    "#obj=C()\n",
    "obj1=D()\n"
   ]
  },
  {
   "cell_type": "code",
   "execution_count": null,
   "id": "5094c799",
   "metadata": {},
   "outputs": [],
   "source": [
    " "
   ]
  }
 ],
 "metadata": {
  "kernelspec": {
   "display_name": "Python 3 (ipykernel)",
   "language": "python",
   "name": "python3"
  },
  "language_info": {
   "codemirror_mode": {
    "name": "ipython",
    "version": 3
   },
   "file_extension": ".py",
   "mimetype": "text/x-python",
   "name": "python",
   "nbconvert_exporter": "python",
   "pygments_lexer": "ipython3",
   "version": "3.10.4"
  }
 },
 "nbformat": 4,
 "nbformat_minor": 5
}
