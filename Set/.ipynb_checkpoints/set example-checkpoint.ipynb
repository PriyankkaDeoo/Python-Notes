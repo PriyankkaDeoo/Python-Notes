{
 "cells": [
  {
   "cell_type": "code",
   "execution_count": 17,
   "id": "234db007",
   "metadata": {},
   "outputs": [
    {
     "name": "stdout",
     "output_type": "stream",
     "text": [
      "{'priyanka', 10, 20, 30}\n",
      "{'priyanka', 10, (5, 6, 3)}\n"
     ]
    }
   ],
   "source": [
    "#creating set\n",
    "S={10,20,\"priyanka\",30}\n",
    "print(S)\n",
    "\n",
    "#set can not take list,dictionary(i.e mutable ) but can take tuple as an element\n",
    "s1={10,[2,4,5,6],\"priyanka\"}\n",
    "s2={10,\"priyanka\",{10,20}}\n",
    "s3={10,\"priyanka\",(5,6,3),{1:'a',2:'b'}}\n",
    "s4={10,\"priyanka\",(5,6,3)}\n",
    "\n",
    "print(s1)\n",
    "print(s2)\n",
    "print(s3)\n",
    "print(s4)"
   ]
  },
  {
   "cell_type": "code",
   "execution_count": 21,
   "id": "7aa68999",
   "metadata": {},
   "outputs": [
    {
     "name": "stdout",
     "output_type": "stream",
     "text": [
      "<class 'set'>\n",
      "<class 'dict'>\n"
     ]
    }
   ],
   "source": [
    "#creating empty set using set()\n",
    "a=set()\n",
    "print(type(a))\n",
    "\n",
    "#using { } it shows dict as a type\n",
    "s1={}\n",
    "print(type(s1))"
   ]
  },
  {
   "cell_type": "code",
   "execution_count": 25,
   "id": "9684cc18",
   "metadata": {},
   "outputs": [
    {
     "name": "stdout",
     "output_type": "stream",
     "text": [
      "{'banana', 'apple'}\n"
     ]
    }
   ],
   "source": [
    "#duplicates are not allowed\n",
    "\n",
    "s={\"apple\",\"banana\",\"apple\"}\n",
    "print(s)"
   ]
  },
  {
   "cell_type": "code",
   "execution_count": 24,
   "id": "1c6bf95e",
   "metadata": {},
   "outputs": [
    {
     "ename": "TypeError",
     "evalue": "'set' object is not subscriptable",
     "output_type": "error",
     "traceback": [
      "\u001b[1;31m---------------------------------------------------------------------------\u001b[0m",
      "\u001b[1;31mTypeError\u001b[0m                                 Traceback (most recent call last)",
      "Input \u001b[1;32mIn [24]\u001b[0m, in \u001b[0;36m<cell line: 4>\u001b[1;34m()\u001b[0m\n\u001b[0;32m      1\u001b[0m \u001b[38;5;66;03m#acessing set elements\u001b[39;00m\n\u001b[0;32m      3\u001b[0m a \u001b[38;5;241m=\u001b[39m {\u001b[38;5;241m10\u001b[39m, \u001b[38;5;241m20\u001b[39m,\u001b[38;5;124m\"\u001b[39m\u001b[38;5;124mGeekyShows\u001b[39m\u001b[38;5;124m\"\u001b[39m, \u001b[38;5;124m\"\u001b[39m\u001b[38;5;124mRaj\u001b[39m\u001b[38;5;124m\"\u001b[39m, \u001b[38;5;241m40\u001b[39m}\n\u001b[1;32m----> 4\u001b[0m \u001b[38;5;28mprint\u001b[39m(\u001b[43ma\u001b[49m\u001b[43m[\u001b[49m\u001b[38;5;241;43m0\u001b[39;49m\u001b[43m]\u001b[49m)\n",
      "\u001b[1;31mTypeError\u001b[0m: 'set' object is not subscriptable"
     ]
    }
   ],
   "source": [
    "#acessing set elements\n",
    "\n",
    "a = {10, 20,\"GeekyShows\", \"Raj\", 40}\n",
    "print(a[0])\n",
    "\n"
   ]
  },
  {
   "cell_type": "code",
   "execution_count": 2,
   "id": "968ab707",
   "metadata": {},
   "outputs": [
    {
     "name": "stdout",
     "output_type": "stream",
     "text": [
      "{1, 2, 3, 4, 7}\n"
     ]
    }
   ],
   "source": [
    "#add item\n",
    "s1={1,2,3,4}\n",
    "s1.add(7)\n",
    "print(s1)"
   ]
  },
  {
   "cell_type": "code",
   "execution_count": 4,
   "id": "e3fecb16",
   "metadata": {},
   "outputs": [
    {
     "name": "stdout",
     "output_type": "stream",
     "text": [
      "{1, 2, 3, 4, 6, 7}\n"
     ]
    }
   ],
   "source": [
    "#add multiple items\n",
    "s1={1,2,3,4}\n",
    "s1.update([6,2,1,7])\n",
    "print(s1)"
   ]
  },
  {
   "cell_type": "code",
   "execution_count": 11,
   "id": "7036ec4b",
   "metadata": {},
   "outputs": [
    {
     "name": "stdout",
     "output_type": "stream",
     "text": [
      "{1, 2, 3}\n"
     ]
    }
   ],
   "source": [
    "#Deleting element\n",
    "s1={1,2,3,4}\n",
    "s1.remove(4)\n",
    "print(s1)"
   ]
  },
  {
   "cell_type": "code",
   "execution_count": 28,
   "id": "e1a0be70",
   "metadata": {},
   "outputs": [
    {
     "name": "stdout",
     "output_type": "stream",
     "text": [
      "{2, 3, 4}\n"
     ]
    }
   ],
   "source": [
    "#Deleting element\n",
    "s1={1,2,3,4}\n",
    "s1.pop()\n",
    "print(s1)"
   ]
  },
  {
   "cell_type": "code",
   "execution_count": 9,
   "id": "caf3c549",
   "metadata": {},
   "outputs": [
    {
     "name": "stdout",
     "output_type": "stream",
     "text": [
      "{1, 2, 3, 4}\n"
     ]
    }
   ],
   "source": [
    "#Deleting element\n",
    "s1={1,2,3,4}\n",
    "s1.discard(5)\n",
    "print(s1)"
   ]
  },
  {
   "cell_type": "code",
   "execution_count": 26,
   "id": "721ce919",
   "metadata": {},
   "outputs": [
    {
     "ename": "NameError",
     "evalue": "name 's1' is not defined",
     "output_type": "error",
     "traceback": [
      "\u001b[1;31m---------------------------------------------------------------------------\u001b[0m",
      "\u001b[1;31mNameError\u001b[0m                                 Traceback (most recent call last)",
      "Input \u001b[1;32mIn [26]\u001b[0m, in \u001b[0;36m<cell line: 3>\u001b[1;34m()\u001b[0m\n\u001b[0;32m      1\u001b[0m s1\u001b[38;5;241m=\u001b[39m{\u001b[38;5;241m1\u001b[39m,\u001b[38;5;241m2\u001b[39m,\u001b[38;5;241m3\u001b[39m,\u001b[38;5;241m4\u001b[39m}\n\u001b[0;32m      2\u001b[0m \u001b[38;5;28;01mdel\u001b[39;00m s1\n\u001b[1;32m----> 3\u001b[0m \u001b[38;5;28mprint\u001b[39m(\u001b[43ms1\u001b[49m)\n",
      "\u001b[1;31mNameError\u001b[0m: name 's1' is not defined"
     ]
    }
   ],
   "source": [
    "#Deleting element\n",
    "s1={1,2,3,4}\n",
    "del s1\n",
    "print(s1)"
   ]
  },
  {
   "cell_type": "code",
   "execution_count": 29,
   "id": "0d55f3b3",
   "metadata": {},
   "outputs": [
    {
     "name": "stdout",
     "output_type": "stream",
     "text": [
      "set()\n"
     ]
    }
   ],
   "source": [
    "#Deleting element\n",
    "s1={1,2,3,4}\n",
    "s1.clear()\n",
    "print(s1)"
   ]
  },
  {
   "cell_type": "code",
   "execution_count": 2,
   "id": "f6322b5d",
   "metadata": {},
   "outputs": [
    {
     "name": "stdout",
     "output_type": "stream",
     "text": [
      "False\n"
     ]
    }
   ],
   "source": [
    "#isdisjoint\n",
    "s1={1,2,3,4}\n",
    "s2={1,2,3,4,5}\n",
    "print(s1.isdisjoint(s2))"
   ]
  },
  {
   "cell_type": "code",
   "execution_count": 27,
   "id": "6ae37fd6",
   "metadata": {},
   "outputs": [
    {
     "name": "stdout",
     "output_type": "stream",
     "text": [
      "True\n"
     ]
    }
   ],
   "source": [
    "#issubset\n",
    "s1={1,2,3,4}\n",
    "s2={1,2,3,4,5}\n",
    "print(s1.issubset(s2))\n"
   ]
  },
  {
   "cell_type": "code",
   "execution_count": 29,
   "id": "51981a4c",
   "metadata": {},
   "outputs": [
    {
     "name": "stdout",
     "output_type": "stream",
     "text": [
      "True\n"
     ]
    }
   ],
   "source": [
    "s1={1,2,3,4} \n",
    "s2={1,2,3,4,5} \n",
    "print(s2.issuperset(s1))"
   ]
  },
  {
   "cell_type": "code",
   "execution_count": 30,
   "id": "3255a1b1",
   "metadata": {},
   "outputs": [
    {
     "name": "stdout",
     "output_type": "stream",
     "text": [
      "{1, 2, 3, 4, 5, 7, 8, 10}\n"
     ]
    }
   ],
   "source": [
    "#JOIN SET - union\n",
    "s1={1,2,3,4} \n",
    "s2={1,2,3,4,5,7,8,10} \n",
    "print(s1.union(s2))"
   ]
  },
  {
   "cell_type": "code",
   "execution_count": 37,
   "id": "9618feb5",
   "metadata": {},
   "outputs": [
    {
     "name": "stdout",
     "output_type": "stream",
     "text": [
      "{1, 2, 3, 4}\n"
     ]
    }
   ],
   "source": [
    "#Keep ONLY the Duplicates\n",
    "s1={1,2,3,4} \n",
    "s2={1,2,3,4,5,7,8,10} \n",
    "print(s1.intersection(s2))"
   ]
  },
  {
   "cell_type": "code",
   "execution_count": 36,
   "id": "56411f1f",
   "metadata": {},
   "outputs": [
    {
     "name": "stdout",
     "output_type": "stream",
     "text": [
      "None\n"
     ]
    }
   ],
   "source": [
    "#intersection update\n",
    "s1={1,2,3,4,11} \n",
    "s2={1,2,3,4,5,7,8,10} \n",
    "print(s1.intersection_update(s2))"
   ]
  },
  {
   "cell_type": "code",
   "execution_count": 35,
   "id": "7fda74bd",
   "metadata": {},
   "outputs": [
    {
     "name": "stdout",
     "output_type": "stream",
     "text": [
      "{8, 10, 5, 7}\n"
     ]
    }
   ],
   "source": [
    "#Keep All, But NOT the Duplicates\n",
    "#differnece\n",
    "s1={1,2,3,4} \n",
    "s2={1,2,3,4,5,7,8,10} \n",
    "print(s2.difference(s1))"
   ]
  },
  {
   "cell_type": "code",
   "execution_count": 36,
   "id": "b11b007d",
   "metadata": {},
   "outputs": [
    {
     "name": "stdout",
     "output_type": "stream",
     "text": [
      "{5, 7, 8, 10, 11, 13, 15}\n"
     ]
    }
   ],
   "source": [
    "#symmetric_difference\n",
    "s1={1,2,3,4,11,13,15} \n",
    "s2={1,2,3,4,5,7,8,10} \n",
    "print(s2.symmetric_difference(s1))"
   ]
  },
  {
   "cell_type": "code",
   "execution_count": 1,
   "id": "69fd77dd",
   "metadata": {},
   "outputs": [
    {
     "name": "stdout",
     "output_type": "stream",
     "text": [
      "None\n"
     ]
    }
   ],
   "source": [
    "#symmetric_difference_update\n",
    "s1={1,2,3,4,11,13,15} \n",
    "s2={1,2,3,4,5,7,8,10} \n",
    "print(s2.symmetric_difference_update(s1))"
   ]
  },
  {
   "cell_type": "code",
   "execution_count": 2,
   "id": "bdf769e5",
   "metadata": {
    "scrolled": true
   },
   "outputs": [
    {
     "name": "stdout",
     "output_type": "stream",
     "text": [
      "set()\n",
      "enter no:2\n",
      "enter strigng:priyanka\n",
      "{'priyanka'}\n",
      "enter strigng:madhuri\n",
      "{'priyanka', 'madhuri'}\n"
     ]
    }
   ],
   "source": [
    "a=set()\n",
    "print(a)\n",
    "n=int(input(\"enter no:\"))\n",
    "for i in range(n):\n",
    "    m=input(\"enter strigng:\")\n",
    "    a.add(m)\n",
    "    print(a)\n",
    "    "
   ]
  },
  {
   "cell_type": "code",
   "execution_count": 18,
   "id": "e342de99",
   "metadata": {},
   "outputs": [
    {
     "name": "stdout",
     "output_type": "stream",
     "text": [
      "Enter string: priyanka\n",
      "<generator object gene at 0x0000027122877290>\n"
     ]
    }
   ],
   "source": [
    "#lower case string to upper case string using generator\n",
    "\n",
    "def gene(str1):\n",
    "    for i in str1:\n",
    "        str1.upper()\n",
    "        yield str1[i]\n",
    "        \n",
    "str1=input(\"Enter string: \")\n",
    "x=gene(str1)\n",
    "print(x)\n",
    " \n"
   ]
  },
  {
   "cell_type": "code",
   "execution_count": 16,
   "id": "dff3d83c",
   "metadata": {},
   "outputs": [
    {
     "name": "stdout",
     "output_type": "stream",
     "text": [
      "a k n a y i r p "
     ]
    }
   ],
   "source": [
    "#reverse string\n",
    "def reversstr(mystr):\n",
    "    l=len(mystr)\n",
    "    for i in range(l-1,-1,-1):\n",
    "        yield mystr[i]\n",
    "for chr in reversstr('priyanka'):\n",
    "    print(chr, end=\" \")\n",
    "    \n"
   ]
  },
  {
   "cell_type": "code",
   "execution_count": null,
   "id": "fe6cf9ab",
   "metadata": {},
   "outputs": [],
   "source": []
  }
 ],
 "metadata": {
  "kernelspec": {
   "display_name": "Python 3 (ipykernel)",
   "language": "python",
   "name": "python3"
  },
  "language_info": {
   "codemirror_mode": {
    "name": "ipython",
    "version": 3
   },
   "file_extension": ".py",
   "mimetype": "text/x-python",
   "name": "python",
   "nbconvert_exporter": "python",
   "pygments_lexer": "ipython3",
   "version": "3.10.4"
  }
 },
 "nbformat": 4,
 "nbformat_minor": 5
}
