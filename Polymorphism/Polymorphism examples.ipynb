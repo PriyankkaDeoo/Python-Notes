{
 "cells": [
  {
   "cell_type": "code",
   "execution_count": null,
   "id": "004e7579",
   "metadata": {},
   "outputs": [],
   "source": [
    "#polymorphism example 1\n",
    "\n",
    "print(4+5)\n",
    "print(\"4\"+\"5\")"
   ]
  },
  {
   "cell_type": "code",
   "execution_count": null,
   "id": "40c6b706",
   "metadata": {},
   "outputs": [],
   "source": [
    "#polymorphism example 2\n",
    "\n",
    "# len() being used for a string\n",
    "print(len(\"priyanka\"))\n",
    "# len() being used for a list\n",
    "print(len([4, 820, 56,78]))\n"
   ]
  },
  {
   "cell_type": "code",
   "execution_count": null,
   "id": "45c9f85d",
   "metadata": {},
   "outputs": [],
   "source": [
    "#operator overloading simple example\n",
    "\n",
    "print(\"priyanka\"*3)\n",
    "print(2*3)"
   ]
  },
  {
   "cell_type": "code",
   "execution_count": 2,
   "id": "aa01963c",
   "metadata": {},
   "outputs": [
    {
     "name": "stdout",
     "output_type": "stream",
     "text": [
      "20000\n"
     ]
    }
   ],
   "source": [
    "#operator overloading Class example\n",
    "# Operator Overloading\n",
    "class A:\n",
    "\tdef __init__(self, x):\n",
    "\t\tself.x = x\n",
    "\tdef __add__(self, other):\n",
    "\t\treturn self.x * other.x\n",
    "\t\t\t\n",
    "class B:\n",
    "\tdef __init__(self, x):\n",
    "\t\tself.x = x\n",
    "\t\t\n",
    "a = A(100)\n",
    "b = B(200)\n",
    "print(a+b)\t\t#A.__add__(a, b)\n",
    "\n",
    "#10+20\t\t\tint.__add__(10, 20)\n",
    "#'a'+'b'\t\t\tstr.__add__('a', 'b')\n",
    "#a+b\t\t\t\tA.__add__(a, b)\n",
    "\n"
   ]
  },
  {
   "cell_type": "code",
   "execution_count": null,
   "id": "95ce9562",
   "metadata": {},
   "outputs": [],
   "source": [
    "#self keyword\n",
    "#it is clearly seen that self and obj is referring to the same object\n",
    " \n",
    "class check:\n",
    "    def __init__(self):\n",
    "        print(\"Address of self = \",id(self))\n",
    " \n",
    "obj = check()\n",
    "print(\"Address of class object = \",id(obj))"
   ]
  },
  {
   "cell_type": "code",
   "execution_count": 4,
   "id": "b85258f9",
   "metadata": {},
   "outputs": [
    {
     "ename": "TypeError",
     "evalue": "A.sum() takes 1 positional argument but 2 were given",
     "output_type": "error",
     "traceback": [
      "\u001b[1;31m---------------------------------------------------------------------------\u001b[0m",
      "\u001b[1;31mTypeError\u001b[0m                                 Traceback (most recent call last)",
      "Input \u001b[1;32mIn [4]\u001b[0m, in \u001b[0;36m<cell line: 12>\u001b[1;34m()\u001b[0m\n\u001b[0;32m     10\u001b[0m obj\u001b[38;5;241m=\u001b[39mA()\n\u001b[0;32m     11\u001b[0m \u001b[38;5;66;03m#obj.sum()\u001b[39;00m\n\u001b[1;32m---> 12\u001b[0m \u001b[43mobj\u001b[49m\u001b[38;5;241;43m.\u001b[39;49m\u001b[43msum\u001b[49m\u001b[43m(\u001b[49m\u001b[38;5;241;43m20\u001b[39;49m\u001b[43m)\u001b[49m\n",
      "\u001b[1;31mTypeError\u001b[0m: A.sum() takes 1 positional argument but 2 were given"
     ]
    }
   ],
   "source": [
    "#actual method overloading is not possible in python how?\n",
    "#wrong method overloading\n",
    "\n",
    "class A:\n",
    "    def sum(self,a):\n",
    "        print(\"1st sum method\",a)\n",
    "    def sum(self):\n",
    "        print(\"2nd sum method\")\n",
    "        \n",
    "obj=A()\n",
    "#obj.sum()\n",
    "obj.sum(20)\n",
    "    "
   ]
  },
  {
   "cell_type": "code",
   "execution_count": 6,
   "id": "a6d30211",
   "metadata": {},
   "outputs": [
    {
     "name": "stdout",
     "output_type": "stream",
     "text": [
      "30\n"
     ]
    }
   ],
   "source": [
    "#resolving method overloading by giving multiple conditional statements\n",
    "class Myclass:\n",
    "\tdef sum(self, a=None, b=None, c=None):\n",
    "\t\tif a!=None and b!=None and c!=None:\n",
    "\t\t\ts = a + b + c\n",
    "\t\telif a!=None and b!=None:\n",
    "\t\t\ts = a + b\n",
    "\t\telse:\n",
    "\t\t\ts = 'Provide at least Two Numbers'\n",
    "\t\treturn s\n",
    "\t\t\n",
    "obj = Myclass()\n",
    "print(obj.sum(10,20))"
   ]
  },
  {
   "cell_type": "code",
   "execution_count": 10,
   "id": "3ab65c60",
   "metadata": {},
   "outputs": [
    {
     "name": "stdout",
     "output_type": "stream",
     "text": [
      "sum 30\n",
      "sum 65\n",
      "sum 27\n"
     ]
    },
    {
     "ename": "TypeError",
     "evalue": "Poly.abc() takes from 1 to 3 positional arguments but 4 were given",
     "output_type": "error",
     "traceback": [
      "\u001b[1;31m---------------------------------------------------------------------------\u001b[0m",
      "\u001b[1;31mTypeError\u001b[0m                                 Traceback (most recent call last)",
      "Input \u001b[1;32mIn [10]\u001b[0m, in \u001b[0;36m<cell line: 12>\u001b[1;34m()\u001b[0m\n\u001b[0;32m     10\u001b[0m obj\u001b[38;5;241m.\u001b[39mabc(\u001b[38;5;241m45\u001b[39m)\n\u001b[0;32m     11\u001b[0m obj\u001b[38;5;241m.\u001b[39mabc(\u001b[38;5;241m22\u001b[39m,\u001b[38;5;241m5\u001b[39m)\n\u001b[1;32m---> 12\u001b[0m \u001b[43mobj\u001b[49m\u001b[38;5;241;43m.\u001b[39;49m\u001b[43mabc\u001b[49m\u001b[43m(\u001b[49m\u001b[38;5;241;43m22\u001b[39;49m\u001b[43m,\u001b[49m\u001b[38;5;241;43m5\u001b[39;49m\u001b[43m,\u001b[49m\u001b[38;5;241;43m6\u001b[39;49m\u001b[43m)\u001b[49m\n",
      "\u001b[1;31mTypeError\u001b[0m: Poly.abc() takes from 1 to 3 positional arguments but 4 were given"
     ]
    }
   ],
   "source": [
    "#resolving method overloading - by taking default arguments\n",
    "class Poly:\n",
    "    def __init__(self):\n",
    "        pass\n",
    "    def abc(self,a=10,b=20):\n",
    "        print(\"sum\",a+b)\n",
    "        \n",
    "obj=Poly()\n",
    "obj.abc()\n",
    "obj.abc(45)\n",
    "obj.abc(22,5)\n",
    "obj.abc(22,5,6)"
   ]
  },
  {
   "cell_type": "code",
   "execution_count": 13,
   "id": "899abc4b",
   "metadata": {},
   "outputs": [
    {
     "name": "stdout",
     "output_type": "stream",
     "text": [
      "first (12,)\n"
     ]
    }
   ],
   "source": [
    "#resolving method overloading by passing variable length arguments\n",
    "class Poly:\n",
    "    def __init__(self):\n",
    "        pass\n",
    "    def abc(self,*x):\n",
    "        print(\"first\",x)\n",
    "        \n",
    "obj=Poly()\n",
    "obj.abc(12)"
   ]
  },
  {
   "cell_type": "code",
   "execution_count": 15,
   "id": "a9b2f855",
   "metadata": {},
   "outputs": [
    {
     "name": "stdout",
     "output_type": "stream",
     "text": [
      "Multiplication: 200\n",
      "Addition: 30\n"
     ]
    }
   ],
   "source": [
    "# Method Overriding\n",
    "class Add:\n",
    "\tdef result(self, a, b):\n",
    "\t\tprint('Addition:', a+b)\n",
    "\t\t\n",
    "class Multi(Add):\n",
    "\tdef result(self, a, b):\n",
    "\t\tprint('Multiplication:', a*b)\n",
    "\t\t\n",
    "m = Multi()\n",
    "m.result(10, 20)\n",
    "\n",
    "m = Add()\n",
    "m.result(10, 20)"
   ]
  },
  {
   "cell_type": "code",
   "execution_count": 18,
   "id": "a3be081a",
   "metadata": {},
   "outputs": [
    {
     "name": "stdout",
     "output_type": "stream",
     "text": [
      "Addition: 30\n",
      "Multiplication: 200\n"
     ]
    }
   ],
   "source": [
    "# Method Overriding\n",
    "class Add:\n",
    "\tdef result(self, a, b):\n",
    "\t\tprint('Addition:', a+b)\n",
    "\t\t\n",
    "class Multi(Add):\n",
    "\tdef result(self, a, b):\n",
    "\t\tsuper().result(a,b)\t\t\t\t# Calling Parent Class's Method\n",
    "\t\tprint('Multiplication:', a*b)\n",
    "\t\t\n",
    "m = Multi()\n",
    "m.result(10, 20)"
   ]
  },
  {
   "cell_type": "code",
   "execution_count": 21,
   "id": "9fd435af",
   "metadata": {},
   "outputs": [
    {
     "name": "stdout",
     "output_type": "stream",
     "text": [
      "thapak thapak thapak thapak\n",
      "tabdak tabdak tabdak tabdak\n"
     ]
    },
    {
     "ename": "AttributeError",
     "evalue": "'Cat' object has no attribute 'walk'",
     "output_type": "error",
     "traceback": [
      "\u001b[1;31m---------------------------------------------------------------------------\u001b[0m",
      "\u001b[1;31mAttributeError\u001b[0m                            Traceback (most recent call last)",
      "Input \u001b[1;32mIn [21]\u001b[0m, in \u001b[0;36m<cell line: 24>\u001b[1;34m()\u001b[0m\n\u001b[0;32m     21\u001b[0m myfunction(h)\n\u001b[0;32m     23\u001b[0m c \u001b[38;5;241m=\u001b[39m Cat()\n\u001b[1;32m---> 24\u001b[0m \u001b[43mmyfunction\u001b[49m\u001b[43m(\u001b[49m\u001b[43mc\u001b[49m\u001b[43m)\u001b[49m\n",
      "Input \u001b[1;32mIn [21]\u001b[0m, in \u001b[0;36mmyfunction\u001b[1;34m(obj)\u001b[0m\n\u001b[0;32m     14\u001b[0m \u001b[38;5;28;01mdef\u001b[39;00m \u001b[38;5;21mmyfunction\u001b[39m(obj):\n\u001b[1;32m---> 15\u001b[0m \t\u001b[43mobj\u001b[49m\u001b[38;5;241;43m.\u001b[39;49m\u001b[43mwalk\u001b[49m()\n",
      "\u001b[1;31mAttributeError\u001b[0m: 'Cat' object has no attribute 'walk'"
     ]
    }
   ],
   "source": [
    "# Duck Typing\n",
    "class Duck:\n",
    "\tdef walk(self):\n",
    "\t\tprint(\"thapak thapak thapak thapak\")\n",
    "\n",
    "class Horse:\n",
    "\tdef walk(self):\n",
    "\t\tprint(\"tabdak tabdak tabdak tabdak\")\n",
    "\t\t\n",
    "class Cat:\n",
    "\tdef talk(self):\n",
    "\t\tprint(\"Meow Meow\")\n",
    "\t\t\n",
    "def myfunction(obj):\n",
    "\tobj.walk()\n",
    "\t\n",
    "d = Duck()\n",
    "myfunction(d)\n",
    "\n",
    "h = Horse()\n",
    "myfunction(h)\n",
    "\n",
    "c = Cat()\n",
    "myfunction(c)"
   ]
  },
  {
   "cell_type": "code",
   "execution_count": 22,
   "id": "b0f995f1",
   "metadata": {},
   "outputs": [
    {
     "name": "stdout",
     "output_type": "stream",
     "text": [
      "thapak thapak thapak thapak\n",
      "tabdak tabdak tabdak tabdak\n",
      "Meow Meow\n"
     ]
    }
   ],
   "source": [
    "#strong typing\n",
    "class Duck:\n",
    "\tdef walk(self):\n",
    "\t\tprint(\"thapak thapak thapak thapak\")\n",
    "\n",
    "class Horse:\n",
    "\tdef walk(self):\n",
    "\t\tprint(\"tabdak tabdak tabdak tabdak\")\n",
    "\t\t\n",
    "class Cat:\n",
    "\tdef talk(self):\n",
    "\t\tprint(\"Meow Meow\")\n",
    "\t\t\n",
    "def myfunction(obj):\n",
    "\tif hasattr(obj, 'walk'):\n",
    "\t\tobj.walk()\n",
    "\tif hasattr(obj, 'talk'):\n",
    "\t\tobj.talk()\n",
    "\t\n",
    "d = Duck()\n",
    "myfunction(d)\n",
    "\n",
    "h = Horse()\n",
    "myfunction(h)\n",
    "\n",
    "c = Cat()\n",
    "myfunction(c)"
   ]
  },
  {
   "cell_type": "code",
   "execution_count": null,
   "id": "5c8a4635",
   "metadata": {},
   "outputs": [],
   "source": []
  }
 ],
 "metadata": {
  "kernelspec": {
   "display_name": "Python 3 (ipykernel)",
   "language": "python",
   "name": "python3"
  },
  "language_info": {
   "codemirror_mode": {
    "name": "ipython",
    "version": 3
   },
   "file_extension": ".py",
   "mimetype": "text/x-python",
   "name": "python",
   "nbconvert_exporter": "python",
   "pygments_lexer": "ipython3",
   "version": "3.10.4"
  }
 },
 "nbformat": 4,
 "nbformat_minor": 5
}
