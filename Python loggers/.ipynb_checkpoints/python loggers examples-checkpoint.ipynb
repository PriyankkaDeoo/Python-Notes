{
 "cells": [
  {
   "cell_type": "code",
   "execution_count": 6,
   "id": "b43bf8e3",
   "metadata": {},
   "outputs": [
    {
     "name": "stderr",
     "output_type": "stream",
     "text": [
      "WARNING:root:The warning message is displaying\n",
      "ERROR:root:The error message is displaying\n",
      "CRITICAL:root:The critical message is displaying\n"
     ]
    }
   ],
   "source": [
    "#simple logging example\n",
    "import logging  \n",
    "  \n",
    "logging.debug('The debug message is displaying')  \n",
    "logging.info('The info message is displaying')  \n",
    "logging.warning('The warning message is displaying')  \n",
    "logging.error('The error message is displaying')  \n",
    "logging.critical('The critical message is displaying')  "
   ]
  },
  {
   "cell_type": "code",
   "execution_count": 9,
   "id": "973a9cb1",
   "metadata": {},
   "outputs": [
    {
     "name": "stderr",
     "output_type": "stream",
     "text": [
      "ERROR:root:The dubug message is logged\n"
     ]
    }
   ],
   "source": [
    "#basicConfig example\n",
    "import logging  \n",
    "  \n",
    "logging.basicConfig(level=logging.ERROR)  \n",
    "logging.error('The dubug message is logged')  "
   ]
  },
  {
   "cell_type": "code",
   "execution_count": 10,
   "id": "4623d4bf",
   "metadata": {},
   "outputs": [
    {
     "name": "stderr",
     "output_type": "stream",
     "text": [
      "WARNING:root:This will get logged to a file\n"
     ]
    }
   ],
   "source": [
    "#basicConfig formating \n",
    "import logging  \n",
    "  \n",
    "logging.basicConfig(filename='msg.log', filemode='a', format='%(name)s - %(levelname)s - %(message)s')  \n",
    "logging.warning('This will get logged to a file')  \n",
    "\n",
    "#here it does not create file msg.log"
   ]
  },
  {
   "cell_type": "code",
   "execution_count": null,
   "id": "83de411a",
   "metadata": {},
   "outputs": [],
   "source": [
    "#basicConfig formating\n",
    "import logging  \n",
    "logging.basicConfig(format='%(process)d-%(levelname)s-%(message)s')  \n",
    "logging.warning('This is a Warning Message')\n"
   ]
  },
  {
   "cell_type": "code",
   "execution_count": null,
   "id": "b63afbe8",
   "metadata": {},
   "outputs": [],
   "source": [
    "#basicConfig formating\n",
    "import logging  \n",
    "logging.basicConfig(format='%(asctime)s - %(message)s', level=logging.INFO)  \n",
    "logging.info('Admin logged in') "
   ]
  },
  {
   "cell_type": "code",
   "execution_count": null,
   "id": "5f6f017d",
   "metadata": {},
   "outputs": [],
   "source": [
    "#logging variable data\n",
    "import logging  \n",
    "  \n",
    "name = 'Peter Decosta'  \n",
    "  \n",
    "logging.error('%s raised an error', name)  "
   ]
  },
  {
   "cell_type": "code",
   "execution_count": null,
   "id": "612650e7",
   "metadata": {},
   "outputs": [],
   "source": [
    "#logging variable data\n",
    "import logging  \n",
    "  \n",
    "name = 'Antonio Mino'  \n",
    "  \n",
    "logging.error(f'{name} raised an error')  "
   ]
  },
  {
   "cell_type": "code",
   "execution_count": null,
   "id": "c0141b7e",
   "metadata": {},
   "outputs": [],
   "source": [
    "#creatig logger object\n",
    "\n",
    "import logging  \n",
    "logger = logging.getLogger('first_logger')  \n",
    "logger.warning('This is a warning message')  \n"
   ]
  },
  {
   "cell_type": "code",
   "execution_count": null,
   "id": "a6d9d97d",
   "metadata": {},
   "outputs": [],
   "source": [
    "#creating logging object\n",
    "import logging  \n",
    "  \n",
    "#Create and configure logger using the basicConfig() function  \n",
    "logging.basicConfig(filename=\"newfile.log\",  \n",
    "               format='%(asctime)s %(message)s',  \n",
    "               filemode='a')  \n",
    "#when we create object og logging it creates a new file of log if not already present\n",
    "#Creating an object of the logging  \n",
    "main=logging.getLogger('main')  \n",
    "main.setLevel(logging.DEBUG)\n",
    "#A logger named main is created; we set the logging level to DEBUG.\n",
    "main.warning(\"It is a Warning. Please make changes\")  \n",
    "main.error(\"You are trying to divide by zero\")  \n",
    "main.critical(\"Internet is down\") \n",
    "\n",
    "\n"
   ]
  },
  {
   "cell_type": "code",
   "execution_count": null,
   "id": "9d667b59",
   "metadata": {},
   "outputs": [],
   "source": [
    "#with file handler\n",
    "import logging\n",
    "\n",
    "main = logging.getLogger('main')\n",
    "main.setLevel(logging.DEBUG)\n",
    "\n",
    "handler = logging.FileHandler('my.log')\n",
    "#A file handler is ceated. The messages will be written to the my.log file.\n",
    "\n",
    "format = logging.Formatter('%(asctime)s  %(name)s %(levelname)s: %(message)s')\n",
    "#A formatter is created. It includes the time, the logger name, \n",
    "#the logging level, and the message in to log. The formatter is set to the handler with setFormatter.\n",
    "handler.setFormatter(format)\n",
    "\n",
    "main.addHandler(handler)\n",
    "\n",
    "main.info('info message')\n",
    "main.critical('critical message')\n",
    "main.debug('debug message')\n",
    "main.warning('warning message')\n",
    "main.error('error message')"
   ]
  },
  {
   "cell_type": "code",
   "execution_count": null,
   "id": "1cbe54cf",
   "metadata": {},
   "outputs": [],
   "source": [
    "#working with handlers\n",
    "# logging_example.py\n",
    "\n",
    "import logging\n",
    "\n",
    "# Create a custom logger\n",
    "logger = logging.getLogger(__name__)\n",
    "\n",
    "# Create handlers\n",
    "c_handler = logging.StreamHandler()\n",
    "f_handler = logging.FileHandler('file.log')\n",
    "c_handler.setLevel(logging.WARNING)\n",
    "f_handler.setLevel(logging.ERROR)\n",
    "\n",
    "# Create formatters and add it to handlers\n",
    "c_format = logging.Formatter('%(name)s - %(levelname)s - %(message)s')\n",
    "f_format = logging.Formatter('%(asctime)s - %(name)s - %(levelname)s - %(message)s')\n",
    "c_handler.setFormatter(c_format)\n",
    "f_handler.setFormatter(f_format)\n",
    "\n",
    "# Add handlers to the logger\n",
    "logger.addHandler(c_handler)\n",
    "logger.addHandler(f_handler)\n",
    "\n",
    "logger.warning('This is a warning')\n",
    "logger.error('This is an error')\n"
   ]
  },
  {
   "cell_type": "code",
   "execution_count": null,
   "id": "d4aee878",
   "metadata": {},
   "outputs": [],
   "source": [
    "#capturing stack traces\n",
    "import logging\n",
    "\n",
    "a = 5\n",
    "b = 0\n",
    "\n",
    "try:\n",
    "    c = a / b\n",
    "except Exception as e:\n",
    "    logging.error(\"Exception occurred\", exc_info=True)"
   ]
  },
  {
   "cell_type": "code",
   "execution_count": null,
   "id": "0ad11264",
   "metadata": {},
   "outputs": [],
   "source": [
    "#logging.exception\n",
    "import logging\n",
    "\n",
    "a = 5\n",
    "b = 0\n",
    "\n",
    "try:\n",
    "    c = a / b\n",
    "except Exception as e:\n",
    "    logging.exception(\"Exception occurred\")"
   ]
  },
  {
   "cell_type": "code",
   "execution_count": null,
   "id": "2394e30d",
   "metadata": {},
   "outputs": [],
   "source": []
  }
 ],
 "metadata": {
  "kernelspec": {
   "display_name": "Python 3 (ipykernel)",
   "language": "python",
   "name": "python3"
  },
  "language_info": {
   "codemirror_mode": {
    "name": "ipython",
    "version": 3
   },
   "file_extension": ".py",
   "mimetype": "text/x-python",
   "name": "python",
   "nbconvert_exporter": "python",
   "pygments_lexer": "ipython3",
   "version": "3.10.4"
  }
 },
 "nbformat": 4,
 "nbformat_minor": 5
}
