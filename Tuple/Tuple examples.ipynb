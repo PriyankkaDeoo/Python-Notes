{
 "cells": [
  {
   "cell_type": "code",
   "execution_count": null,
   "id": "5bcc76a4",
   "metadata": {},
   "outputs": [],
   "source": [
    "#how tuple is immutable\n",
    "\n",
    "t=(2,3,4,6,7)\n",
    "t1=list(t)\n",
    "t1[1]=9\n",
    "print(t1)"
   ]
  },
  {
   "cell_type": "code",
   "execution_count": null,
   "id": "d5dd889b",
   "metadata": {},
   "outputs": [],
   "source": [
    "#1.\tWith one element\n",
    "\n",
    "tup=(24)\n",
    "print(tup)\n",
    "print(type(tup))\n",
    "tup1=(24,)\n",
    "print(tup1)\n",
    "print(type(tup1))"
   ]
  },
  {
   "cell_type": "code",
   "execution_count": null,
   "id": "9d28886c",
   "metadata": {
    "scrolled": true
   },
   "outputs": [],
   "source": [
    "#different ways of writing tuple with multiple values\n",
    "#elemenst are of same data type\n",
    "Tup1=(10,20,30,40,50)\n",
    "print(\"Tup1:\",Tup1,type(Tup1))\n",
    "\n",
    "#elemenst are of different datatypes\n",
    "Tup2=(33,\"priyanka\",12.5,-122,\"deo\")\n",
    "print(\"Tup2:\", Tup2,type(Tup2))\n",
    "\n",
    "# tuple allows duplicate values too \n",
    "Tup3=(\"priyanka\",100,[1,2,3],\"deo\",\"priyanka\")  \n",
    "print(\"Tup3:\",Tup3,type(Tup3))\n",
    "\n",
    "#without parenthesis\n",
    "Tup4=10,20,-50,\"priyanka\"\n",
    "print(\"Tup4:\", Tup4,type(Tup4))\n",
    "\n",
    "#creating tuple with tuple constructor\n",
    "Tup5= tuple((10,20,30,40,50))\n",
    "print(\"Tup5:\", Tup5,type(Tup5))\n"
   ]
  },
  {
   "cell_type": "code",
   "execution_count": null,
   "id": "150579fc",
   "metadata": {},
   "outputs": [],
   "source": [
    "#Creating empty tuple\n",
    "tup=()\n",
    "print(tup,type(tup))"
   ]
  },
  {
   "cell_type": "code",
   "execution_count": null,
   "id": "c5390cb5",
   "metadata": {},
   "outputs": [],
   "source": [
    "#accessing Tuple using index\n",
    "#using positive index\n",
    "tup=(10,20,30,40)\n",
    "\n",
    "print(tup[0])\n",
    "print(tup[1])\n",
    "print(tup[2])\n",
    "print(tup[3])"
   ]
  },
  {
   "cell_type": "code",
   "execution_count": null,
   "id": "3df36cf0",
   "metadata": {},
   "outputs": [],
   "source": [
    "#Accesing using loop\n",
    "#without index\n",
    "a=(10,20,30,40,50)\n",
    "for i in a:\n",
    "    print(i)"
   ]
  },
  {
   "cell_type": "code",
   "execution_count": null,
   "id": "8e1ee1a0",
   "metadata": {},
   "outputs": [],
   "source": [
    "#using negetive index\n",
    "\n",
    "tup=(10,20,30,40)\n",
    "\n",
    "print(tup[-1])\n",
    "print(tup[-2])\n",
    "print(tup[-3])\n",
    "print(tup[-4])\n",
    "print(tup[-5]) #show tuple index out of range"
   ]
  },
  {
   "cell_type": "code",
   "execution_count": null,
   "id": "9b890568",
   "metadata": {},
   "outputs": [],
   "source": [
    "#range of indexes\n",
    "#Return the third, fourth, and fifth item\n",
    "#The search will start at index 2 (included) and end at index 5 (not included).\n",
    "tup=(10,20,30,40,\"priyanka\",12.5)\n",
    "print(tup[2:5])"
   ]
  },
  {
   "cell_type": "code",
   "execution_count": null,
   "id": "83c2ba8d",
   "metadata": {},
   "outputs": [],
   "source": [
    "#By leaving out the start value, the range will start at the first item\n",
    "#This example returns the items from the beginning to, but NOT included \"priyanka\".\n",
    "#it is always return last elemnt-1\n",
    "tup=(10,20,30,40,\"priyanka\",12.5)\n",
    "print(tup[:4])\n",
    "tup=(10,20,30,40,\"priyanka\",12.5)\n",
    "print(tup[1:])"
   ]
  },
  {
   "cell_type": "code",
   "execution_count": null,
   "id": "5377e102",
   "metadata": {},
   "outputs": [],
   "source": [
    "#negative slicing\n",
    "tup=(10,20,30,40,\"priyanka\",12.5)\n",
    "print(tup[-5:-3])\n",
    "print(tup[-5:])\n",
    "print(tup[:-3])"
   ]
  },
  {
   "cell_type": "code",
   "execution_count": null,
   "id": "92b88707",
   "metadata": {},
   "outputs": [],
   "source": []
  },
  {
   "cell_type": "code",
   "execution_count": null,
   "id": "4326b8f3",
   "metadata": {},
   "outputs": [],
   "source": [
    "#Acessing using loop\n",
    "#with index\n",
    "a=(10,20,30,40,50)\n",
    "n = len(a)\n",
    "for i in range(n):\n",
    "\tprint(a[i])\n"
   ]
  },
  {
   "cell_type": "code",
   "execution_count": null,
   "id": "98968fa5",
   "metadata": {},
   "outputs": [],
   "source": [
    "#Acessing uisng while loop\n",
    "a=(10,20,30,40,50)\n",
    "i=0\n",
    "n=len(a)\n",
    "while i<n:\n",
    "    print(a[i])\n",
    "    i+=1\n"
   ]
  },
  {
   "cell_type": "code",
   "execution_count": null,
   "id": "527edd3d",
   "metadata": {},
   "outputs": [],
   "source": [
    "#Concatenation of 2 tuples\n",
    "\n",
    "t1=(12,33,41,\"priyanka\")\n",
    "t2=(\"deo\",25,76,1)\n",
    "\n",
    "t3=(t1+t2)\n",
    "print(t3)"
   ]
  },
  {
   "cell_type": "code",
   "execution_count": null,
   "id": "f0f759fa",
   "metadata": {},
   "outputs": [],
   "source": [
    "#multiply of 2 tuples\n",
    "t1=(12,33,41,\"priyanka\")\n",
    "t2=t1*3\n",
    "print(t2)"
   ]
  },
  {
   "cell_type": "code",
   "execution_count": null,
   "id": "8812de59",
   "metadata": {},
   "outputs": [],
   "source": [
    "#nesting of tuples\n",
    "t1=(12,33,41,\"priyanka\")\n",
    "t2=(\"deo\",25,76,1)\n",
    "\n",
    "t3=(t1,t2)\n",
    "print(t3)"
   ]
  },
  {
   "cell_type": "code",
   "execution_count": 1,
   "id": "b12467f5",
   "metadata": {},
   "outputs": [
    {
     "name": "stdout",
     "output_type": "stream",
     "text": [
      "((12, 33, 41, 'priyanka'), ('deo', 25, 76, 1), (21, 65, 80))\n",
      "123341priyanka\n",
      "deo25761\n",
      "216580\n"
     ]
    }
   ],
   "source": [
    "#accessing nested tuples\n",
    "t1=((12,33,41,\"priyanka\"),\n",
    "    (\"deo\",25,76,1),\n",
    "   (21,65,80)\n",
    "   )\n",
    "\n",
    "print(t1)\n",
    "for i in t1: #outer for loop represent the rows \n",
    "    for j in i: #inner for loop represt the columns in each row\n",
    "        print(j ,end=\"\")\n",
    "    print()"
   ]
  },
  {
   "cell_type": "code",
   "execution_count": 2,
   "id": "fb63d5fb",
   "metadata": {},
   "outputs": [
    {
     "name": "stdout",
     "output_type": "stream",
     "text": [
      "('priyanka', 'priyanka', 'priyanka', 'priyanka', 'priyanka', 'priyanka')\n"
     ]
    }
   ],
   "source": [
    "#REPEATION TUPLES\n",
    "t1=(\"priyanka\",)*6\n",
    "print(t1)"
   ]
  },
  {
   "cell_type": "code",
   "execution_count": 4,
   "id": "e41e2be8",
   "metadata": {},
   "outputs": [
    {
     "name": "stdout",
     "output_type": "stream",
     "text": [
      "(10, 20, 30, 40, 50)\n",
      "1786334704352\n",
      "1786334704352\n"
     ]
    }
   ],
   "source": [
    "#ALIASING TUPLE\n",
    "#Aliasing means giving another name to the existing object. It doesn’t mean copying.\n",
    "a = (10, 20, 30, 40, 50)\n",
    "b = a\n",
    "print(b)\n",
    "print(id(a))\n",
    "print(id(b))\n"
   ]
  },
  {
   "cell_type": "code",
   "execution_count": 6,
   "id": "ae196d3f",
   "metadata": {},
   "outputs": [
    {
     "name": "stdout",
     "output_type": "stream",
     "text": [
      "(10, 20, 30, 40, 50)\n",
      "(20, 30, 40)\n",
      "(10, 20, 30, 40, 50)\n"
     ]
    }
   ],
   "source": [
    "#copying tuple\n",
    "a = (10, 20, 30, 40, 50)\n",
    "b = a\n",
    "b = a[0:5]\n",
    "print(b)\n",
    "b = a[1:4]\n",
    "print(b)\n",
    "print(a)"
   ]
  },
  {
   "cell_type": "code",
   "execution_count": null,
   "id": "26ff6cc5",
   "metadata": {},
   "outputs": [],
   "source": [
    "#Tuples are immutable \n",
    "  \n",
    "tuple1 = (0, 1, 2, 3)\n",
    "tuple1[0] = 4\n",
    "print(tuple1)"
   ]
  },
  {
   "cell_type": "code",
   "execution_count": null,
   "id": "0bf3ad6b",
   "metadata": {},
   "outputs": [],
   "source": [
    "#deleting a tuple\n",
    "tuple3 = ( 0, 1)\n",
    "del tuple3\n",
    "print(tuple3)"
   ]
  },
  {
   "cell_type": "code",
   "execution_count": 7,
   "id": "0b6aca42",
   "metadata": {},
   "outputs": [
    {
     "name": "stdout",
     "output_type": "stream",
     "text": [
      "(0, 1, 2)\n",
      "('p', 'y', 't', 'h', 'o', 'n')\n"
     ]
    }
   ],
   "source": [
    "#Converting list to a Tuple\n",
    "list1 = [0, 1, 2]\n",
    "print(tuple(list1))\n",
    "print(tuple('python'))"
   ]
  },
  {
   "cell_type": "code",
   "execution_count": 8,
   "id": "3a60d5b9",
   "metadata": {},
   "outputs": [
    {
     "name": "stdout",
     "output_type": "stream",
     "text": [
      "('priyanka', 24, 12.5, 'deo', 75)\n"
     ]
    }
   ],
   "source": [
    "#UPDATE TUPLE\n",
    "#change tuple values\n",
    "t=('priyanka',24,12.5,456,75)\n",
    "x=list(t)\n",
    "x[3]='deo'\n",
    "y=tuple(x)\n",
    "print(y)"
   ]
  },
  {
   "cell_type": "code",
   "execution_count": 9,
   "id": "a16d0783",
   "metadata": {},
   "outputs": [
    {
     "name": "stdout",
     "output_type": "stream",
     "text": [
      "('priyanka', 24, 12.5, 456, 75, 'Pune')\n"
     ]
    }
   ],
   "source": [
    "#add items\n",
    "#add items values\n",
    "t=('priyanka',24,12.5,456,75)\n",
    "x=list(t)\n",
    "x.append('Pune')\n",
    "y=tuple(x)\n",
    "print(y)"
   ]
  },
  {
   "cell_type": "code",
   "execution_count": 10,
   "id": "63ed5fe7",
   "metadata": {},
   "outputs": [
    {
     "name": "stdout",
     "output_type": "stream",
     "text": [
      "('priyanka', 24, 12.5, 456, 75, 'deo')\n"
     ]
    }
   ],
   "source": [
    "#add tuple to the tuple\n",
    "t=('priyanka',24,12.5,456,75)\n",
    "x=('deo',)\n",
    "t+=x\n",
    "print(t)"
   ]
  },
  {
   "cell_type": "code",
   "execution_count": 11,
   "id": "fe8c4f85",
   "metadata": {},
   "outputs": [
    {
     "name": "stdout",
     "output_type": "stream",
     "text": [
      "('priyanka', 24, 456, 75)\n"
     ]
    }
   ],
   "source": [
    "#remove items\n",
    "t=('priyanka',24,12.5,456,75)\n",
    "x=list(t)\n",
    "x.remove(12.5)\n",
    "y=tuple(x)\n",
    "print(y)"
   ]
  },
  {
   "cell_type": "code",
   "execution_count": 12,
   "id": "c727920c",
   "metadata": {},
   "outputs": [
    {
     "ename": "NameError",
     "evalue": "name 't' is not defined",
     "output_type": "error",
     "traceback": [
      "\u001b[1;31m---------------------------------------------------------------------------\u001b[0m",
      "\u001b[1;31mNameError\u001b[0m                                 Traceback (most recent call last)",
      "Input \u001b[1;32mIn [12]\u001b[0m, in \u001b[0;36m<cell line: 4>\u001b[1;34m()\u001b[0m\n\u001b[0;32m      2\u001b[0m t\u001b[38;5;241m=\u001b[39m(\u001b[38;5;124m'\u001b[39m\u001b[38;5;124mpriyanka\u001b[39m\u001b[38;5;124m'\u001b[39m,\u001b[38;5;241m24\u001b[39m,\u001b[38;5;241m12.5\u001b[39m,\u001b[38;5;241m456\u001b[39m,\u001b[38;5;241m75\u001b[39m)\n\u001b[0;32m      3\u001b[0m \u001b[38;5;28;01mdel\u001b[39;00m t\n\u001b[1;32m----> 4\u001b[0m \u001b[38;5;28mprint\u001b[39m(\u001b[43mt\u001b[49m)\n",
      "\u001b[1;31mNameError\u001b[0m: name 't' is not defined"
     ]
    }
   ],
   "source": [
    "#delete tuple complety\n",
    "t=('priyanka',24,12.5,456,75)\n",
    "del t\n",
    "print(t) #this will raise an error"
   ]
  },
  {
   "cell_type": "code",
   "execution_count": 13,
   "id": "1de419e2",
   "metadata": {},
   "outputs": [
    {
     "name": "stdout",
     "output_type": "stream",
     "text": [
      "(10, 20, 30, 'priyanka')\n",
      "<class 'tuple'>\n",
      "10\n",
      "20\n",
      "30\n",
      "priyanka\n"
     ]
    }
   ],
   "source": [
    "#passing tuple to the function\n",
    "#We can pass a tuple to a function while calling function.\n",
    "def show(t):\n",
    "\tprint(t)\n",
    "\tprint(type(t))\n",
    "\tfor i in t:\n",
    "\t\tprint(i)\n",
    "\n",
    "t = (10, 20, 30, 'priyanka')\n",
    "show(t)\n"
   ]
  },
  {
   "cell_type": "code",
   "execution_count": 14,
   "id": "07e39a74",
   "metadata": {},
   "outputs": [
    {
     "name": "stdout",
     "output_type": "stream",
     "text": [
      "('priyanka', 30, 'MSC', 'Pune')\n",
      "priyanka\n",
      "30\n",
      "MSC\n",
      "Pune\n"
     ]
    }
   ],
   "source": [
    "#packing unpacking of tuples\n",
    "\n",
    "user_details=(\"priyanka\",30,\"MSC\",\"Pune\")  #packing of a tuple\n",
    "print(user_details)\n",
    "(name,age,education,address)=user_details\n",
    "print(name)\n",
    "print(age)\n",
    "print(education)\n",
    "print(address)"
   ]
  },
  {
   "cell_type": "code",
   "execution_count": 17,
   "id": "50a8cca4",
   "metadata": {},
   "outputs": [
    {
     "name": "stdout",
     "output_type": "stream",
     "text": [
      "priyanka\n",
      "30\n",
      "['MSC', 'Ambegoan', 'Pune']\n",
      "Maharashtra\n"
     ]
    }
   ],
   "source": [
    "#Using Asterisk*\n",
    "\n",
    "user_details=(\"priyanka\",30,\"MSC\",\"Ambegoan\",\"Pune\",\"Maharashtra\")\n",
    "(name,age,*education,address)=user_details\n",
    "print(name)\n",
    "print(age)\n",
    "print(education)\n",
    "print(address)"
   ]
  },
  {
   "cell_type": "code",
   "execution_count": 18,
   "id": "cd98330f",
   "metadata": {},
   "outputs": [
    {
     "name": "stdout",
     "output_type": "stream",
     "text": [
      "priyanka\n",
      "['Ambegoan', 'Pune', 'Maharashtra']\n",
      "30\n",
      "MSC\n"
     ]
    }
   ],
   "source": [
    "user_details=(\"priyanka\",\"Ambegoan\",\"Pune\",\"Maharashtra\",30,\"MSC\",)\n",
    "(name,*address,age,education)=user_details\n",
    "print(name)\n",
    "print(address)\n",
    "print(age)\n",
    "print(education)\n"
   ]
  },
  {
   "cell_type": "code",
   "execution_count": 19,
   "id": "9e0e2d56",
   "metadata": {},
   "outputs": [
    {
     "data": {
      "text/plain": [
       "3"
      ]
     },
     "execution_count": 19,
     "metadata": {},
     "output_type": "execute_result"
    }
   ],
   "source": [
    "#count method\n",
    "\n",
    "t=('priyanka',24,12.5,24,456,75,24)\n",
    "t.count(24)\n"
   ]
  },
  {
   "cell_type": "code",
   "execution_count": 21,
   "id": "e722ff0a",
   "metadata": {},
   "outputs": [
    {
     "data": {
      "text/plain": [
       "0"
      ]
     },
     "execution_count": 21,
     "metadata": {},
     "output_type": "execute_result"
    }
   ],
   "source": [
    "#index method\n",
    "t=(24,'priyanka',24,12.5,24,456,75,24)\n",
    "t.index(24)"
   ]
  },
  {
   "cell_type": "code",
   "execution_count": 25,
   "id": "6330fcce",
   "metadata": {},
   "outputs": [
    {
     "name": "stdout",
     "output_type": "stream",
     "text": [
      "[456, 75, 24, 24, 24, 24, 12.5]\n"
     ]
    }
   ],
   "source": [
    "#sorting is possible directly\n",
    "t=(24,24,12.5,24,456,75,24)\n",
    "t2=sorted(t,reverse=True)\n",
    "print(t2)"
   ]
  },
  {
   "cell_type": "code",
   "execution_count": 28,
   "id": "23c97ae6",
   "metadata": {},
   "outputs": [
    {
     "name": "stdout",
     "output_type": "stream",
     "text": [
      "[12, 35, 23]\n"
     ]
    }
   ],
   "source": [
    "#Remove empty tuples from a list \n",
    "\n",
    "t=[12,(),35,23,()]\n",
    "t1=[]\n",
    "\n",
    "for i in t:\n",
    "    if i==():\n",
    "        t.remove(i)\n",
    "        \n",
    "print(t)"
   ]
  },
  {
   "cell_type": "code",
   "execution_count": 28,
   "id": "6930d438",
   "metadata": {},
   "outputs": [
    {
     "name": "stdout",
     "output_type": "stream",
     "text": [
      "{'akash': 10, 'gaurav': 12, 'anand': 14, 'suraj': 20, 'akhil': 25, 'ashish': 30}\n"
     ]
    }
   ],
   "source": [
    "#tuple to dict convertion\n",
    "def convert(t,d):\n",
    "    di=dict(t)\n",
    "    return di\n",
    "\n",
    "t = [(\"akash\", 10), (\"gaurav\", 12), (\"anand\", 14), \n",
    "    (\"suraj\", 20), (\"akhil\", 25), (\"ashish\", 30)]\n",
    "d={}\n",
    "print(convert(t,d))"
   ]
  },
  {
   "cell_type": "code",
   "execution_count": 26,
   "id": "29ea1cac",
   "metadata": {},
   "outputs": [
    {
     "name": "stdout",
     "output_type": "stream",
     "text": [
      "[(4, 5, 9), (4, 6)]\n"
     ]
    }
   ],
   "source": [
    "#program to find Tuples with positive elements in List of tuples\n",
    "test_list = [(4, 5, 9), (-3, 2, 3), (-3, 5, 6), (4, 6)]\n",
    "res=list(filter(lambda t: all(i>=0 for i in t),test_list))\n",
    "print(res)"
   ]
  },
  {
   "cell_type": "code",
   "execution_count": null,
   "id": "bb48d7db",
   "metadata": {},
   "outputs": [],
   "source": []
  },
  {
   "cell_type": "code",
   "execution_count": null,
   "id": "38dabcc6",
   "metadata": {},
   "outputs": [],
   "source": []
  }
 ],
 "metadata": {
  "kernelspec": {
   "display_name": "Python 3 (ipykernel)",
   "language": "python",
   "name": "python3"
  },
  "language_info": {
   "codemirror_mode": {
    "name": "ipython",
    "version": 3
   },
   "file_extension": ".py",
   "mimetype": "text/x-python",
   "name": "python",
   "nbconvert_exporter": "python",
   "pygments_lexer": "ipython3",
   "version": "3.10.4"
  }
 },
 "nbformat": 4,
 "nbformat_minor": 5
}
