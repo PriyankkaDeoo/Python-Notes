{
 "cells": [
  {
   "cell_type": "markdown",
   "id": "e996248a",
   "metadata": {},
   "source": [
    "#ITERATORS \n",
    "   \n",
    "    \n",
    "Magic Methods: \n",
    "everything in pyhton is object, there are many system call on these objects which are not visible to the programmers in this case magic methods comes in picture, magic methods are special methods that are ivoked when we run any ordinary python code,to differnciate them with normal functions, they are surrounded by double underscore.\n",
    "    example:  c=a+b\n",
    "    internally it looks like c=a.__add__(b)\n",
    "    \n",
    "Iterable : \n",
    "1. is an object which provides us iterator\n",
    "2. anything which can iterate(travel)through are iterable like list, tuple,str ,set,dictionary, range function are examples of iterable\n",
    "3. its an object in which __iter__ or __getitem__ methods are define.\n",
    "4. iterable generates an iterator when passed to iter() method \n",
    "    \n",
    "    __iter__  : The __iter__() function returns an iterator object that goes through each element of the given object. \n",
    "    The next element can be accessed through __next__() function. In the case of callable object and sentinel value, the iteration is done until the value is found or the end of elements reached. In any case, the original object is not modified.\n",
    "        syntaxes:\n",
    "        iter(object)\n",
    "        iter(callable, sentinel)\n",
    "  \n",
    "        __getitem__  :  its a magic method in pyhton which when used in class, it allows its instance to use[] (idexer) operators. suppose x is an instance of this class , then x[i] is equivalent to type(x)__getitem__(x,i)\n",
    "        The __getitem__ magic method is usually used for list indexing, dictionary lookup, or accessing ranges of values\n",
    "        example: \n",
    "        class test (object)\n",
    "            def __getitem__(self,items):\n",
    "                print(type(items),items)\n",
    "                \n",
    "         t=test()\n",
    "         t[5]\n",
    "         t[3:34:5]\n",
    "         \n",
    "         output \n",
    "         <class 'int'> 5\n",
    "         <class 'slice'> slice(5, 65, 5)\n",
    "        \n",
    "        \n",
    "Iterator : it is an object that allows the programmer to traverse through a sequence of data without having to store the entire data in memory\n",
    "     1. Iterators are implememted in loops,comprehensions and generators \n",
    "    2. an objects that are iterated upon\n",
    "    __next__() method is iterator, using which we can fetchnext item from the sequence.\n",
    "    \n",
    " Python’s for loop is using iterators\n",
    "   lst=[1,2,3,4,5]\n",
    "   for i in lst:\n",
    "       print(i)\n",
    "\n",
    "1. Additionally, in Python, the iterators are also iterables which act as their own iterators.\n",
    "2. They don’t have length and can’t be indexed.\n",
    "3. Iterators allow us to both work with and create lazy iterables that don’t do any work until we ask them for their next item.\n",
    "4. The Python’s zip, map and filter objects are also iterators.\n",
    "5. There are a lot of iterator objects in the Python standard library and in third-party libraries.\n",
    "\n",
    "\n",
    "Iteration : general term for taking each item of something(list,str,any iterable data type)one after another to go over a group of item when we use any loop explicitly or implicitly that is iteration.\n",
    "Or \n",
    "The process of looping through the objects or items in a collection.\n",
    "example :\n",
    "   num=[1,2,3]\n",
    "       for i in num:\n",
    "           print(i)\n",
    "           \n",
    "           \n",
    "           \n",
    "           "
   ]
  },
  {
   "cell_type": "code",
   "execution_count": 3,
   "id": "032ed4f9",
   "metadata": {},
   "outputs": [
    {
     "name": "stdout",
     "output_type": "stream",
     "text": [
      "10\n",
      "20\n",
      "30\n",
      "40\n",
      "50\n",
      "60\n"
     ]
    },
    {
     "ename": "StopIteration",
     "evalue": "",
     "output_type": "error",
     "traceback": [
      "\u001b[1;31m---------------------------------------------------------------------------\u001b[0m",
      "\u001b[1;31mStopIteration\u001b[0m                             Traceback (most recent call last)",
      "Input \u001b[1;32mIn [3]\u001b[0m, in \u001b[0;36m<cell line: 11>\u001b[1;34m()\u001b[0m\n\u001b[0;32m      9\u001b[0m \u001b[38;5;28mprint\u001b[39m(\u001b[38;5;28mnext\u001b[39m(it))\n\u001b[0;32m     10\u001b[0m \u001b[38;5;28mprint\u001b[39m(\u001b[38;5;28mnext\u001b[39m(it))\n\u001b[1;32m---> 11\u001b[0m \u001b[38;5;28mprint\u001b[39m(\u001b[38;5;28;43mnext\u001b[39;49m\u001b[43m(\u001b[49m\u001b[43mit\u001b[49m\u001b[43m)\u001b[49m)\n",
      "\u001b[1;31mStopIteration\u001b[0m: "
     ]
    }
   ],
   "source": [
    "#iterator example\n",
    "\n",
    "lst=[10,20,30,40,50,60]\n",
    "it=iter(lst)\n",
    "print(next(it))\n",
    "print(next(it))\n",
    "print(next(it))\n",
    "print(next(it))\n",
    "print(next(it))\n",
    "print(next(it))\n",
    "print(next(it))  \n",
    "#we acces elemnts from first to last not in reverse \n",
    "#stop iteration error occured bcoz we r done iterating til last elemet\n",
    "#of the list to overcome this error we have to use try and except block "
   ]
  },
  {
   "cell_type": "markdown",
   "id": "612b4480",
   "metadata": {},
   "source": [
    "How to identify whether it is iterable iterator?\n",
    "iterable?\n",
    "if we can apply loop on that object then it is iterable\n",
    "or \n",
    "use dir method an search for iter method if it present then it is iterable\n",
    "\n",
    "iterator?\n",
    "use dir method search for iter and next method if it is presnt in the list then it is iterator\n",
    "\n"
   ]
  },
  {
   "cell_type": "code",
   "execution_count": 9,
   "id": "907b5423",
   "metadata": {},
   "outputs": [
    {
     "name": "stdout",
     "output_type": "stream",
     "text": [
      "1\n",
      "2\n",
      "34\n",
      "5\n",
      "********\n",
      "1\n",
      "2\n",
      "3\n"
     ]
    }
   ],
   "source": [
    "#creating our own for loop\n",
    "\n",
    "def new_for(iterable):\n",
    "    iterator=iter(iterable)\n",
    "    while True:\n",
    "        try:\n",
    "            print(next(iterator))\n",
    "        except StopIteration:\n",
    "            break\n",
    "            \n",
    "a=[1,2,34,5]\n",
    "b={1:'a',2:'b',3:'c'}\n",
    "new_for(a)\n",
    "print(\"********\")\n",
    "new_for(b)\n",
    "    \n",
    "    \n",
    "    "
   ]
  },
  {
   "cell_type": "code",
   "execution_count": null,
   "id": "12fd94db",
   "metadata": {},
   "outputs": [],
   "source": []
  }
 ],
 "metadata": {
  "kernelspec": {
   "display_name": "Python 3 (ipykernel)",
   "language": "python",
   "name": "python3"
  },
  "language_info": {
   "codemirror_mode": {
    "name": "ipython",
    "version": 3
   },
   "file_extension": ".py",
   "mimetype": "text/x-python",
   "name": "python",
   "nbconvert_exporter": "python",
   "pygments_lexer": "ipython3",
   "version": "3.10.4"
  }
 },
 "nbformat": 4,
 "nbformat_minor": 5
}
