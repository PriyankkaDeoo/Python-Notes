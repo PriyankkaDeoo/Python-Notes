{
 "cells": [
  {
   "cell_type": "markdown",
   "id": "f7a33670",
   "metadata": {},
   "source": [
    " Decorators : \n",
    "1. are very powerful and useful tool in python which allows us to modify the behaviour of the fucntion.\n",
    "\n",
    "Suppose, you have a set of functions and you only want authenticated users to access them.\n",
    "Therefore, you need to check whether a user is authenticated or not before proceeding with the rest of the code in the function.\n",
    "\n",
    "One way to do this is by calling a separate function inside all the functions and using conditional statements. But this will require us to change the code for each function.\n",
    "A better solution here would be to use a Decorator.\n",
    "\n",
    "2.A Decorator is just a function that takes another function as an argument and extends its behavior without explicitly modifying it. This means that a decorator adds new functionality to a function.\n",
    "\n",
    "\n",
    "When we say Functions in python are FIRST CLASS OBJECTS it means\n",
    "1. Everything in python is object, functions too.\n",
    "2. functions can be passed as an argument to another function\n",
    "3. we can return the function  from a function\n",
    "4. we can store the function in a variable \n"
   ]
  },
  {
   "cell_type": "code",
   "execution_count": 2,
   "id": "373810da",
   "metadata": {},
   "outputs": [
    {
     "name": "stdout",
     "output_type": "stream",
     "text": [
      "I AM PRIYANKA\n",
      "MY NAME IS PRIYANKA\n"
     ]
    }
   ],
   "source": [
    "#. 1. Treating function as an object\n",
    "\n",
    "def upper(txt):\n",
    "    return txt.upper()\n",
    "    \n",
    "print(upper(\"I am Priyanka\"))\n",
    "res=upper\n",
    "print(res(\"My name is priyanka\"))"
   ]
  },
  {
   "cell_type": "code",
   "execution_count": 8,
   "id": "de4ed68a",
   "metadata": {},
   "outputs": [
    {
     "name": "stdout",
     "output_type": "stream",
     "text": [
      "Hello World!\n",
      "Hello World!\n"
     ]
    }
   ],
   "source": [
    "#2. Function passed as an argument to another function\n",
    "\n",
    "def do_twice(say_hello):\n",
    "    say_hello()\n",
    "    say_hello()\n",
    "\n",
    "def say_hello():\n",
    "    print(\"Hello World!\")\n",
    "\n",
    "do_twice(say_hello)"
   ]
  },
  {
   "cell_type": "code",
   "execution_count": 19,
   "id": "4f4a8f9c",
   "metadata": {},
   "outputs": [
    {
     "name": "stdout",
     "output_type": "stream",
     "text": [
      "25\n"
     ]
    }
   ],
   "source": [
    "#3.Function can return another function\n",
    "\n",
    "def operation(x):\n",
    "    def add_operation(y):\n",
    "        return x+y\n",
    "    return add_operation\n",
    "\n",
    "final_operation=operation(10)\n",
    "print(final_operation(15))    "
   ]
  },
  {
   "cell_type": "code",
   "execution_count": null,
   "id": "ace5b1c8",
   "metadata": {},
   "outputs": [],
   "source": []
  },
  {
   "cell_type": "markdown",
   "id": "87c58f26",
   "metadata": {},
   "source": [
    "In Decorators, functions are taken as the argument into another function and then called inside the wrapper function.\n",
    "syntax:\n",
    "    \n",
    "    def decorator(mainFunction):\n",
    "        def inner():\n",
    "            statements\n",
    "            mainFunction()\n",
    "        return inner\n",
    "        \n",
    "       @decorator\n",
    "      def mainFunction():\n",
    "          statements\n",
    "          \n",
    "      mainFunction()\n",
    "      \n",
    "        "
   ]
  },
  {
   "cell_type": "code",
   "execution_count": 20,
   "id": "dbeb4379",
   "metadata": {},
   "outputs": [
    {
     "name": "stdout",
     "output_type": "stream",
     "text": [
      "Enter number : 554\n",
      "Inside inner function to check even or odd\n",
      "The given number is even\n",
      "Inside main function\n"
     ]
    }
   ],
   "source": [
    "#Example of decorators\n",
    "\n",
    "def smartEvenOdd(func):\n",
    "    def inner(num):\n",
    "        print(\"Inside inner function to check even or odd\")\n",
    "        if num%2==0:\n",
    "            print(\"The given number is even\")\n",
    "        else:\n",
    "            print(\"The given number is odd\")\n",
    "        func(num)\n",
    "    return inner\n",
    "\n",
    "@smartEvenOdd\n",
    "\n",
    "def even_odd(num):\n",
    "    print(\"Inside main function\")\n",
    "\n",
    "num=int(input(\"Enter number : \"))\n",
    "even_odd(num)"
   ]
  },
  {
   "cell_type": "markdown",
   "id": "7d66ffe5",
   "metadata": {},
   "source": [
    "Chaining of decorators\n",
    "Chaining decorators means decorating a function with multiple decorators.\n",
    "It is also known as nested decorators in Python.\n"
   ]
  },
  {
   "cell_type": "code",
   "execution_count": 22,
   "id": "041cc81a",
   "metadata": {},
   "outputs": [
    {
     "name": "stdout",
     "output_type": "stream",
     "text": [
      "400\n"
     ]
    }
   ],
   "source": [
    "def decor1(func):\n",
    "    def inner():\n",
    "        x = func()\n",
    "        return x * x\n",
    "    return inner\n",
    " \n",
    "def decor(func):\n",
    "    def inner():\n",
    "        x = func()\n",
    "        return 2 * x\n",
    "    return inner\n",
    " \n",
    "@decor1\n",
    "@decor\n",
    "def num():\n",
    "    return 10\n",
    " \n",
    "print(num())"
   ]
  },
  {
   "cell_type": "code",
   "execution_count": null,
   "id": "032fa5ed",
   "metadata": {},
   "outputs": [],
   "source": []
  }
 ],
 "metadata": {
  "kernelspec": {
   "display_name": "Python 3 (ipykernel)",
   "language": "python",
   "name": "python3"
  },
  "language_info": {
   "codemirror_mode": {
    "name": "ipython",
    "version": 3
   },
   "file_extension": ".py",
   "mimetype": "text/x-python",
   "name": "python",
   "nbconvert_exporter": "python",
   "pygments_lexer": "ipython3",
   "version": "3.10.4"
  }
 },
 "nbformat": 4,
 "nbformat_minor": 5
}
