{
 "cells": [
  {
   "cell_type": "raw",
   "id": "1e2fcb8e",
   "metadata": {},
   "source": [
    "Generators \n",
    "python generators are the simple way of generating iterators\n",
    "it uses the keyword “yield” instead of returning it\n",
    "It will return a sequence of data in an iterable format where we need to iterate over the sequence to use the data as they won’t store the entire sequence in the memory."
   ]
  },
  {
   "cell_type": "code",
   "execution_count": 5,
   "id": "8339136a",
   "metadata": {},
   "outputs": [
    {
     "data": {
      "text/plain": [
       "48"
      ]
     },
     "execution_count": 5,
     "metadata": {},
     "output_type": "execute_result"
    }
   ],
   "source": [
    "#memory differnce between for loop and range function\n",
    "l=[x for x in range(1000)]\n",
    "#for i in l:\n",
    " #   print(i)\n",
    "        \n",
    "import sys\n",
    "sys.getsizeof(l)\n",
    "\n",
    "x=range(1000)\n",
    "sys.getsizeof(x)"
   ]
  },
  {
   "cell_type": "code",
   "execution_count": 6,
   "id": "3c8c4b5e",
   "metadata": {},
   "outputs": [
    {
     "name": "stdout",
     "output_type": "stream",
     "text": [
      "<generator object demo at 0x0000013D41CE4970>\n"
     ]
    }
   ],
   "source": [
    "def demo():\n",
    "    yield \"first statement\"\n",
    "    yield \"Second statement\"\n",
    "    yield \"Third statement\"\n",
    "    \n",
    "gen=demo()\n",
    "print(gen)"
   ]
  },
  {
   "cell_type": "code",
   "execution_count": 7,
   "id": "fa87e5ec",
   "metadata": {},
   "outputs": [
    {
     "name": "stdout",
     "output_type": "stream",
     "text": [
      "first statement\n",
      "Second statement\n",
      "Third statement\n"
     ]
    }
   ],
   "source": [
    "def demo():\n",
    "    yield \"first statement\"\n",
    "    yield \"Second statement\"\n",
    "    yield \"Third statement\"\n",
    "    \n",
    "gen=demo()\n",
    "print(next(gen))\n",
    "print(next(gen))\n",
    "print(next(gen))"
   ]
  },
  {
   "cell_type": "code",
   "execution_count": 10,
   "id": "77a9d0d1",
   "metadata": {},
   "outputs": [
    {
     "name": "stdout",
     "output_type": "stream",
     "text": [
      "first statement\n",
      "Second statement\n",
      "Third statement\n"
     ]
    }
   ],
   "source": [
    "def demo():\n",
    "    yield \"first statement\"\n",
    "    yield \"Second statement\"\n",
    "    yield \"Third statement\"\n",
    "    \n",
    "gen=demo()\n",
    "for i in gen:\n",
    "    print(i)"
   ]
  },
  {
   "cell_type": "code",
   "execution_count": 12,
   "id": "0468c303",
   "metadata": {},
   "outputs": [
    {
     "name": "stdout",
     "output_type": "stream",
     "text": [
      "1\n",
      "4\n",
      "9\n",
      "16\n",
      "25\n",
      "36\n",
      "49\n",
      "64\n",
      "81\n"
     ]
    }
   ],
   "source": [
    "def square(num):\n",
    "    for i in range(1,num):\n",
    "        yield i**2\n",
    "        \n",
    "gen=square(10)\n",
    "for i in gen:\n",
    "    print(i)"
   ]
  },
  {
   "cell_type": "code",
   "execution_count": 15,
   "id": "2ebc8b20",
   "metadata": {},
   "outputs": [
    {
     "name": "stdout",
     "output_type": "stream",
     "text": [
      "1\n",
      "4\n",
      "9\n",
      "16\n",
      "25\n",
      "36\n",
      "49\n",
      "64\n",
      "81\n",
      "100\n",
      "121\n",
      "144\n",
      "169\n",
      "196\n",
      "225\n",
      "256\n",
      "289\n",
      "324\n",
      "361\n",
      "400\n",
      "441\n",
      "484\n",
      "529\n",
      "576\n",
      "625\n",
      "676\n",
      "729\n",
      "784\n",
      "841\n",
      "900\n",
      "961\n",
      "1024\n",
      "1089\n",
      "1156\n",
      "1225\n",
      "1296\n",
      "1369\n",
      "1444\n",
      "1521\n",
      "1600\n",
      "1681\n",
      "1764\n",
      "1849\n",
      "1936\n",
      "2025\n",
      "2116\n",
      "2209\n",
      "2304\n",
      "2401\n",
      "2500\n",
      "2601\n",
      "2704\n",
      "2809\n",
      "2916\n",
      "3025\n",
      "3136\n",
      "3249\n",
      "3364\n",
      "3481\n",
      "3600\n",
      "3721\n",
      "3844\n",
      "3969\n",
      "4096\n",
      "4225\n",
      "4356\n",
      "4489\n",
      "4624\n",
      "4761\n",
      "4900\n",
      "5041\n",
      "5184\n",
      "5329\n",
      "5476\n",
      "5625\n",
      "5776\n",
      "5929\n",
      "6084\n",
      "6241\n",
      "6400\n",
      "6561\n",
      "6724\n",
      "6889\n",
      "7056\n",
      "7225\n",
      "7396\n",
      "7569\n",
      "7744\n",
      "7921\n",
      "8100\n",
      "8281\n",
      "8464\n",
      "8649\n",
      "8836\n",
      "9025\n",
      "9216\n",
      "9409\n",
      "9604\n",
      "9801\n",
      "10000\n",
      "Size of using list comprehension 920\n",
      "Size of using generators 104\n"
     ]
    }
   ],
   "source": [
    "#generator expression\n",
    "#list comprehension\n",
    "l=[i**2 for i in range(1,101)]\n",
    "\n",
    "gen=(i**2 for i in range(1,101))\n",
    "for i in gen:\n",
    "    print(i)\n",
    "    \n",
    "import sys\n",
    "print(\"Size of using list comprehension\", sys.getsizeof(l))\n",
    "print(\"Size of using generators\", sys.getsizeof(gen))\n",
    "\n"
   ]
  },
  {
   "cell_type": "code",
   "execution_count": null,
   "id": "95536fd2",
   "metadata": {},
   "outputs": [],
   "source": []
  }
 ],
 "metadata": {
  "kernelspec": {
   "display_name": "Python 3 (ipykernel)",
   "language": "python",
   "name": "python3"
  },
  "language_info": {
   "codemirror_mode": {
    "name": "ipython",
    "version": 3
   },
   "file_extension": ".py",
   "mimetype": "text/x-python",
   "name": "python",
   "nbconvert_exporter": "python",
   "pygments_lexer": "ipython3",
   "version": "3.10.4"
  }
 },
 "nbformat": 4,
 "nbformat_minor": 5
}
