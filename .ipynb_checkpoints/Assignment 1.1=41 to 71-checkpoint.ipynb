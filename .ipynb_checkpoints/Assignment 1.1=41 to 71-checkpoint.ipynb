{
 "cells": [
  {
   "cell_type": "code",
   "execution_count": null,
   "id": "efe92d55",
   "metadata": {},
   "outputs": [],
   "source": [
    "#41. Python Ways to remove i’th character from string \n",
    "#using replace method\n",
    "string=input(\"Enter the string :\")\n",
    "new_str=str.replace('e','',1)\n",
    "print(new_str)\n",
    "\n"
   ]
  },
  {
   "cell_type": "code",
   "execution_count": null,
   "id": "09e79923",
   "metadata": {},
   "outputs": [],
   "source": [
    "#41. using string concatenation\n",
    "\n",
    "str=input(\"enter the string: \")\n",
    "new_str=str[:2]+str[3:]\n",
    "print(new_str)"
   ]
  },
  {
   "cell_type": "code",
   "execution_count": null,
   "id": "5e40d615",
   "metadata": {},
   "outputs": [],
   "source": [
    "#42.Python | Check if a Substring is Present in a Given String Find length of a string in python (4 ways)\n",
    "#1st way\n",
    "string=\"I am Priyankka deoo, I m an Data Engineer\"\n",
    "if \"deo\" in string:\n",
    "    print(\"substring is present\")\n",
    "else:\n",
    "    print(\"Substring not present\")"
   ]
  },
  {
   "cell_type": "code",
   "execution_count": null,
   "id": "5405d1da",
   "metadata": {},
   "outputs": [],
   "source": [
    "#42.Python | Check if a Substring is Present in a Given String Find length of a string in python (4 ways)\n",
    "#2nd way\n",
    "\n",
    "def check(string,substring):\n",
    "    if (string.find(substring)==-1):\n",
    "        print(\"Substring not present\")\n",
    "    else:\n",
    "        print(\"substring is present\")\n",
    "\n",
    "string=\"I am Priyankka deoo, I m an Data Engineer\"\n",
    "substring=\"Data\"\n",
    "check(string,substring)"
   ]
  },
  {
   "cell_type": "code",
   "execution_count": null,
   "id": "8161f9b0",
   "metadata": {},
   "outputs": [],
   "source": [
    "#42.Python | Check if a Substring is Present in a Given String Find length of a string in python (4 ways)\n",
    "#3rd way\n",
    "\n",
    "def check_str(string,sub_string):\n",
    "    if (string.count(sub_string)>0):\n",
    "        print(\"substring is present\")\n",
    "    else:\n",
    "        print(\"Substring not present\")        \n",
    "    \n",
    "string=\"I am Priyankka deoo, I m an Data Engineer\"\n",
    "sub_string=\"Data\"\n",
    "check_str(string,sub_string)"
   ]
  },
  {
   "cell_type": "code",
   "execution_count": null,
   "id": "046f9a10",
   "metadata": {},
   "outputs": [],
   "source": [
    "#43. Python program to print even length words in a string\n",
    "\n",
    "def even_length(string):\n",
    "        x=string.split()\n",
    "        for i in x:\n",
    "            if len(i)%2==0:\n",
    "                print(i)\n",
    "string=\"I am Priyankka deoo, I m an Data Engineer\"\n",
    "even_length(string)"
   ]
  },
  {
   "cell_type": "code",
   "execution_count": null,
   "id": "17e33317",
   "metadata": {},
   "outputs": [],
   "source": [
    "#44. Python | Program to accept the strings which contains all vowels \n",
    "\n",
    "def str_vowels(string):\n",
    "    for i in string:\n",
    "        if i in vow_string:\n",
    "            vow_string.remove(i)\n",
    "    if len(vow_string)==0:\n",
    "        print(\"Accepted\")\n",
    "    else:\n",
    "        print(\"Not accepted\")\n",
    "    \n",
    "vow_string=set(\"aeiou\")\n",
    "string=input(\"enter the string in lower case: \")\n",
    "str_vowels(string)"
   ]
  },
  {
   "cell_type": "code",
   "execution_count": null,
   "id": "50a56d0c",
   "metadata": {},
   "outputs": [],
   "source": [
    "#45. Python | Count the Number of matching characters in a pair of string\n",
    "\n",
    "def match_str(s1,s2):\n",
    "    count=0\n",
    "    for i in s1:\n",
    "        if i in s2:\n",
    "            count+=1\n",
    "    print(count)\n",
    "    \n",
    "s1=\"priyanka\"\n",
    "s2=\"yapri\"\n",
    "match_str(s1,s2)"
   ]
  },
  {
   "cell_type": "code",
   "execution_count": null,
   "id": "169ec743",
   "metadata": {},
   "outputs": [],
   "source": [
    "#46. Python program to count number of vowels using sets in given string Remove all duplicates from \n",
    "#a given string in Python \n",
    "\n",
    "def count_vow(string):\n",
    "    vow_count=0\n",
    "    for i in string:\n",
    "        if i in vow_str:\n",
    "            vow_count+=1\n",
    "    print(vow_count)\n",
    "    \n",
    "string=input(\"Enter the string : \")\n",
    "vow_str=set(\"aeiouAEIOU\")\n",
    "count_vow(string)"
   ]
  },
  {
   "cell_type": "code",
   "execution_count": null,
   "id": "f11f6800",
   "metadata": {},
   "outputs": [],
   "source": [
    "#47 Python | Program to check if a string contains any special character Generating random strings \n",
    "# until a given string is generated Find words which are greater than given length k \n",
    "import random\n",
    "def is_splchar(string):\n",
    "    k=4\n",
    "    for i in string:\n",
    "        if i in spl_char:\n",
    "            print(i)\n",
    "            random.choice()\n",
    "            \n",
    "    \n",
    "spl_char=set(\"~!@#$%^&*()?\")\n",
    "string=input(\"Enter the string: \")\n",
    "is_splchar(string)"
   ]
  },
  {
   "cell_type": "code",
   "execution_count": null,
   "id": "42fa777d",
   "metadata": {},
   "outputs": [],
   "source": [
    "#48. Python program for removing i-th character from a string \n",
    "\n",
    "def is_remove(string,j):\n",
    "\n",
    "    for i in range(len(string)):\n",
    "        if i==j:\n",
    "            str=string.replace(string[j],'',1)\n",
    "    print(str)\n",
    "j=5\n",
    "string=\"I am Priyankka deoo, I m an Data Engineer\"\n",
    "is_remove(string,j)"
   ]
  },
  {
   "cell_type": "code",
   "execution_count": null,
   "id": "a6196dc5",
   "metadata": {},
   "outputs": [],
   "source": [
    "#49.Python program to split and join a string\n",
    "def split(string):\n",
    "    print(string.split())\n",
    "def join(string):\n",
    "    str=\"\".join(string)\n",
    "    print(str)\n",
    "string=\"I am Priyankka deoo, I m an Data Engineer\"\n",
    "split(string)\n",
    "join(string)"
   ]
  },
  {
   "cell_type": "code",
   "execution_count": null,
   "id": "c910ddad",
   "metadata": {},
   "outputs": [],
   "source": [
    "#50.Python | Check if a given string is binary string or not \n",
    "def isbinary(string):\n",
    "    flag=0\n",
    "    for i in string:\n",
    "        if i in bin:\n",
    "            flag=1\n",
    "            break\n",
    "        else:\n",
    "            pass\n",
    "    if flag:\n",
    "        print(\"String is Binary string\")\n",
    "    else:\n",
    "        print(\"String is not binary string\")\n",
    "    \n",
    "bin='01'\n",
    "string=input(\"Enter the string : \")\n",
    "isbinary(string)"
   ]
  },
  {
   "cell_type": "code",
   "execution_count": null,
   "id": "255a579f",
   "metadata": {},
   "outputs": [],
   "source": [
    "#51. Python | Find all close matches of input string from a list \n",
    "string=\"priyanka\"\n",
    "lst=[\"I\",\"Am\",\"pri\", \"de\",\"ta\",\"gineer\",\"pr\"]\n",
    "for i in lst:\n",
    "    if i.startswith(string) or string.startswith(i):\n",
    "        print(i)"
   ]
  },
  {
   "cell_type": "code",
   "execution_count": null,
   "id": "b2245f09",
   "metadata": {},
   "outputs": [],
   "source": [
    "#52. Python program to find uncommon words from two Strings \n",
    "\n",
    "def two_strings(s1,s2):\n",
    "    list_s1=s1.split()\n",
    "    list_s2=s2.split()\n",
    "    for i in list_s1:\n",
    "        if i not in list_s2:\n",
    "            print(i,end=\" \")\n",
    "    for j in list_s2:\n",
    "        if j not in list_s1:\n",
    "            print(j,end=\" \")\n",
    "s1=\"Priyanka deo is Data Engineer\"\n",
    "s2=\"I am Priyanka deo a Data Engineer\"\n",
    "res=two_strings(s1,s2)\n",
    "print(res)"
   ]
  },
  {
   "cell_type": "code",
   "execution_count": null,
   "id": "b90a8bee",
   "metadata": {},
   "outputs": [],
   "source": [
    "#53.Python | Swap commas and dots in a String \n",
    "\n",
    "def swap_comma(s2):\n",
    "        s2=s2.replace(\",\",\".\")\n",
    "        return s2\n",
    "\n",
    "def swap_dot(s2):\n",
    "        s2=s2.replace(\".\",\",\")\n",
    "        return s2 \n",
    "    \n",
    "s2=\"I am. Priyanka, deo, a Data Engineer.\"\n",
    "print(swap_comma(s2))\n",
    "print(swap_dot(s2))"
   ]
  },
  {
   "cell_type": "code",
   "execution_count": null,
   "id": "09451024",
   "metadata": {},
   "outputs": [],
   "source": [
    "#54. Python | Permutation of a given string using inbuilt function \n",
    "from itertools import permutations\n",
    "def permutations_str(string):\n",
    "    perm_list=list(permutations(string))\n",
    "    for i in perm_list:\n",
    "        print(''.join(i))\n",
    "\n",
    "string=\"piyu\"\n",
    "permutations_str(string)"
   ]
  },
  {
   "cell_type": "code",
   "execution_count": null,
   "id": "02b34b99",
   "metadata": {},
   "outputs": [],
   "source": [
    "#55. Python | Check for URL in a String Execute a String of Code in \n",
    "\n",
    "#using regural expression\n",
    "\n",
    "import re\n",
    "\n",
    "string=\"Visit my website, www.alivedigital.in\"\n",
    "print(string)\n",
    "url=re.findall('http[s]?://(?:[a-zA-Z]|[0-9]|[$-_@.&+]|[!*\\(\\),]|(?:%[0-9a-fA-F][0-9a-fA-F]))+',string)\n",
    "print(url)\n"
   ]
  },
  {
   "cell_type": "code",
   "execution_count": null,
   "id": "867abc7b",
   "metadata": {},
   "outputs": [],
   "source": [
    "#56. Python String slicing in Python to rotate a string\n",
    "def str_rotation(string,d):\n",
    "    lfirst=string[0:d]\n",
    "    lsecond=string[d: ]\n",
    "    rfirst=string[0:len(string)-d]\n",
    "    rsecond=string[len(string)-d: ]\n",
    "    print(\"left Rotation:\",(lsecond+lfirst))\n",
    "    print(\"Right Rotation:\",(rsecond+rfirst))\n",
    "\n",
    "string=\"Priyanka\"\n",
    "d=5\n",
    "str_rotation(string,d)"
   ]
  },
  {
   "cell_type": "code",
   "execution_count": null,
   "id": "c14c2a5e",
   "metadata": {},
   "outputs": [],
   "source": [
    "#57. String slicing in Python to check if a string can become empty by recursive deletion \n",
    "\n",
    "def str_del(string,pattern):\n",
    "    while(len(string)!=0):\n",
    "        index=string.find(pattern)\n",
    "        print(index)\n",
    "        if (index==(-1)):\n",
    "            return 'False'\n",
    "        string=string[0:index]+string[index:len(pattern)]\n",
    "            return 'True'\n",
    "string=\"priyanka\"\n",
    "pattern=\"priya\"\n",
    "str_del(string,pattern)"
   ]
  },
  {
   "cell_type": "code",
   "execution_count": null,
   "id": "621c0bd6",
   "metadata": {},
   "outputs": [],
   "source": []
  }
 ],
 "metadata": {
  "kernelspec": {
   "display_name": "Python 3 (ipykernel)",
   "language": "python",
   "name": "python3"
  },
  "language_info": {
   "codemirror_mode": {
    "name": "ipython",
    "version": 3
   },
   "file_extension": ".py",
   "mimetype": "text/x-python",
   "name": "python",
   "nbconvert_exporter": "python",
   "pygments_lexer": "ipython3",
   "version": "3.10.4"
  }
 },
 "nbformat": 4,
 "nbformat_minor": 5
}
