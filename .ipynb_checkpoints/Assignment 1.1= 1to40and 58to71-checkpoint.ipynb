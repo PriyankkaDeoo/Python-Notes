{
 "cells": [
  {
   "cell_type": "code",
   "execution_count": 2,
   "id": "8e39e24c",
   "metadata": {},
   "outputs": [
    {
     "name": "stdout",
     "output_type": "stream",
     "text": [
      "[2, 5, 6, 8, 8, 11, 56]\n"
     ]
    }
   ],
   "source": [
    "#Program to sort list\n",
    "L=[11,2,5,6,8,56,8]\n",
    "for i in range(len(L)):\n",
    "    for j in range(i+1,len(L)):\n",
    "        if L[i]>L[j]:\n",
    "            L[i],L[j]=L[j],L[i]\n",
    "print(L)\n"
   ]
  },
  {
   "cell_type": "code",
   "execution_count": 1,
   "id": "bf14f1c9",
   "metadata": {},
   "outputs": [
    {
     "name": "stdout",
     "output_type": "stream",
     "text": [
      "Enter number to get its factorial2\n",
      "factorial of 2 is  2\n"
     ]
    }
   ],
   "source": [
    "#1.Python Program for factorial of a number with loop \n",
    "num=int(input(\"Enter number to get its factorial\"))\n",
    "fact=1\n",
    "if num==0:\n",
    "    print(\"Factorial of 0 is 1\")\n",
    "elif num<0:\n",
    "    print(\"Factorial does not exist for negative numbers\")\n",
    "else:\n",
    "    for i in range(1, num+1):\n",
    "        fact=fact*i\n",
    "    print(\"factorial of\",num, \"is \",fact)"
   ]
  },
  {
   "cell_type": "code",
   "execution_count": null,
   "id": "3c2249d5",
   "metadata": {},
   "outputs": [],
   "source": [
    "#1.Python Program for factorial of a number with recursion\n",
    "\n",
    "def factorial(num):\n",
    "    if num==1:\n",
    "        return 1\n",
    "    else:\n",
    "            return num*factorial(num-1)\n",
    "        \n",
    "num=int(input(\"Enter number to get its factorial\"))        \n",
    "if num==0:\n",
    "        print(\"Factorial of 0 is 1\")\n",
    "elif num<0:\n",
    "        print(\"Factorial does not exist for negative numbers\")\n",
    "else:\n",
    "    print(\"factorial of \",num, \"is\" , factorial(num))"
   ]
  },
  {
   "cell_type": "code",
   "execution_count": 1,
   "id": "739fdd5f",
   "metadata": {},
   "outputs": [
    {
     "name": "stdout",
     "output_type": "stream",
     "text": [
      "Enter any number153\n",
      "Given number is  armstrong\n"
     ]
    }
   ],
   "source": [
    "# Python Program to check Armstrong Number = >number that is equal to the sum of cubes of its digits.\n",
    "num=int(input(\"Enter any number\"))\n",
    "s=num\n",
    "sum=0\n",
    "while num!=0:\n",
    "    rem=num%10\n",
    "    sum=sum+(rem*rem*rem)\n",
    "    num=num//10\n",
    "if s==sum:\n",
    "    print(\"Given number is  armstrong\")\n",
    "else:\n",
    "    print(\"Number is not armstrong\")"
   ]
  },
  {
   "cell_type": "code",
   "execution_count": null,
   "id": "21d3d680",
   "metadata": {},
   "outputs": [],
   "source": [
    "# Python Program to check Armstrong Number = > number that is equal to the sum of cubes of its digits.\n",
    "#using function\n",
    "\n",
    "def isArmstrong(num):\n",
    "    sum=0\n",
    "    s=num\n",
    "    while num!=0:\n",
    "        rem=num%10\n",
    "        sum=sum+(rem*rem*rem)\n",
    "        num=num//10\n",
    "    if s==sum:\n",
    "        print(\"Given number is armstrong\")\n",
    "    else:\n",
    "        print(\"Is not Armstrong\")\n",
    "\n",
    "num=int(input(\"Enter any number\"))\n",
    "isArmstrong(num)\n"
   ]
  },
  {
   "cell_type": "code",
   "execution_count": 2,
   "id": "281a6a2e",
   "metadata": {},
   "outputs": [
    {
     "name": "stdout",
     "output_type": "stream",
     "text": [
      "Enter starting range1\n",
      "Enter ending range10\n",
      "All prime numbers between given range are: \n",
      "2\n",
      "3\n",
      "5\n",
      "7\n"
     ]
    }
   ],
   "source": [
    "#python program to print all Prime numbers in an Interval =>(A positive integer greater than 1 which has no other factors except 1 and the number itself is called a prime number.)\n",
    "start_range=int(input(\"Enter starting range\"))\n",
    "end_range=int(input(\"Enter ending range\"))\n",
    "print(\"All prime numbers between given range are: \")\n",
    "\n",
    "for num in range(start_range, end_range):\n",
    "    if num>1:\n",
    "        for i in range(2, num):\n",
    "            if (num%i==0):\n",
    "                break\n",
    "        else:\n",
    "            print(num)\n"
   ]
  },
  {
   "cell_type": "code",
   "execution_count": null,
   "id": "4f477cf1",
   "metadata": {},
   "outputs": [],
   "source": [
    "#check whether number is prime or not\n",
    "num=int(input(\"Enter any number\"))\n",
    "if num>1:\n",
    "    for i in range(2, num):\n",
    "        if num%i==0:\n",
    "            print(\"given number is not prime\")\n",
    "            break\n",
    "    else:\n",
    "        print(\"Given number is prime\")\n",
    "        \n"
   ]
  },
  {
   "cell_type": "code",
   "execution_count": 2,
   "id": "4db0574e",
   "metadata": {},
   "outputs": [
    {
     "name": "stdout",
     "output_type": "stream",
     "text": [
      "Enter range12\n",
      "0\n",
      "1\n",
      "1\n",
      "2\n",
      "3\n",
      "5\n",
      "8\n",
      "13\n",
      "21\n",
      "34\n",
      "55\n",
      "89\n"
     ]
    }
   ],
   "source": [
    "#4. Python Program for Fibonacci numbers =>is the sum of the two preceding numbers\n",
    "def fibbonacci(num):\n",
    "    if (num == 0):\n",
    "        return 0\n",
    "    elif (num == 1):\n",
    "        return 1\n",
    "    else:\n",
    "        return (fibbonacci(num-2)+fibbonacci(num-1))\n",
    "    \n",
    "num=int(input(\"Enter range\")) \n",
    "for i in range (0,num):\n",
    "    print(fibbonacci(i))    "
   ]
  },
  {
   "cell_type": "code",
   "execution_count": 3,
   "id": "6a83a059",
   "metadata": {},
   "outputs": [
    {
     "name": "stdout",
     "output_type": "stream",
     "text": [
      "20\n"
     ]
    }
   ],
   "source": [
    "#5. python Program to find sum of array (using multiple approach)\n",
    "sum=0\n",
    "lst=[2,4,6,8]\n",
    "for i in lst:\n",
    "    sum=sum+i\n",
    "print(sum) \n"
   ]
  },
  {
   "cell_type": "code",
   "execution_count": null,
   "id": "d007db7e",
   "metadata": {},
   "outputs": [],
   "source": [
    "# 6. Python Program to find largest element in an array \n",
    "lst=[2,34,12,156,998]\n",
    "max=lst[0]\n",
    "\n",
    "for i in range(0,len(lst)):\n",
    "    if lst[i] > max:\n",
    "        max = lst[i]\n",
    "print(\"largest number from the list is:\", max)"
   ]
  },
  {
   "cell_type": "code",
   "execution_count": 4,
   "id": "5ebbec27",
   "metadata": {},
   "outputs": [
    {
     "name": "stdout",
     "output_type": "stream",
     "text": [
      "largest number from the list is: 998\n"
     ]
    }
   ],
   "source": [
    "# 6. Python Program to find largest element in an array \n",
    "lst=[2,34,12,156,998]\n",
    "largest=0\n",
    "\n",
    "for i in lst:\n",
    "    if i>largest:\n",
    "        largest=i\n",
    "print(\"largest number from the list is:\", largest)"
   ]
  },
  {
   "cell_type": "code",
   "execution_count": 5,
   "id": "afe5f56e",
   "metadata": {},
   "outputs": [
    {
     "name": "stdout",
     "output_type": "stream",
     "text": [
      "[3, 4, 5, 6, 7]\n",
      "[3, 4, 5, 6, 7, 1, 2]\n",
      "rotated array: [3, 4, 5, 6, 7, 1, 2]\n"
     ]
    }
   ],
   "source": [
    "#7. Python Program for array rotation \n",
    "def rotateArray(arr,d):\n",
    "    temp=[]\n",
    "    for i in range(2,len(arr)):\n",
    "        temp.append(arr[i])\n",
    "    print(temp)\n",
    "    i=0\n",
    "    for i in range(0,2):\n",
    "        temp.append(arr[i])\n",
    "    print(temp)\n",
    "    a=temp.copy()\n",
    "    return a\n",
    "arr=[1,2,3,4,5,6,7]\n",
    "res=rotateArray(arr,2)\n",
    "print(\"rotated array:\", res)"
   ]
  },
  {
   "cell_type": "code",
   "execution_count": null,
   "id": "a65d47c4",
   "metadata": {},
   "outputs": [],
   "source": [
    "def array(arr,d):\n",
    "    temp=[]\n",
    "    for i in range(d,len(arr)):\n",
    "        temp.append(arr[i])\n",
    "    i=0\n",
    "    for i in range(0,d):\n",
    "        temp.append(arr[i])\n",
    "    print(temp)\n",
    "    \n",
    "arr=[1,2,3,4,5,6]\n",
    "res=array(arr,3)\n",
    "\n"
   ]
  },
  {
   "cell_type": "code",
   "execution_count": null,
   "id": "7e877619",
   "metadata": {},
   "outputs": [],
   "source": [
    "def rotateArray(arr,d):"
   ]
  },
  {
   "cell_type": "code",
   "execution_count": 6,
   "id": "3372a300",
   "metadata": {},
   "outputs": [
    {
     "name": "stdout",
     "output_type": "stream",
     "text": [
      "[7, 6, 5, 4, 3, 2, 1]\n"
     ]
    }
   ],
   "source": [
    "#8.. Python Program for Reversal algorithm for array rotation\n",
    "def reversalArray(arr,d):\n",
    "    temp=arr[::-1]\n",
    "    return temp\n",
    "arr=[1,2,3,4,5,6,7]\n",
    "res=reversalArray(arr,7)\n",
    "print(res)"
   ]
  },
  {
   "cell_type": "code",
   "execution_count": null,
   "id": "8795bb7a",
   "metadata": {},
   "outputs": [],
   "source": [
    "#9. Python Program to Split the array and add the first part to the end \n",
    "\n",
    "arr=[1,2,3,4,5,6]\n",
    "temp=[]\n",
    "\n",
    "for i in range(3,len(arr)):\n",
    "    temp.append(arr[i])\n",
    "for i in range(0,3):\n",
    "    temp.append(arr[i])\n",
    "print(temp)"
   ]
  },
  {
   "cell_type": "code",
   "execution_count": 9,
   "id": "0e186377",
   "metadata": {},
   "outputs": [
    {
     "name": "stdout",
     "output_type": "stream",
     "text": [
      "product: 66\n",
      "reminder: 3.0\n"
     ]
    }
   ],
   "source": [
    "#10.Python Program for Find reminder of array multiplication divided by n \n",
    "arr1=[1,2,3,4,5,6]\n",
    "arr2=[7,8,9,10,11]\n",
    "n=2\n",
    "for i in arr1:\n",
    "    for j in arr2:\n",
    "        prod=i*j\n",
    "        rem=i%j/n\n",
    "print(\"product:\",prod)\n",
    "print(\"reminder:\",rem)\n",
    "\n"
   ]
  },
  {
   "cell_type": "code",
   "execution_count": 10,
   "id": "e792e08f",
   "metadata": {},
   "outputs": [
    {
     "name": "stdout",
     "output_type": "stream",
     "text": [
      "[100, 13, 44, 56, 78, 90, 11, 21]\n"
     ]
    }
   ],
   "source": [
    "# 11.Python program to interchange first and last elements in a list \n",
    "lst=[21,13,44,56,78,90,11,100]\n",
    "first=lst.pop(0)\n",
    "last=lst.pop(-1)\n",
    "lst.append(first)\n",
    "lst.insert(0,last)\n",
    "print(lst)"
   ]
  },
  {
   "cell_type": "code",
   "execution_count": 13,
   "id": "63d79a53",
   "metadata": {},
   "outputs": [
    {
     "name": "stdout",
     "output_type": "stream",
     "text": [
      "b\n",
      "d\n",
      "['a', 'd', 'c', 'b', 'e']\n"
     ]
    }
   ],
   "source": [
    "# 12.Python program to swap two elements in a list \n",
    "lst=[\"a\",\"b\",\"c\",\"d\",\"e\"]\n",
    "one=lst.pop(1)\n",
    "print(one)\n",
    "two=lst.pop(2)\n",
    "print(two)\n",
    "lst.insert(2,one)\n",
    "lst.insert(1,two)\n",
    "print(lst)"
   ]
  },
  {
   "cell_type": "code",
   "execution_count": 15,
   "id": "497ac6d2",
   "metadata": {},
   "outputs": [
    {
     "name": "stdout",
     "output_type": "stream",
     "text": [
      "['I', 'am', 'priyanka', 'priyanka', 'is', 'my', 'name', 'its']\n"
     ]
    }
   ],
   "source": [
    "#13.Python program to remove Nth occurrence of the given word\n",
    "def removeNthocc(strlst,word,n):\n",
    "    index=0\n",
    "    count=0\n",
    "    for i in strlst:\n",
    "        index+=1\n",
    "        if i==word:\n",
    "            count+=1\n",
    "            if count==n:\n",
    "                strlst.pop(index-1)\n",
    "    return strlst\n",
    "    \n",
    "strlst=[\"I\",\"am\",\"priyanka\",\"priyanka\", \"is\", \"my\",\"name\",\"its\",\"priyanka\"]\n",
    "word=\"priyanka\"\n",
    "n=3\n",
    "\n",
    "res=removeNthocc(strlst,word,n)\n",
    "print(res)"
   ]
  },
  {
   "cell_type": "code",
   "execution_count": 16,
   "id": "11ffaecb",
   "metadata": {},
   "outputs": [
    {
     "name": "stdout",
     "output_type": "stream",
     "text": [
      "7\n",
      "7\n"
     ]
    }
   ],
   "source": [
    "#14.Python | Ways to find length of list \n",
    "lst=[2,4,2,33,11,24,55]\n",
    "print(len(lst))\n",
    "length=0\n",
    "for i in lst:\n",
    "    length+=1\n",
    "print(length)"
   ]
  },
  {
   "cell_type": "code",
   "execution_count": 17,
   "id": "edd5cf14",
   "metadata": {},
   "outputs": [
    {
     "name": "stdout",
     "output_type": "stream",
     "text": [
      "element is present in lst\n",
      "Enter string: pq\n",
      "element is not present in lst\n"
     ]
    }
   ],
   "source": [
    "#15.Python | Ways to check if element exists in list \n",
    "lst=[1,\"ab\",44,\"rr\",24]\n",
    "if 24 in lst:\n",
    "    print(\"element is present in lst\")\n",
    "else:\n",
    "    print(\"element is not present in lst\")\n",
    "    \n",
    "n=str(input(\"Enter string: \"))\n",
    "if n in lst:\n",
    "    print(\"element is present in lst\")\n",
    "else:\n",
    "    print(\"element is not present in lst\")"
   ]
  },
  {
   "cell_type": "code",
   "execution_count": 20,
   "id": "b8a54338",
   "metadata": {},
   "outputs": [
    {
     "name": "stdout",
     "output_type": "stream",
     "text": [
      "[]\n"
     ]
    }
   ],
   "source": [
    "#16.Different ways to clear a list in Python\n",
    "lst=[1,\"ab\",44,\"rr\",24]\n",
    "lst.clear()\n",
    "print(lst)"
   ]
  },
  {
   "cell_type": "code",
   "execution_count": null,
   "id": "6659627e",
   "metadata": {},
   "outputs": [],
   "source": [
    "#17.Python | Reversing a List Python\n",
    "lst=[1,\"ab\",44,\"rr\",24]\n",
    "temp=lst[::-1]\n",
    "print(temp)"
   ]
  },
  {
   "cell_type": "code",
   "execution_count": 22,
   "id": "9046670e",
   "metadata": {},
   "outputs": [
    {
     "name": "stdout",
     "output_type": "stream",
     "text": [
      "2nd way\n",
      "[1, 'ab', 44, 'rr', 24]\n",
      "3rd way\n",
      "[1, 'ab', 44, 'rr', 24]\n"
     ]
    }
   ],
   "source": [
    "#18. Cloning or Copying a list Python \n",
    "lst=[1,\"ab\",44,\"rr\",24]\n",
    "lst1=[]\n",
    "#print(\"1st way to clone\")\n",
    "#lst1=lst\n",
    "#print(lst1)\n",
    "\n",
    "print(\"2nd way\")\n",
    "lst1=list(lst)\n",
    "print(lst1)\n",
    "\n",
    "print(\"3rd way\")\n",
    "lst1=lst.copy()\n",
    "print(lst1)"
   ]
  },
  {
   "cell_type": "code",
   "execution_count": 4,
   "id": "92839f9a",
   "metadata": {},
   "outputs": [
    {
     "name": "stdout",
     "output_type": "stream",
     "text": [
      "3\n"
     ]
    }
   ],
   "source": [
    "#19.Count occurrences of an element in a list\n",
    "\n",
    "def countOcc(lst):\n",
    "    count=0\n",
    "    for i in lst:\n",
    "        if i==12:\n",
    "            count=count+1\n",
    "    return count\n",
    "\n",
    "lst=[12,2,11,12,3,11,4,12]\n",
    "res=countOcc(lst)\n",
    "print(res)"
   ]
  },
  {
   "cell_type": "code",
   "execution_count": 5,
   "id": "13b3ba5c",
   "metadata": {},
   "outputs": [
    {
     "name": "stdout",
     "output_type": "stream",
     "text": [
      "67\n"
     ]
    }
   ],
   "source": [
    "#20.python program to find sum of elements in list\n",
    "def sumOfelements(lst):\n",
    "    sum=0\n",
    "    for i in lst:\n",
    "        sum=sum+i\n",
    "    return sum\n",
    "lst=[12,2,11,12,3,11,4,12]\n",
    "res=sumOfelements(lst)\n",
    "print(res)"
   ]
  },
  {
   "cell_type": "code",
   "execution_count": 7,
   "id": "36eeec8d",
   "metadata": {},
   "outputs": [
    {
     "name": "stdout",
     "output_type": "stream",
     "text": [
      "5018112\n"
     ]
    }
   ],
   "source": [
    "#21. Python | Multiply all numbers in the list\n",
    "def mutiplyElements(lst):\n",
    "    prod=1\n",
    "    for i in lst:\n",
    "        prod=prod*i\n",
    "    return prod\n",
    "lst=[12,2,11,12,3,11,4,12]\n",
    "res=mutiplyElements(lst)\n",
    "print(res)"
   ]
  },
  {
   "cell_type": "code",
   "execution_count": 13,
   "id": "064c45ff",
   "metadata": {},
   "outputs": [
    {
     "name": "stdout",
     "output_type": "stream",
     "text": [
      "0\n"
     ]
    }
   ],
   "source": [
    "#22. Python program to find smallest number in a list \n",
    "def smallest(lst):\n",
    "    small=lst[0]\n",
    "    for i in range(len(lst)):\n",
    "        if lst[i]<small:\n",
    "            small=lst[i]\n",
    "    return small\n",
    "lst=[10,12,2,11,1,12,3,11,4,12,0]\n",
    "res=smallest(lst)\n",
    "print(res)"
   ]
  },
  {
   "cell_type": "code",
   "execution_count": 16,
   "id": "89e9c6d8",
   "metadata": {},
   "outputs": [
    {
     "name": "stdout",
     "output_type": "stream",
     "text": [
      "41\n"
     ]
    }
   ],
   "source": [
    "#23. Python program to find largest number in a list \n",
    "def largest(lst):\n",
    "    large=lst[0]\n",
    "    for i in range(len(lst)):\n",
    "        if lst[i]>large:\n",
    "            large=lst[i]\n",
    "    return large\n",
    "lst=[10,12,2,11,1,12,3,11,41,12,0]\n",
    "res=largest(lst)\n",
    "print(res)"
   ]
  },
  {
   "cell_type": "code",
   "execution_count": 17,
   "id": "af211133",
   "metadata": {},
   "outputs": [
    {
     "name": "stdout",
     "output_type": "stream",
     "text": [
      "[3, 4, 12, 20]\n",
      "[4]\n"
     ]
    }
   ],
   "source": [
    "#24. Python program to find second largest number in a list \n",
    "\n",
    "l1=[12,3,4,20]\n",
    "l1.sort()\n",
    "print(l1)\n",
    "print(l1[1:2])"
   ]
  },
  {
   "cell_type": "code",
   "execution_count": 18,
   "id": "09c81187",
   "metadata": {},
   "outputs": [
    {
     "name": "stdout",
     "output_type": "stream",
     "text": [
      "12\n",
      "4\n",
      "20\n",
      "[12, 4, 20]\n"
     ]
    }
   ],
   "source": [
    "#25. Python program to print even numbers in a list \n",
    "l1=[12,3,4,20]\n",
    "even_num=[]\n",
    "for digits in l1:\n",
    "    if digits % 2==0:\n",
    "        print(digits)\n",
    "        even_num.append(digits)\n",
    "print(even_num)"
   ]
  },
  {
   "cell_type": "code",
   "execution_count": 19,
   "id": "04903c1f",
   "metadata": {},
   "outputs": [
    {
     "name": "stdout",
     "output_type": "stream",
     "text": [
      "3\n",
      "23\n",
      "55\n",
      "[3, 23, 55]\n"
     ]
    }
   ],
   "source": [
    "#26. Python program to print odd numbers in a List \n",
    "\n",
    "l1=[12,3,4,20,23,55]\n",
    "odd_num=[]\n",
    "for digits in l1:\n",
    "    if digits % 2 !=0:\n",
    "        print(digits)\n",
    "        odd_num.append(digits)\n",
    "print(odd_num)"
   ]
  },
  {
   "cell_type": "code",
   "execution_count": 20,
   "id": "a161ec68",
   "metadata": {},
   "outputs": [
    {
     "name": "stdout",
     "output_type": "stream",
     "text": [
      "Enter starting range1\n",
      "Enter ending range100\n",
      "2\n",
      "4\n",
      "6\n",
      "8\n",
      "10\n",
      "12\n",
      "14\n",
      "16\n",
      "18\n",
      "20\n",
      "22\n",
      "24\n",
      "26\n",
      "28\n",
      "30\n",
      "32\n",
      "34\n",
      "36\n",
      "38\n",
      "40\n",
      "42\n",
      "44\n",
      "46\n",
      "48\n",
      "50\n",
      "52\n",
      "54\n",
      "56\n",
      "58\n",
      "60\n",
      "62\n",
      "64\n",
      "66\n",
      "68\n",
      "70\n",
      "72\n",
      "74\n",
      "76\n",
      "78\n",
      "80\n",
      "82\n",
      "84\n",
      "86\n",
      "88\n",
      "90\n",
      "92\n",
      "94\n",
      "96\n",
      "98\n"
     ]
    }
   ],
   "source": [
    "#27. python program to print all even numbers in a range\n",
    "start_range=int(input(\"Enter starting range\"))\n",
    "end_range=int(input(\"Enter ending range\"))\n",
    "\n",
    "for i in range(start_range,end_range):\n",
    "    if i%2==0:\n",
    "        print(i)"
   ]
  },
  {
   "cell_type": "code",
   "execution_count": 21,
   "id": "256ebe9b",
   "metadata": {},
   "outputs": [
    {
     "name": "stdout",
     "output_type": "stream",
     "text": [
      "Enter starting range1\n",
      "Enter ending range100\n",
      "1\n",
      "3\n",
      "5\n",
      "7\n",
      "9\n",
      "11\n",
      "13\n",
      "15\n",
      "17\n",
      "19\n",
      "21\n",
      "23\n",
      "25\n",
      "27\n",
      "29\n",
      "31\n",
      "33\n",
      "35\n",
      "37\n",
      "39\n",
      "41\n",
      "43\n",
      "45\n",
      "47\n",
      "49\n",
      "51\n",
      "53\n",
      "55\n",
      "57\n",
      "59\n",
      "61\n",
      "63\n",
      "65\n",
      "67\n",
      "69\n",
      "71\n",
      "73\n",
      "75\n",
      "77\n",
      "79\n",
      "81\n",
      "83\n",
      "85\n",
      "87\n",
      "89\n",
      "91\n",
      "93\n",
      "95\n",
      "97\n",
      "99\n"
     ]
    }
   ],
   "source": [
    "#28. python program to print all odd numbers in a range\n",
    "start_range=int(input(\"Enter starting range\"))\n",
    "end_range=int(input(\"Enter ending range\"))\n",
    "\n",
    "for i in range(start_range,end_range):\n",
    "    if i%2 !=0:\n",
    "        print(i)"
   ]
  },
  {
   "cell_type": "code",
   "execution_count": 22,
   "id": "f27ef44c",
   "metadata": {},
   "outputs": [
    {
     "name": "stdout",
     "output_type": "stream",
     "text": [
      "even numbers count: 6\n",
      "odd numbers count: 3\n"
     ]
    }
   ],
   "source": [
    "#29.Python program to count Even and Odd numbers in a List \n",
    "l1=[12,3,4,20,23,55,44,26,558]\n",
    "even_count=0\n",
    "odd_count=0\n",
    "for digits in l1:\n",
    "    if digits % 2 == 0:\n",
    "        even_count+=1\n",
    "    else:\n",
    "        odd_count+=1\n",
    "         \n",
    "print(\"even numbers count:\",even_count)\n",
    "print(\"odd numbers count:\", odd_count)"
   ]
  },
  {
   "cell_type": "code",
   "execution_count": 23,
   "id": "bc5b839c",
   "metadata": {},
   "outputs": [
    {
     "name": "stdout",
     "output_type": "stream",
     "text": [
      "3\n",
      "4\n",
      "23\n",
      "26\n",
      "558\n"
     ]
    }
   ],
   "source": [
    "#30.program to print positive numbers in a list\n",
    "l1=[-12,3,4,-20,23,-55,-44,26,558]\n",
    "pos_num=[]\n",
    "for i in l1:\n",
    "    if i>=0:\n",
    "        print(i)"
   ]
  },
  {
   "cell_type": "code",
   "execution_count": 24,
   "id": "6c9a39e6",
   "metadata": {},
   "outputs": [
    {
     "name": "stdout",
     "output_type": "stream",
     "text": [
      "-12\n",
      "-20\n",
      "-55\n",
      "-44\n"
     ]
    }
   ],
   "source": [
    "#31.program to print negative numbers in a list\n",
    "l1=[-12,3,4,-20,23,-55,-44,26,558]\n",
    "pos_num=[]\n",
    "for i in l1:\n",
    "    if i<0:\n",
    "        print(i)"
   ]
  },
  {
   "cell_type": "code",
   "execution_count": 25,
   "id": "9cd5ef38",
   "metadata": {},
   "outputs": [
    {
     "name": "stdout",
     "output_type": "stream",
     "text": [
      "Enter starting range-10\n",
      "Enter ending range10\n",
      "0\n",
      "1\n",
      "2\n",
      "3\n",
      "4\n",
      "5\n",
      "6\n",
      "7\n",
      "8\n",
      "9\n"
     ]
    }
   ],
   "source": [
    "#32. Python program to print all positive numbers in a range\n",
    "start_range=int(input(\"Enter starting range\"))\n",
    "end_range=int(input(\"Enter ending range\"))\n",
    "\n",
    "for i in range(start_range,end_range):\n",
    "    if i>=0:\n",
    "        print(i)"
   ]
  },
  {
   "cell_type": "code",
   "execution_count": 26,
   "id": "4de24926",
   "metadata": {},
   "outputs": [
    {
     "name": "stdout",
     "output_type": "stream",
     "text": [
      "Enter starting range-10\n",
      "Enter ending range10\n",
      "-10\n",
      "-9\n",
      "-8\n",
      "-7\n",
      "-6\n",
      "-5\n",
      "-4\n",
      "-3\n",
      "-2\n",
      "-1\n"
     ]
    }
   ],
   "source": [
    "#33. Python program to print all negative numbers in a range\n",
    "start_range=int(input(\"Enter starting range\"))\n",
    "end_range=int(input(\"Enter ending range\"))\n",
    "\n",
    "for i in range(start_range,end_range):\n",
    "    if i<0:\n",
    "        print(i)"
   ]
  },
  {
   "cell_type": "code",
   "execution_count": 27,
   "id": "c9e35b8c",
   "metadata": {},
   "outputs": [
    {
     "name": "stdout",
     "output_type": "stream",
     "text": [
      "positive count: 5\n",
      "negative count: 4\n"
     ]
    }
   ],
   "source": [
    "#34.Python program to count positive and negative numbers in a list\n",
    "l1=[-12,3,4,-20,23,-55,-44,26,558]\n",
    "pos_count=0\n",
    "neg_count=0\n",
    "for i in l1:\n",
    "    if i>=0:\n",
    "        pos_count+=1\n",
    "    else:\n",
    "        neg_count+=1\n",
    "print(\"positive count:\",pos_count)\n",
    "print(\"negative count:\", neg_count)"
   ]
  },
  {
   "cell_type": "code",
   "execution_count": 30,
   "id": "a09a0114",
   "metadata": {},
   "outputs": [
    {
     "name": "stdout",
     "output_type": "stream",
     "text": [
      "[3, 4, -20, 23, -55, -44, 26, 558]\n",
      "[3, -20, 23, -55, -44, 26, 558]\n",
      "[3, -20, -55, -44, 26, 558]\n",
      "[3, -20, -55, 26, 558]\n",
      "[3, -20, -55, 26]\n"
     ]
    }
   ],
   "source": [
    "#35. Remove multiple elements from a list in Python \n",
    "l1=[-12,3,4,-20,23,-55,-44,26,558]\n",
    "for ele in l1:\n",
    "    if ele % 2 == 0:\n",
    "        l1.remove(ele)\n",
    "        print(l1)\n",
    "    else:\n",
    "        if ele % 2 !=0:\n",
    "            l1.remove(ele)\n",
    "        print(l1)"
   ]
  },
  {
   "cell_type": "code",
   "execution_count": 2,
   "id": "418e5b3e",
   "metadata": {},
   "outputs": [
    {
     "name": "stdout",
     "output_type": "stream",
     "text": [
      "original list: [1, (), 2, 3, (), 4, (1, 2, 3)]\n",
      "resulted list: [1, 2, 3, 4, (1, 2, 3)]\n"
     ]
    }
   ],
   "source": [
    "#36.Python | Remove empty tuples from a list \n",
    "lst=[1,(),2,3,(),4,(1,2,3)]\n",
    "print(\"original list:\",lst)\n",
    "emptylst=[]\n",
    "for i in lst:\n",
    "    if i==():\n",
    "        lst.remove(i)\n",
    "print(\"resulted list:\",lst)"
   ]
  },
  {
   "cell_type": "code",
   "execution_count": 37,
   "id": "80b5ca65",
   "metadata": {},
   "outputs": [
    {
     "name": "stdout",
     "output_type": "stream",
     "text": [
      "1\n",
      "3\n",
      "6\n"
     ]
    }
   ],
   "source": [
    "#37  Program to print duplicates from a list of integers\n",
    "\n",
    "lst=[1,2,1,3,4,3,5,6,6] #1,3,6\n",
    "lst2=[]\n",
    "for i in range(0,len(lst)):\n",
    "    for j in range(i+1,len(lst)):\n",
    "        if lst[i]==lst[j]:\n",
    "            print(lst[i])                     "
   ]
  },
  {
   "cell_type": "code",
   "execution_count": 4,
   "id": "17b1f0ab",
   "metadata": {},
   "outputs": [
    {
     "name": "stdout",
     "output_type": "stream",
     "text": [
      "53\n",
      "43\n",
      "26\n",
      "78\n",
      "96\n",
      "55\n",
      "118\n",
      "80\n",
      "52\n",
      "35\n",
      "87\n",
      "105\n",
      "64\n",
      "127\n",
      "89\n",
      "25\n",
      "77\n",
      "95\n",
      "54\n",
      "117\n",
      "79\n",
      "60\n",
      "78\n",
      "37\n",
      "100\n",
      "62\n",
      "130\n",
      "89\n",
      "152\n",
      "114\n",
      "107\n",
      "170\n",
      "132\n",
      "129\n",
      "91\n",
      "154\n"
     ]
    }
   ],
   "source": [
    "#38  Python program to find Cumulative sum of a list Break a list into chunks of size N in=>  NOT SOLVED\n",
    "lst=[22,31,21,4,56,74,33,96,58]\n",
    "#cumulative sum of a list\n",
    "sum=0\n",
    "for i in range(0,len(lst)):\n",
    "    for k in range(i+1,len(lst)):\n",
    "        sum=lst[i]+lst[k]\n",
    "        print(sum)\n",
    "        \n",
    "      "
   ]
  },
  {
   "cell_type": "code",
   "execution_count": 11,
   "id": "0ce82112",
   "metadata": {},
   "outputs": [
    {
     "name": "stdout",
     "output_type": "stream",
     "text": [
      "Sorted list ['o', 'v', 'b', 'g', 'r', 'i', 'y']\n"
     ]
    }
   ],
   "source": [
    "#39.  Python | Sort the values of first list using second list \n",
    "def sort_list(list1, list2):\n",
    "    zip_list = zip(list2, list1)\n",
    "    x = [i for _, i in sorted(zip_list)]\n",
    "    return x\n",
    "   \n",
    "list1 = ['v', 'i', 'b', 'g', 'y', 'o', 'r']\n",
    "list2 = [0, 2, 1, 1, 2, 0, 1]\n",
    "print(\"Sorted list\", sort_list(list1, list2))"
   ]
  },
  {
   "cell_type": "code",
   "execution_count": 14,
   "id": "a9c3ff8a",
   "metadata": {},
   "outputs": [
    {
     "name": "stdout",
     "output_type": "stream",
     "text": [
      "Yes\n"
     ]
    }
   ],
   "source": [
    "#40. Python program to check if a string is palindrome or not Reverse words in a given String in\n",
    "\n",
    "x = \"sos\"\n",
    "w = \"\"\n",
    "for i in x:\n",
    "    w = i + w\n",
    "if (x == w):\n",
    "    print(\"Yes\")\n",
    "else:\n",
    "    print(\"No\")\n",
    "    \n",
    "s=\"radar\"\n",
    "if s=="
   ]
  },
  {
   "cell_type": "code",
   "execution_count": 2,
   "id": "a1c7ca1d",
   "metadata": {},
   "outputs": [
    {
     "name": "stdout",
     "output_type": "stream",
     "text": [
      "p y a k \n"
     ]
    }
   ],
   "source": [
    "#58. Python Counter| Find all duplicate characters in string Dictionary Programs: \n",
    "\n",
    "string=\"ppriyyankka\"\n",
    "empty_d={}\n",
    "\n",
    "for i in string:\n",
    "    if i in empty_d:\n",
    "        empty_d[i]+=1\n",
    "    else:\n",
    "        empty_d[i]=1\n",
    "        \n",
    "for key,value in empty_d.items():\n",
    "    if value>1:\n",
    "        print(key,end=' ')\n",
    "print()"
   ]
  },
  {
   "cell_type": "code",
   "execution_count": 4,
   "id": "457a21f1",
   "metadata": {},
   "outputs": [
    {
     "name": "stdout",
     "output_type": "stream",
     "text": [
      "Australia India Nepal 0091\n",
      "Not Found\n"
     ]
    }
   ],
   "source": [
    "#59.Python | Sort Python Dictionaries by Key or Value Handling missing keys in \n",
    "country_code = {'India' : '0091',\n",
    "                'Australia' : '0025',\n",
    "                'Nepal' : '00977'}\n",
    "\n",
    "for i in sorted (country_code.keys()):\n",
    "    print(i,end=' ')\n",
    "# search dictionary for country code of India\n",
    "print(country_code.get('India', 'Not Found'))\n",
    " \n",
    "# search dictionary for country code of Japan\n",
    "print(country_code.get('Japan', 'Not Found'))"
   ]
  },
  {
   "cell_type": "code",
   "execution_count": 5,
   "id": "74185dda",
   "metadata": {},
   "outputs": [
    {
     "name": "stdout",
     "output_type": "stream",
     "text": [
      "The dictionary is :\n",
      "{(15, 26, 38): 5, (5, 4, 11): 10}\n"
     ]
    }
   ],
   "source": [
    "#60 Python dictionaries Python dictionary with keys having multiple inputs\n",
    "my_dict = {}\n",
    "\n",
    "a, b, c = 15, 26, 38\n",
    "my_dict[a, b, c] = 5\n",
    "\n",
    "a, b, c = 5, 4, 11\n",
    "my_dict[a, b, c] =10\n",
    "\n",
    "print(\"The dictionary is :\")\n",
    "print(my_dict)"
   ]
  },
  {
   "cell_type": "code",
   "execution_count": 7,
   "id": "64930e74",
   "metadata": {},
   "outputs": [
    {
     "name": "stdout",
     "output_type": "stream",
     "text": [
      "Sum : 600\n"
     ]
    }
   ],
   "source": [
    "#61 Python program to find the sum of all items in a dictionary \n",
    "\n",
    "def dict_sum(dict):\n",
    "    sum=0\n",
    "    for i in dict.values():\n",
    "        sum=sum+i\n",
    "    return sum\n",
    "    \n",
    "dict = {'a': 100, 'b': 200, 'c': 300}\n",
    "print(\"Sum :\", dict_sum(dict))"
   ]
  },
  {
   "cell_type": "code",
   "execution_count": 10,
   "id": "941c4100",
   "metadata": {},
   "outputs": [
    {
     "name": "stdout",
     "output_type": "stream",
     "text": [
      "{1: 'abc', 3: 'xyz'}\n",
      "sorted list by age\n",
      "[{'name': 'sanavi', 'age': 3.5}, {'name': 'priyanka', 'age': 30}, {'name': 'rohit', 'age': 34}]\n",
      "\r\n"
     ]
    }
   ],
   "source": [
    "#62.Python | Ways to remove a key from dictionary Ways to sort list of dictionaries by values in\n",
    "#remove key\n",
    "d1={1:'abc',2:'pqr',3:'xyz'}\n",
    "x=d1.pop(2)\n",
    "print(d1)\n",
    "#sort list\n",
    "lst=[{'name':'priyanka','age':30},{'name':'rohit','age':34},{'name':'sanavi','age':3.5}]\n",
    "print(\"sorted list by age\")\n",
    "x=sorted(lst,key=lambda i:i['age'])\n",
    "print(x)\n",
    "print('\\r')"
   ]
  },
  {
   "cell_type": "code",
   "execution_count": 11,
   "id": "8ee51e70",
   "metadata": {},
   "outputs": [
    {
     "name": "stdout",
     "output_type": "stream",
     "text": [
      "The list sorted by age is : \n",
      "[{'name': 'Rob', 'age': 20}, {'name': 'John', 'age': 24}, {'name': 'Mark', 'age': 34}, {'name': 'Will', 'age': 56}]\n"
     ]
    }
   ],
   "source": [
    "#63. Python – Using itemgetter Ways to sort list of dictionaries by values in Python – Using lambda function \n",
    "\n",
    "from operator import itemgetter\n",
    "\n",
    "my_list = [{ \"name\" : \"Will\", \"age\" : 56},\n",
    "          { \"name\" : \"Rob\", \"age\" : 20 },\n",
    "          { \"name\" : \"Mark\" , \"age\" : 34 },\n",
    "          { \"name\" : \"John\" , \"age\" : 24 }]\n",
    "\n",
    "print(\"The list sorted by age is : \")\n",
    "print(sorted(my_list, key=itemgetter('age')))"
   ]
  },
  {
   "cell_type": "code",
   "execution_count": 16,
   "id": "5f85d5b7",
   "metadata": {},
   "outputs": [
    {
     "name": "stdout",
     "output_type": "stream",
     "text": [
      "{'name': 'priyanka', 'Math': 80, 'Science': 90, 'social_sci': 95, 'name1': 'rohit', 'Math1': 88, 'Science1': 80, 'social_sci1': 90}\n"
     ]
    }
   ],
   "source": [
    "#64. Python | Merging two Dictionaries Program to create grade calculator in Python\n",
    "def Merge(priyanka, rohit):\n",
    "    result = priyanka | rohit\n",
    "    return result\n",
    "\n",
    "def get_avg(marks):\n",
    "    total_sum=\n",
    "priyanka = { \"name\":\"priyanka\",\n",
    "         \"Math\" : 80,\n",
    "         \"Science\" :90,\n",
    "         \"social_sci\" :95\n",
    "       }\n",
    "         \n",
    "rohit = { \"name\":\"rohit\",\n",
    "          \"Math\" :88,\n",
    "          \"Science\" :80,\n",
    "          \"social_sci\" : 90\n",
    "        }\n",
    "\n",
    "dict_stud=Merge(priyanka,rohit)\n",
    "print(dict_stud)\n"
   ]
  },
  {
   "cell_type": "code",
   "execution_count": 17,
   "id": "0ac00cbf",
   "metadata": {},
   "outputs": [
    {
     "name": "stdout",
     "output_type": "stream",
     "text": [
      "OrderedDict([('e', None), ('n', None), ('g', None), ('i', None), ('r', None), ('s', None), (' ', None), ('o', None), ('c', None), ('k', None)])\n",
      "true\n"
     ]
    }
   ],
   "source": [
    "#65.Python | Check order of character in string using OrderedDict( )\n",
    "\n",
    "from collections import OrderedDict\n",
    "def check_order(string,pattern):\n",
    "    dict = OrderedDict.fromkeys(string)\n",
    "    print(dict)\n",
    "    patternlen=0\n",
    "    for key,value in dict.items():\n",
    "        if (key==pattern[patternlen]):\n",
    "            patternlen=patternlen+1\n",
    "        if (patternlen == (len(pattern))): \n",
    "            return 'true'\n",
    "    return 'false'\n",
    "string=\"engineers rocks\"\n",
    "pattern='er'\n",
    "print(check_order(string,pattern))"
   ]
  },
  {
   "cell_type": "code",
   "execution_count": 26,
   "id": "9df3146f",
   "metadata": {},
   "outputs": [
    {
     "name": "stdout",
     "output_type": "stream",
     "text": [
      "3\n"
     ]
    }
   ],
   "source": [
    "#66.Python Counter to find the size of largest subset of anagram words\n",
    "from collections import Counter\n",
    "\n",
    "def maxAnagramSize(input):\n",
    "    input = input.split(\" \")\n",
    "    for i in range(0,len(input)):\n",
    "        input[i]=''.join(sorted(input[i]))\n",
    "        freqDict = Counter(input)\n",
    "    print (max(freqDict.values()))\n",
    "\n",
    "\n",
    "input = 'ant magenta magnate tan gnamate'\n",
    "maxAnagramSize(input)"
   ]
  },
  {
   "cell_type": "code",
   "execution_count": 36,
   "id": "528c979d",
   "metadata": {},
   "outputs": [
    {
     "name": "stdout",
     "output_type": "stream",
     "text": [
      "['I', 'am', 'Priyanka', 'deo,', 'I', 'am', 'Data', 'engineer', ',', 'I', 'am', 'an', 'engineer', 'by', 'profession']\n",
      "I am Priyanka deo, Data engineer , an by profession\n"
     ]
    }
   ],
   "source": [
    "#67.Python | Remove all duplicates words from a given sentence\n",
    "sentence=\"I am Priyanka deo, I am Data engineer , I am an engineer by profession\"\n",
    "l=sentence.split()\n",
    "print(l)\n",
    "k=[]\n",
    "for i in l:\n",
    "    if sentence.count(i)>=1 and ( i not in k):\n",
    "        k.append(i)\n",
    "print(' '.join(k))"
   ]
  },
  {
   "cell_type": "code",
   "execution_count": 43,
   "id": "61cee04e",
   "metadata": {},
   "outputs": [
    {
     "name": "stdout",
     "output_type": "stream",
     "text": [
      "{'a': 'z', 'b': 'y', 'c': 'x', 'd': 'w', 'e': 'v', 'f': 'u', 'g': 't', 'h': 's', 'i': 'r', 'j': 'q', 'k': 'p', 'l': 'o', 'm': 'n', 'n': 'm', 'o': 'l', 'p': 'k', 'q': 'j', 'r': 'i', 's': 'h', 't': 'g', 'u': 'f', 'v': 'e', 'w': 'd', 'x': 'c', 'y': 'b', 'z': 'a'}\n",
      "kzizwlc\n"
     ]
    }
   ],
   "source": [
    "#68. Python Dictionary to find mirror characters in a string Counting the frequencies in a list using \n",
    "#dictionary in Python \n",
    "def mirrorChar(input):\n",
    "    original='abcdefghijklmnopqrstuvwxyz'\n",
    "    reverse='zyxwvutsrqponmlkjihgfedcba'\n",
    "    dictChars=dict(zip(original,reverse))\n",
    "    print(dictChars)\n",
    "    prefix=input[0:k-1]\n",
    "    suffix=input[k-1:]\n",
    "    mirror=''\n",
    "    for i in range(0,len(suffix)):\n",
    "         mirror = mirror + dictChars[suffix[i]]\n",
    "    print (prefix+mirror)\n",
    "          \n",
    "\n",
    "input=\"paradox\"\n",
    "k=1\n",
    "mirrorChar(input)"
   ]
  },
  {
   "cell_type": "code",
   "execution_count": 4,
   "id": "1a306a02",
   "metadata": {},
   "outputs": [
    {
     "name": "stdout",
     "output_type": "stream",
     "text": [
      "{'akash': 10, 'gaurav': 12, 'anand': 14, 'suraj': 20, 'akhil': 25, 'ashish': 30}\n"
     ]
    }
   ],
   "source": [
    "#69. Python | Convert a list of Tuples into Dictionary \n",
    "def Convert(tup, di):\n",
    "    di = dict(tup)\n",
    "    return di\n",
    "\n",
    "tups = [(\"akash\", 10), (\"gaurav\", 12), (\"anand\", 14), \n",
    "    (\"suraj\", 20), (\"akhil\", 25), (\"ashish\", 30)]\n",
    "di = {}\n",
    "print (Convert(tups, di))"
   ]
  },
  {
   "cell_type": "code",
   "execution_count": 45,
   "id": "c30cc06a",
   "metadata": {},
   "outputs": [
    {
     "name": "stdout",
     "output_type": "stream",
     "text": [
      "Possible\n"
     ]
    }
   ],
   "source": [
    "#70. Python counter and dictionary intersection example (Make a string using deletion and \n",
    "#rearrangement) \n",
    "\n",
    "from collections import Counter\n",
    " \n",
    "def makeString(str1,str2):\n",
    "    dict1 = Counter(str1)\n",
    "    dict2 = Counter(str2)\n",
    "\n",
    "    # output will be result = {'a':1,'b':2,'c':2}\n",
    "    result = dict1 & dict2\n",
    "    return result == dict1\n",
    " \n",
    "str1 = 'ABHISHEKsinGH'\n",
    "str2 = 'gfhfBHkooIHnfndSHEKsiAnG'\n",
    "if (makeString(str1,str2)==True):\n",
    "    print(\"Possible\")\n",
    "else:\n",
    "    print(\"Not Possible\")\n"
   ]
  },
  {
   "cell_type": "code",
   "execution_count": 47,
   "id": "1d72b482",
   "metadata": {},
   "outputs": [
    {
     "name": "stdout",
     "output_type": "stream",
     "text": [
      "[1, 2, 3]\n",
      "No\n"
     ]
    }
   ],
   "source": [
    "#71. Python dictionary, set and counter to check if frequencies can become same Scraping And \n",
    "#Finding Ordered Words In A Dictionary using Python Possible Words using given characters in \n",
    "#Python\n",
    "from collections import Counter\n",
    "  \n",
    "def allSame(input):\n",
    "    dict=Counter(input)\n",
    "    same = list(set(dict.values()))\n",
    "    print(same)\n",
    "    if len(same)>2:\n",
    "        print('No')\n",
    "    elif len (same)==2 and same[1]-same[0]>1:\n",
    "        print('No')\n",
    "    else:\n",
    "        print('Yes')\n",
    "        \n",
    "input = 'xxxyyzzt'\n",
    "allSame(input)"
   ]
  },
  {
   "cell_type": "code",
   "execution_count": null,
   "id": "43cc4b01",
   "metadata": {},
   "outputs": [],
   "source": [
    "#55.\n",
    "import re\n",
    "text=(\"\"\"\n",
    "        There are usually about 200 words in a paragraph, but this can vary widely.\n",
    "        Most paragraphs focus on a single idea that's expressed with an introductory sentence,https://youtube.com \n",
    "        then followed by two or more supporting sentences about the idea.Visit https://google.com \"\"\")\n",
    "urls = re.findall('http[s]?://(?:[a-zA-Z]|[0-9]|[$-_@.&+]|[!*\\(\\),]|(?:%[0-9a-fA-F][0-9a-fA-F]))+', text)\n",
    "print(\"Urls: \",urls)"
   ]
  }
 ],
 "metadata": {
  "kernelspec": {
   "display_name": "Python 3 (ipykernel)",
   "language": "python",
   "name": "python3"
  },
  "language_info": {
   "codemirror_mode": {
    "name": "ipython",
    "version": 3
   },
   "file_extension": ".py",
   "mimetype": "text/x-python",
   "name": "python",
   "nbconvert_exporter": "python",
   "pygments_lexer": "ipython3",
   "version": "3.10.4"
  }
 },
 "nbformat": 4,
 "nbformat_minor": 5
}
