{
 "cells": [
  {
   "cell_type": "code",
   "execution_count": 1,
   "id": "0c5e1269",
   "metadata": {},
   "outputs": [
    {
     "ename": "SyntaxError",
     "evalue": "invalid decimal literal (1834996044.py, line 9)",
     "output_type": "error",
     "traceback": [
      "\u001b[1;36m  Input \u001b[1;32mIn [1]\u001b[1;36m\u001b[0m\n\u001b[1;33m    5.The control comes to the condition and it will check the items from the given sequence it will\u001b[0m\n\u001b[1;37m     ^\u001b[0m\n\u001b[1;31mSyntaxError\u001b[0m\u001b[1;31m:\u001b[0m invalid decimal literal\n"
     ]
    }
   ],
   "source": [
    "Section : For / while loop\n",
    "    \n",
    "1. What is difference between for loop and while loop in python?\n",
    "Ans: For loop =\n",
    "1.   syntax : for i in range:\n",
    "                <statements>\n",
    "2. for loop is used when we know the number of iterations.\n",
    "3. If there is no condition then the loop iterates infinite time.\n",
    "5.The control comes to the condition and it will check the items from the given sequence it will \n",
    "terminate the statement and start the process again and then from the given range it will select \n",
    "up the next value and execute the statement and it will keep terminating until the range becomes over.              \n",
    "6.In the case of for loop if the condition is not true the first time then control will never enter in a loop.           \n",
    "7. alpha = [‘a’,’b’,’c’]\n",
    "for x in alpha:\n",
    "print(x)\n",
    "\n",
    "While loop =\n",
    "1. syntax : while condition:\n",
    "                <statement>\n",
    "2. The while loop is used when we did not know how many iterations are required.\n",
    "3. But in the case of while if the condition is missing then it shows an error.\n",
    "5.In the case of while the control will check within the loop only when this while condition is \n",
    "true when the condition is true,it will terminate the body of the loop and then\n",
    "again check the condition whether it is true or not.\n",
    "6.In the case of a while loop if the condition is true then the loop is iterated.\n",
    "7.n = 2\n",
    "\n",
    "while n < 6:\n",
    "print(n)\n",
    "n += 1"
   ]
  },
  {
   "cell_type": "code",
   "execution_count": 2,
   "id": "f7af4ec6",
   "metadata": {},
   "outputs": [
    {
     "ename": "SyntaxError",
     "evalue": "invalid syntax (744563553.py, line 1)",
     "output_type": "error",
     "traceback": [
      "\u001b[1;36m  Input \u001b[1;32mIn [2]\u001b[1;36m\u001b[0m\n\u001b[1;33m    2. How to exit from the loop? 3. How to skip some iteration from the loop?\u001b[0m\n\u001b[1;37m       ^\u001b[0m\n\u001b[1;31mSyntaxError\u001b[0m\u001b[1;31m:\u001b[0m invalid syntax\n"
     ]
    }
   ],
   "source": [
    "2. How to exit from the loop? 3. How to skip some iteration from the loop? \n",
    "Ans: \n",
    "Break : The Python break statement immediately terminates a loop entirely.\n",
    "Program execution proceeds to the first statement following the loop body.\n",
    "\n",
    "Continue : The Python continue statement immediately terminates the current loop iteration. Execution jumps to the top of the loop, and the \n",
    "controlling expression is re-evaluated to determine whether the loop will execute again or terminate.\n",
    "\n",
    "while(exp):  #after continue statments control comes to the start of the programs\n",
    "    <statements>\n",
    "    <statements>\n",
    "    break\n",
    "    <statements>\n",
    "    <statements>\n",
    "    continue  \n",
    "    <statements>\n",
    "    <statements>\n",
    "    \n",
    "<statements>  #after break control comes to execute these statments\n",
    "<statements>"
   ]
  },
  {
   "cell_type": "code",
   "execution_count": 3,
   "id": "e7239644",
   "metadata": {},
   "outputs": [
    {
     "ename": "SyntaxError",
     "evalue": "invalid character '—' (U+2014) (1449273046.py, line 3)",
     "output_type": "error",
     "traceback": [
      "\u001b[1;36m  Input \u001b[1;32mIn [3]\u001b[1;36m\u001b[0m\n\u001b[1;33m    through exhaustion of the iterable — but not when the loop is terminated by a break statement.\u001b[0m\n\u001b[1;37m                                       ^\u001b[0m\n\u001b[1;31mSyntaxError\u001b[0m\u001b[1;31m:\u001b[0m invalid character '—' (U+2014)\n"
     ]
    }
   ],
   "source": [
    "4.When else part will be executed in loop?\n",
    "Ans: Loop statements may have an else clause. It is executed when the for loop terminates \n",
    "    through exhaustion of the iterable — but not when the loop is terminated by a break statement.\n",
    "    The else clause is executed when the for loop terminates after the exhaustion of the iterable.\n",
    "    \n",
    "example:\n",
    "    \n",
    "for i in [1,2,3,4,5]:\n",
    "    print (i)\n",
    "else:\n",
    "    print (\"for loop is done\")\n",
    "\n",
    "print (\"Outside the for loop\")\n",
    "\n",
    "Output :\n",
    "1\n",
    "2\n",
    "3\n",
    "4\n",
    "5\n",
    "for loop is done\n",
    "Outside the for loop"
   ]
  },
  {
   "cell_type": "code",
   "execution_count": 18,
   "id": "4d7dd2c3",
   "metadata": {},
   "outputs": [
    {
     "name": "stdout",
     "output_type": "stream",
     "text": [
      "6 5 4 3 2 1 0 "
     ]
    },
    {
     "data": {
      "text/plain": [
       "[6, 5, 4, 3, 2, 1]"
      ]
     },
     "execution_count": 18,
     "metadata": {},
     "output_type": "execute_result"
    }
   ],
   "source": [
    "#5. How to iterate backward? E.g to print upto 6. \n",
    "#Like 6,5,4,3,2,1. \n",
    "\n",
    "for i in range(6,-1,-1):\n",
    "    print(i,end=\" \")\n",
    "\n",
    "#How we can iterate backward on list?\n",
    "\n",
    "def lst_reversal(lst):\n",
    "    new_lst=lst[::-1]\n",
    "    return new_lst\n",
    "\n",
    "lst=[1,2,3,4,5,6]\n",
    "lst_reversal(lst)"
   ]
  },
  {
   "cell_type": "code",
   "execution_count": 22,
   "id": "6c273c4f",
   "metadata": {},
   "outputs": [
    {
     "name": "stdout",
     "output_type": "stream",
     "text": [
      "{1: 'priyanka', 2: 'rohit', 3: 'sanavi'}\n"
     ]
    }
   ],
   "source": [
    "'''Section : Dictionary\n",
    "    \n",
    "1. How to create dictionary?\n",
    "Ans: Dictionaries are used to store data values in key:value pairs.\n",
    "     A dictionary is a collection which is ordered*, changeable and do not allow duplicates.'''\n",
    "    \n",
    "dict={1:'priyanka',2:'rohit',3:'sanavi'}\n",
    "print(dict)"
   ]
  },
  {
   "cell_type": "code",
   "execution_count": 31,
   "id": "c2a0c451",
   "metadata": {},
   "outputs": [
    {
     "name": "stdout",
     "output_type": "stream",
     "text": [
      "priyanka\n",
      "dict_keys([1, 2, 3])\n",
      "dict_items([(1, 'priyanka'), (2, 'rohit'), (3, 'sanavi')])\n",
      "dict_values(['priyanka', 'rohit', 'sanavi'])\n",
      "rohit\n",
      "{1: 'priyanka', 2: 'rohit', 3: 'sanavi', 4: 'puppy'}\n"
     ]
    }
   ],
   "source": [
    "#2.How to access data from dictionary? Key, value and both\n",
    "dict={1:'priyanka',2:'rohit',3:'sanavi'}\n",
    "x=dict[1]\n",
    "print(x)\n",
    "y=dict.keys()\n",
    "print(y)\n",
    "z=dict.items()\n",
    "print(z)\n",
    "a=dict.values()\n",
    "print(a)\n",
    "b=dict.get(2)\n",
    "print(b)\n",
    "dict[4]=\"puppy\"\n",
    "print(dict)"
   ]
  },
  {
   "cell_type": "code",
   "execution_count": 38,
   "id": "a85abcdd",
   "metadata": {},
   "outputs": [
    {
     "name": "stdout",
     "output_type": "stream",
     "text": [
      "{1: 'priyanka', 2: 'rohit', 3: 'sanavi', 4: 'puppy', 5: 'grandmother', 6: 'grandfather'}\n",
      "{2: 'rohit', 3: 'sanavi', 4: 'puppy', 5: 'grandmother', 6: 'grandfather'}\n",
      "{2: 'rohit', 3: 'sanavi', 4: 'puppy', 5: 'grandmother'}\n",
      "{2: 'rohit', 3: 'sanavi', 4: 'puppy'}\n"
     ]
    }
   ],
   "source": [
    "#3.How to delete element from dictionary? \n",
    "dict={1:'priyanka',2:'rohit',3:'sanavi', 4: 'puppy',5:'grandmother',6:'grandfather'}\n",
    "print(dict)\n",
    "dict.pop(1)\n",
    "print(dict)\n",
    "dict.popitem()\n",
    "print(dict)\n",
    "del dict[5]\n",
    "print(dict)"
   ]
  },
  {
   "cell_type": "code",
   "execution_count": 39,
   "id": "995e6d11",
   "metadata": {},
   "outputs": [
    {
     "ename": "SyntaxError",
     "evalue": "invalid syntax (1261232307.py, line 2)",
     "output_type": "error",
     "traceback": [
      "\u001b[1;36m  Input \u001b[1;32mIn [39]\u001b[1;36m\u001b[0m\n\u001b[1;33m    Ans:\u001b[0m\n\u001b[1;37m        ^\u001b[0m\n\u001b[1;31mSyntaxError\u001b[0m\u001b[1;31m:\u001b[0m invalid syntax\n"
     ]
    }
   ],
   "source": [
    "4. What is purpose of get(), update(), setdefault() methods of dictionary?\n",
    "Ans:\n",
    "get(): The get() method returns the value for the specified key if the key is in the dictionary.\n",
    "    x = thisdict.get(\"model\")\n",
    "    \n",
    "update(): The update() method will update the dictionary with the items from the given argument.\n",
    "            The argument must be a dictionary, or an iterable object with key:value pairs.\n",
    "thisdict = {\n",
    "  \"brand\": \"Ford\",\n",
    "  \"model\": \"Mustang\",\n",
    "  \"year\": 1964\n",
    "}\n",
    "thisdict.update({\"year\": 2020})\n",
    "\n",
    "\n",
    "setdefault(): The update() method will update the dictionary with the items from the given argument.\n",
    "                The argument must be a dictionary, or an iterable object with key:value pairs.\n",
    "            \n",
    "car = {\n",
    "  \"brand\": \"Ford\",\n",
    "  \"model\": \"Mustang\",\n",
    "  \"year\": 1964\n",
    "}\n",
    "\n",
    "x = car.setdefault(\"model\", \"Bronco\")\n",
    "\n",
    "print(x)"
   ]
  },
  {
   "cell_type": "code",
   "execution_count": 40,
   "id": "1769400a",
   "metadata": {},
   "outputs": [
    {
     "name": "stdout",
     "output_type": "stream",
     "text": [
      "{'P': 1, 'r': 1, 'i': 1, 'y': 1, 'a': 3, 'n': 1, 'k': 2, ' ': 1, 'd': 1, 'e': 1, 'o': 2}\n"
     ]
    }
   ],
   "source": [
    "#5.Write a program to find number of occurences of each character of each letter present in the \n",
    "#given string? \n",
    "\n",
    "str=\"Priyankkaa deoo\"\n",
    "count={}\n",
    "\n",
    "for i in str:\n",
    "    if i in count:\n",
    "        count[i]+=1\n",
    "    else:\n",
    "        count[i]=1\n",
    "        \n",
    "print(count)"
   ]
  },
  {
   "cell_type": "code",
   "execution_count": 8,
   "id": "6eb440a8",
   "metadata": {},
   "outputs": [
    {
     "name": "stdout",
     "output_type": "stream",
     "text": [
      "File is exist\n",
      "HI I am priyankka \n"
     ]
    }
   ],
   "source": [
    "#Section : File Handling\n",
    "#1.. Write a program to check whether the given file exist or not. If it is available then \n",
    "#print its content?\n",
    "import os\n",
    "\n",
    "if os.path.isfile(\"abc.txt\"):\n",
    "    print(\"File is exist\")\n",
    "    f=open(\"abc.txt\",\"r\")\n",
    "    res=f.readline()\n",
    "    print(res)\n",
    "else:\n",
    "    print(\"File does not exist\")\n"
   ]
  },
  {
   "cell_type": "code",
   "execution_count": 18,
   "id": "1f100acc",
   "metadata": {},
   "outputs": [
    {
     "name": "stdout",
     "output_type": "stream",
     "text": [
      "Enter Filename: abc.txt\n",
      "abc.txt\n",
      "['HI', 'I', 'am', 'priyankka']\n",
      "4\n"
     ]
    }
   ],
   "source": [
    "#2.Write a function in Python to count and display the total number of words in a text file. \n",
    "import os\n",
    "def count_words(filename):\n",
    "    op=open(filename)\n",
    "    read_data=op.read()\n",
    "    count=read_data.split()\n",
    "    print(count)\n",
    "    print(len(count))\n",
    "    \n",
    "    \n",
    "filename=input(\"Enter Filename: \")\n",
    "if os.path.isfile(filename):\n",
    "    print(filename)\n",
    "else:\n",
    "    print(\"File does not exists\")\n",
    "\n",
    "count_words(filename)"
   ]
  },
  {
   "cell_type": "code",
   "execution_count": 21,
   "id": "e2ebb8de",
   "metadata": {},
   "outputs": [
    {
     "name": "stdout",
     "output_type": "stream",
     "text": [
      "Enter Filename: abc.txt\n",
      "abc.txt\n",
      "['the', 'Hi', 'I', 'am', 'the', 'priyankka', 'deoo', 'the']\n",
      "Count of the:  3\n"
     ]
    }
   ],
   "source": [
    "#3.Write a function in Python to read lines from a text file. Your function should find and display \n",
    "#the occurrence of the word \"the\"\n",
    "\n",
    "def occ_word(filename):\n",
    "    op=open(filename)\n",
    "    read=op.read()\n",
    "    words=read.split()\n",
    "    print(words)\n",
    "    count=0\n",
    "    for i in words:\n",
    "        if i=='the':\n",
    "            count+=1\n",
    "        else:\n",
    "            pass\n",
    "    print(\"Count of the: \",count)\n",
    "    \n",
    "filename=input(\"Enter Filename: \")\n",
    "if os.path.isfile(filename):\n",
    "    print(filename)\n",
    "else:\n",
    "    print(\"File does not exists\")\n",
    "\n",
    "occ_word(filename)"
   ]
  },
  {
   "cell_type": "code",
   "execution_count": 35,
   "id": "fb8b2e82",
   "metadata": {},
   "outputs": [
    {
     "name": "stdout",
     "output_type": "stream",
     "text": [
      "Enter Filename: abc.txt\n",
      "abc.txt\n",
      "['the', 'Hi', 'I', 'am', 'the', 'Priyankka', 'DEOO', 'the']\n",
      "count of uppr case words are:  2\n"
     ]
    }
   ],
   "source": [
    "#4. Write a function in Python to count uppercase character in a text file. \n",
    "import os\n",
    "def count_upper(filename):\n",
    "    op=open(filename)\n",
    "    read=op.read()\n",
    "    words=read.split()\n",
    "    print(words)\n",
    "    count_u=0\n",
    "    for i in words:\n",
    "        if i.isupper():\n",
    "            count_u+=1\n",
    "        else:\n",
    "            pass\n",
    "    print(\"count of uppr case words are: \",count_u)\n",
    "    \n",
    "    \n",
    "filename=input(\"Enter Filename: \")\n",
    "if os.path.isfile(filename):\n",
    "    print(filename)\n",
    "else:\n",
    "    print(\"file not found\")\n",
    "\n",
    "count_upper(filename)\n"
   ]
  },
  {
   "cell_type": "code",
   "execution_count": 38,
   "id": "6f228f3b",
   "metadata": {},
   "outputs": [
    {
     "name": "stdout",
     "output_type": "stream",
     "text": [
      "Enter Filename: abc.txt\n",
      "abc.txt\n",
      "['the', 'Hi', 'I', 'am', 'the', 'Priyankka', 'DEOO', 'the']\n",
      "total number of e in txt file are:  3\n"
     ]
    }
   ],
   "source": [
    "#5.Write a function in Python to count words in a text file those are ending with alphabet \"e\".\n",
    "import os\n",
    "def ending_e(filename):\n",
    "    op=open(filename)\n",
    "    read=op.read()\n",
    "    words=read.split()\n",
    "    print(words)\n",
    "    ecount=0\n",
    "    for i in words:\n",
    "        if i.endswith('e'):\n",
    "            ecount+=1\n",
    "        else:\n",
    "            pass\n",
    "    print(\"total number of e in txt file are: \", ecount)\n",
    "\n",
    "filename=input(\"Enter Filename: \")\n",
    "if os.path.isfile(filename):\n",
    "    print(filename)\n",
    "else:\n",
    "    print(\"file not found\")\n",
    "\n",
    "ending_e(filename)"
   ]
  },
  {
   "cell_type": "code",
   "execution_count": 40,
   "id": "888acf50",
   "metadata": {},
   "outputs": [
    {
     "ename": "IndentationError",
     "evalue": "unindent does not match any outer indentation level (<tokenize>, line 12)",
     "output_type": "error",
     "traceback": [
      "\u001b[1;36m  File \u001b[1;32m<tokenize>:12\u001b[1;36m\u001b[0m\n\u001b[1;33m    example =  def user(fname,lname,age):\u001b[0m\n\u001b[1;37m    ^\u001b[0m\n\u001b[1;31mIndentationError\u001b[0m\u001b[1;31m:\u001b[0m unindent does not match any outer indentation level\n"
     ]
    }
   ],
   "source": [
    "#Section  : General\n",
    "1. what are the types if argument?\n",
    "Ans: 1. default arguments : Default arguments are values that are provided while defining functions.\n",
    "        example=  def defArg(x,y=10):\n",
    "                    print(\"x:\", x)\n",
    "                    print(\"y:\", y)\n",
    "                    defArg(200,20)\n",
    "            \n",
    "2.keyword arguments :During a function call, values passed through arguments need not \n",
    "                    be in the order of parameters in the function definition.\n",
    "                    This can be achieved by keyword arguments. \n",
    "            example =  def user(fname,lname,age):\n",
    "                        print(fname,lname,age)\n",
    "                        user(age=\"30\",fname=\"priyankka\", lname=\"deoo\")\n",
    "                        user(lname=\"deoo\", fname=\"priyankka\",age=23)\n",
    "\n",
    "3. positional arguments  :During a function call, values passed through arguments should \n",
    "                          be in the order of parameters in the function definition. \n",
    "                          This is called positional arguments.\n",
    "\n",
    "4.Variable-length arguments\n",
    "Variable-length arguments are also known as arbitrary arguments. \n",
    "If we don’t know the number of arguments needed for the function in advance,\n",
    "we can use arbitrary arguments\n",
    "Two types of arbitrary arguments\n",
    "4.1.arbitrary positional arguments: For arbitrary positional argument, an asterisk (*) is placed\n",
    "                                    before a parameter in function definition which can hold non-keyword\n",
    "                                    variable-length arguments. These arguments will be wrapped up in a tuple. \n",
    "                                    Before the variable number of arguments, zero or more normal arguments may occur.\n",
    "                        example =def add(*b):\n",
    "                                    result=0\n",
    "                                 for i in b:\n",
    "                                 result=result+i\n",
    "                                    return result\n",
    "\n",
    "                                print (add(1,2,3,4,5))\n",
    "                                #Output:15\n",
    "                                print (add(10,20))\n",
    "                                #Output:30\n",
    "5.2.arbitrary keyword arguments: For arbitrary positional argument, a double asterisk (**) is placed\n",
    "                                before a parameter in a function which can hold keyword variable-length \n",
    "                                arguments.\n",
    "                    example =   def fn(**a):\n",
    "                            for i in a.items():\n",
    "                            print (i)\n",
    "                            fn(numbers=5,colors=\"blue\",fruits=\"apple\")\n",
    "                            '''\n",
    "                                Output:\n",
    "                                ('numbers', 5)\n",
    "                                ('colors', 'blue')\n",
    "                                ('fruits', 'apple')\n",
    "                            '''"
   ]
  },
  {
   "cell_type": "code",
   "execution_count": 46,
   "id": "f9a8c6b2",
   "metadata": {},
   "outputs": [
    {
     "name": "stdout",
     "output_type": "stream",
     "text": [
      "function name is: <function dec1.<locals>.inner at 0x000001068F9524D0>\n"
     ]
    },
    {
     "ename": "NameError",
     "evalue": "name 'start_end' is not defined",
     "output_type": "error",
     "traceback": [
      "\u001b[1;31m---------------------------------------------------------------------------\u001b[0m",
      "\u001b[1;31mNameError\u001b[0m                                 Traceback (most recent call last)",
      "Input \u001b[1;32mIn [46]\u001b[0m, in \u001b[0;36m<cell line: 16>\u001b[1;34m()\u001b[0m\n\u001b[0;32m     12\u001b[0m \u001b[38;5;129m@dec1\u001b[39m\n\u001b[0;32m     13\u001b[0m \u001b[38;5;28;01mdef\u001b[39;00m \u001b[38;5;21mmain\u001b[39m(start,end):\n\u001b[0;32m     14\u001b[0m     \u001b[38;5;28mprint\u001b[39m(\u001b[38;5;124m\"\u001b[39m\u001b[38;5;124mfunction to display start and end\u001b[39m\u001b[38;5;124m\"\u001b[39m)\n\u001b[1;32m---> 16\u001b[0m \u001b[43mmain\u001b[49m\u001b[43m(\u001b[49m\u001b[38;5;241;43m10\u001b[39;49m\u001b[43m,\u001b[49m\u001b[38;5;241;43m20\u001b[39;49m\u001b[43m)\u001b[49m\n",
      "Input \u001b[1;32mIn [46]\u001b[0m, in \u001b[0;36mdec1.<locals>.inner\u001b[1;34m(start, end)\u001b[0m\n\u001b[0;32m      5\u001b[0m \u001b[38;5;28;01mdef\u001b[39;00m \u001b[38;5;21minner\u001b[39m(start,end):\n\u001b[0;32m      6\u001b[0m     \u001b[38;5;28mprint\u001b[39m(\u001b[38;5;124m\"\u001b[39m\u001b[38;5;124mfunction name is:\u001b[39m\u001b[38;5;124m\"\u001b[39m , main)\n\u001b[1;32m----> 7\u001b[0m     res\u001b[38;5;241m=\u001b[39m\u001b[43mstart_end\u001b[49m\n\u001b[0;32m      8\u001b[0m     \u001b[38;5;28;01mreturn\u001b[39;00m func\n",
      "\u001b[1;31mNameError\u001b[0m: name 'start_end' is not defined"
     ]
    }
   ],
   "source": [
    "#2. What is decorator? Write a decorator to display function name and print start and end. \n",
    "#Ans:  DEcorators are nothing but the enhancement to the existing function\n",
    "\n",
    "def dec1(func):\n",
    "    def inner(start,end):\n",
    "        print(\"function name is:\" , main)\n",
    "        res=start_end\n",
    "        return func\n",
    "    return inner\n",
    "\n",
    "\n",
    "@dec1\n",
    "def main(start,end):\n",
    "    print(\"function to display start and end\")\n",
    "    \n",
    "main(10,20)"
   ]
  },
  {
   "cell_type": "code",
   "execution_count": 47,
   "id": "4200054c",
   "metadata": {},
   "outputs": [
    {
     "ename": "SyntaxError",
     "evalue": "invalid decimal literal (3810012071.py, line 8)",
     "output_type": "error",
     "traceback": [
      "\u001b[1;36m  Input \u001b[1;32mIn [47]\u001b[1;36m\u001b[0m\n\u001b[1;33m    2.They can also be used to pipeline a number of operations\u001b[0m\n\u001b[1;37m     ^\u001b[0m\n\u001b[1;31mSyntaxError\u001b[0m\u001b[1;31m:\u001b[0m invalid decimal literal\n"
     ]
    }
   ],
   "source": [
    "#3. What is generator? Explain advantages. Write a generator for Fibonacci series. \n",
    "Ans: Generators are basically functions that return traversable objects or items. \n",
    "These functions do not produce all the items at once, rather they produce them one \n",
    "at a time and only when required. Whenever the for statement is included to iterate\n",
    "over a set of items, a generator function is run. \n",
    "Advantages:\n",
    "    1. Can be used to produce an infinite number of items.\n",
    "    2.They can also be used to pipeline a number of operations\n",
    "    3.Without Generators in Python, producing iterables is extremely difficult and lengthy.\n",
    "    4.Memory is saved as the items are produced when required, unlike normal Python functions. \n",
    "        This fact becomes very important when you need to create a huge number of iterators.\n",
    "        This is also considered as the biggest advantage of generators.\n",
    "\n",
    "        "
   ]
  },
  {
   "cell_type": "code",
   "execution_count": 48,
   "id": "35699278",
   "metadata": {},
   "outputs": [
    {
     "name": "stdout",
     "output_type": "stream",
     "text": [
      "0\n",
      "1\n",
      "1\n",
      "2\n",
      "3\n",
      "5\n",
      "8\n",
      "13\n",
      "21\n",
      "34\n",
      "55\n",
      "89\n",
      "144\n",
      "233\n",
      "377\n",
      "610\n",
      "987\n",
      "1597\n",
      "2584\n",
      "4181\n",
      "6765\n",
      "10946\n",
      "17711\n",
      "28657\n",
      "46368\n",
      "75025\n",
      "121393\n",
      "196418\n",
      "317811\n",
      "514229\n",
      "832040\n",
      "1346269\n",
      "2178309\n",
      "3524578\n",
      "5702887\n",
      "9227465\n",
      "14930352\n",
      "24157817\n",
      "39088169\n",
      "63245986\n",
      "102334155\n",
      "165580141\n",
      "267914296\n",
      "433494437\n",
      "701408733\n",
      "1134903170\n",
      "1836311903\n",
      "2971215073\n",
      "4807526976\n",
      "7778742049\n",
      "12586269025\n",
      "20365011074\n",
      "32951280099\n",
      "53316291173\n",
      "86267571272\n",
      "139583862445\n",
      "225851433717\n",
      "365435296162\n",
      "591286729879\n",
      "956722026041\n",
      "1548008755920\n",
      "2504730781961\n",
      "4052739537881\n",
      "6557470319842\n",
      "10610209857723\n",
      "17167680177565\n",
      "27777890035288\n",
      "44945570212853\n",
      "72723460248141\n",
      "117669030460994\n",
      "190392490709135\n",
      "308061521170129\n",
      "498454011879264\n",
      "806515533049393\n",
      "1304969544928657\n",
      "2111485077978050\n",
      "3416454622906707\n",
      "5527939700884757\n",
      "8944394323791464\n",
      "14472334024676221\n",
      "23416728348467685\n",
      "37889062373143906\n",
      "61305790721611591\n",
      "99194853094755497\n",
      "160500643816367088\n",
      "259695496911122585\n",
      "420196140727489673\n",
      "679891637638612258\n",
      "1100087778366101931\n",
      "1779979416004714189\n",
      "2880067194370816120\n",
      "4660046610375530309\n",
      "7540113804746346429\n",
      "12200160415121876738\n",
      "19740274219868223167\n",
      "31940434634990099905\n",
      "51680708854858323072\n",
      "83621143489848422977\n",
      "135301852344706746049\n",
      "218922995834555169026\n"
     ]
    }
   ],
   "source": [
    "#fibbonaci series using genrators\n",
    "def fib(num):\n",
    "    a = 0\n",
    "    b = 1\n",
    "    for i in range(num):\n",
    "        yield a\n",
    "        a, b = b, a + b # Adds values together then swaps them\n",
    "\n",
    "for x in fib(100):\n",
    "    print(x)"
   ]
  },
  {
   "cell_type": "code",
   "execution_count": 49,
   "id": "f2030269",
   "metadata": {},
   "outputs": [
    {
     "ename": "SyntaxError",
     "evalue": "invalid syntax (1615434340.py, line 2)",
     "output_type": "error",
     "traceback": [
      "\u001b[1;36m  Input \u001b[1;32mIn [49]\u001b[1;36m\u001b[0m\n\u001b[1;33m    link : https://www.geeksforgeeks.org/difference-between-shallow-and-deep-copy-of-a-class/\u001b[0m\n\u001b[1;37m                ^\u001b[0m\n\u001b[1;31mSyntaxError\u001b[0m\u001b[1;31m:\u001b[0m invalid syntax\n"
     ]
    }
   ],
   "source": [
    "#4. What is difference between shallow copy and deepcopy?\n",
    "link : https://www.geeksforgeeks.org/difference-between-shallow-and-deep-copy-of-a-class/ "
   ]
  },
  {
   "cell_type": "code",
   "execution_count": 50,
   "id": "4150fd94",
   "metadata": {},
   "outputs": [
    {
     "ename": "SyntaxError",
     "evalue": "invalid syntax (3819968921.py, line 2)",
     "output_type": "error",
     "traceback": [
      "\u001b[1;36m  Input \u001b[1;32mIn [50]\u001b[1;36m\u001b[0m\n\u001b[1;33m    Ans: Python has many built-in exceptions that are raised when your program encounters an error (something in the program goes wrong).\u001b[0m\n\u001b[1;37m                ^\u001b[0m\n\u001b[1;31mSyntaxError\u001b[0m\u001b[1;31m:\u001b[0m invalid syntax\n"
     ]
    }
   ],
   "source": [
    "#5.How exception handling work in python?\n",
    "Ans: Python has many built-in exceptions that are raised when your program encounters an error (something in the program goes wrong).\n",
    "\n",
    "When these exceptions occur, the Python interpreter stops the current process and passes it to the calling process until it is handled. If not handled, the program will crash.\n",
    "\n",
    "For example, let us consider a program where we have a function A that calls function B, which in turn calls function C. If an exception occurs in function C but is not handled in C, the exception passes to B and then to A.\n",
    "\n",
    "If never handled, an error message is displayed and our program comes to a sudden unexpected halt.\n",
    "\n",
    "In Python, exceptions can be handled using a try statement.\n",
    "\n",
    "The critical operation which can raise an exception is placed inside the try clause. The code that handles the exceptions is written in the except clause."
   ]
  },
  {
   "cell_type": "code",
   "execution_count": 6,
   "id": "a7cf5e66",
   "metadata": {},
   "outputs": [
    {
     "name": "stdout",
     "output_type": "stream",
     "text": [
      "{'a': 2}\n",
      "{'a': 3}\n",
      "{'a': 4}\n",
      "{'a': 5, 'b': 1}\n",
      "{'a': 5, 'b': 1, 'h': 2}\n",
      "{'a': 5, 'b': 1, 'h': 3}\n",
      "{'a': 5, 'b': 1, 'h': 4}\n",
      "{'a': 5, 'b': 1, 'h': 5}\n",
      "{'a': 6, 'b': 1, 'h': 5}\n",
      "{'a': 7, 'b': 1, 'h': 5}\n",
      "{'a': 8, 'b': 1, 'h': 5}\n",
      "{'a': 8, 'b': 1, 'h': 5}\n"
     ]
    }
   ],
   "source": [
    "#1. Write a python program for count character from string after each character is changed. \n",
    "#e.g. input = 'aaaabahhhhhaaa' output = a4b1a1h5a3 \n",
    "\n",
    "def count_char(input):\n",
    "    feq={}\n",
    "    for i in input:\n",
    "        if i in feq:\n",
    "            feq[i]+=1\n",
    "        else:\n",
    "            feq[i]=1\n",
    "    print(feq)\n",
    "        \n",
    "    \n",
    "    \n",
    "input='aaaabahhhhhaaa'\n",
    "count_char(input)"
   ]
  },
  {
   "cell_type": "code",
   "execution_count": null,
   "id": "a6664194",
   "metadata": {},
   "outputs": [],
   "source": [
    "#2. You have a list of N+1 integers between 1 and N. You know there’s at least one duplicate, \n",
    "#but there might be more. For example, if N=3, your list might be 3, 1, 1, 3 or it might be 1, 3, 2, 2 \n",
    "#Print out a number that appears in the list more than once."
   ]
  }
 ],
 "metadata": {
  "kernelspec": {
   "display_name": "Python 3 (ipykernel)",
   "language": "python",
   "name": "python3"
  },
  "language_info": {
   "codemirror_mode": {
    "name": "ipython",
    "version": 3
   },
   "file_extension": ".py",
   "mimetype": "text/x-python",
   "name": "python",
   "nbconvert_exporter": "python",
   "pygments_lexer": "ipython3",
   "version": "3.10.4"
  }
 },
 "nbformat": 4,
 "nbformat_minor": 5
}
